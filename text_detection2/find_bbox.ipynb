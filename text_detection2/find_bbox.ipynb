{
 "cells": [
  {
   "cell_type": "code",
   "execution_count": 1,
   "metadata": {},
   "outputs": [],
   "source": [
    "from tqdm import tqdm\n",
    "import os\n",
    "from os.path import join\n",
    "import cv2\n",
    "from text_detect import TextDetection, pltShow\n",
    "from utils import non_max_suppression_fast, four_point_transform\n",
    "import numpy as np"
   ]
  },
  {
   "cell_type": "code",
   "execution_count": 2,
   "metadata": {},
   "outputs": [],
   "source": [
    "img_files = []\n",
    "for roots, dirs, files in os.walk('../cutted_data'):\n",
    "    img_files.extend(files)"
   ]
  },
  {
   "cell_type": "code",
   "execution_count": 3,
   "metadata": {},
   "outputs": [],
   "source": [
    "imgs_dir = '../cutted_data'"
   ]
  },
  {
   "cell_type": "code",
   "execution_count": 4,
   "metadata": {},
   "outputs": [],
   "source": [
    "def p_(idx1, idx2):\n",
    "    for img_ in tqdm(img_files[idx1:idx2]):\n",
    "        img_name = os.path.splitext(img_)[0]\n",
    "        img_path = join(imgs_dir, img_)\n",
    "        img_dir = join('../new_data', img_name)\n",
    "        try:\n",
    "            os.mkdir(img_dir)\n",
    "        except:\n",
    "            print('File exists')\n",
    "        \n",
    "        try:\n",
    "            td = TextDetection(img_path)\n",
    "            res, boxes = td.detect()\n",
    "        #     mergerd_boxes = non_max_suppression_fast(np.array(boxes), 0.05)\n",
    "        #     boxes = np.concatenate((mergerd_boxes, boxes), axis=0)\n",
    "\n",
    "            img_m = cv2.imread(img_path)\n",
    "            for i in range(len(boxes)):\n",
    "                tmp_box = np.array(boxes[i])\n",
    "                cv2.imwrite(join(img_dir, img_name)+'_'+str(i)+'.jpg',\n",
    "                            four_point_transform(img_m, tmp_box))\n",
    "            np.save(join(img_dir, img_name)+'_bbox.npy', boxes)\n",
    "        except:\n",
    "            print('Error File:{}'.format(img_))"
   ]
  },
  {
   "cell_type": "code",
   "execution_count": 5,
   "metadata": {
    "scrolled": true
   },
   "outputs": [],
   "source": [
    "from multiprocessing import Process"
   ]
  },
  {
   "cell_type": "code",
   "execution_count": 6,
   "metadata": {},
   "outputs": [],
   "source": [
    "n_cpu = 12"
   ]
  },
  {
   "cell_type": "code",
   "execution_count": 7,
   "metadata": {
    "scrolled": true
   },
   "outputs": [],
   "source": [
    "batch_size = int(len(img_files)/n_cpu)"
   ]
  },
  {
   "cell_type": "code",
   "execution_count": 8,
   "metadata": {
    "scrolled": true
   },
   "outputs": [
    {
     "name": "stderr",
     "output_type": "stream",
     "text": [
      "[==================================================================] 472 of 472                           ] 0 of 1914\n",
      "[===========================================                      ] 945 of 1401\r"
     ]
    },
    {
     "name": "stdout",
     "output_type": "stream",
     "text": [
      "num contours 27\n"
     ]
    },
    {
     "name": "stderr",
     "output_type": "stream",
     "text": [
      "[================================================================] 1401 of 1401[=                                                                ] 234 of 7746\n"
     ]
    },
    {
     "name": "stdout",
     "output_type": "stream",
     "text": [
      "num contours 59\n"
     ]
    },
    {
     "name": "stderr",
     "output_type": "stream",
     "text": [
      "[================================================================] 1914 of 1914                                ] 1534 of 5848\n",
      "[======================================                          ] 3481 of 5848\r"
     ]
    },
    {
     "name": "stdout",
     "output_type": "stream",
     "text": [
      "num contours 43\n"
     ]
    },
    {
     "name": "stderr",
     "output_type": "stream",
     "text": [
      "[================================================================] 4959 of 4959[==============                                                  ] 1166 of 5243\n",
      "[====================                                            ] 1643 of 5243\r"
     ]
    },
    {
     "name": "stdout",
     "output_type": "stream",
     "text": [
      "num contours 106\n"
     ]
    },
    {
     "name": "stderr",
     "output_type": "stream",
     "text": [
      "[================================================================] 5848 of 5848======                            ] 4389 of 7652\n"
     ]
    },
    {
     "name": "stdout",
     "output_type": "stream",
     "text": [
      "num contours 57\n"
     ]
    },
    {
     "name": "stderr",
     "output_type": "stream",
     "text": [
      "[================================================================] 5243 of 5243                                     ] 0 of 4493\n"
     ]
    },
    {
     "name": "stdout",
     "output_type": "stream",
     "text": [
      "num contours 59\n"
     ]
    },
    {
     "name": "stderr",
     "output_type": "stream",
     "text": [
      "[================================================================] 6887 of 6887==========================        ] 4664 of 5240\n",
      "[======================                                          ] 1575 of 4493\r"
     ]
    },
    {
     "name": "stdout",
     "output_type": "stream",
     "text": [
      "num contours 96\n"
     ]
    },
    {
     "name": "stderr",
     "output_type": "stream",
     "text": [
      "[================================================================] 5240 of 5240[==========================================================      ] 4823 of 5240\n",
      "[=============================                                   ] 2070 of 4493\r"
     ]
    },
    {
     "name": "stdout",
     "output_type": "stream",
     "text": [
      "num contours 171\n"
     ]
    },
    {
     "name": "stderr",
     "output_type": "stream",
     "text": [
      "[================================================================] 3479 of 3479[=====================================                           ] 1140 of 1928\n",
      "[======================================================          ] 1640 of 1928\r"
     ]
    },
    {
     "name": "stdout",
     "output_type": "stream",
     "text": [
      "num contours 79\n"
     ]
    },
    {
     "name": "stderr",
     "output_type": "stream",
     "text": [
      "[================================================================] 7652 of 7652=========================         ] 1660 of 1928\n",
      "[============================                                    ] 1936 of 4374\r"
     ]
    },
    {
     "name": "stdout",
     "output_type": "stream",
     "text": [
      "num contours 130\n"
     ]
    },
    {
     "name": "stderr",
     "output_type": "stream",
     "text": [
      "[================================================================] 1928 of 1928[=============================================================== ] 1920 of 1928\n",
      "[==================================                             ] 6600 of 11925\r"
     ]
    },
    {
     "name": "stdout",
     "output_type": "stream",
     "text": [
      "num contours 50\n"
     ]
    },
    {
     "name": "stderr",
     "output_type": "stream",
     "text": [
      "[================================================================] 4493 of 4493[============================                                    ] 1980 of 4374\n"
     ]
    },
    {
     "name": "stdout",
     "output_type": "stream",
     "text": [
      "num contours 127\n"
     ]
    },
    {
     "name": "stderr",
     "output_type": "stream",
     "text": [
      "[================================================================] 4374 of 4374                                     ] 0 of 6500\n"
     ]
    },
    {
     "name": "stdout",
     "output_type": "stream",
     "text": [
      "num contours 78\n"
     ]
    },
    {
     "name": "stderr",
     "output_type": "stream",
     "text": [
      "[================================================================] 6954 of 6954=================                  ] 2698 of 3729\n"
     ]
    },
    {
     "name": "stdout",
     "output_type": "stream",
     "text": [
      "num contours 98\n"
     ]
    },
    {
     "name": "stderr",
     "output_type": "stream",
     "text": [
      "[================================================================] 2609 of 2609                                   ] 1281 of 6031\n",
      "[===================                                             ] 2015 of 6500\r"
     ]
    },
    {
     "name": "stdout",
     "output_type": "stream",
     "text": [
      "num contours 58\n"
     ]
    },
    {
     "name": "stderr",
     "output_type": "stream",
     "text": [
      "[================================================================] 3729 of 3729                                   ] 328 of 4086\n"
     ]
    },
    {
     "name": "stdout",
     "output_type": "stream",
     "text": [
      "num contours 47\n"
     ]
    },
    {
     "name": "stderr",
     "output_type": "stream",
     "text": [
      "[================================================================] 3947 of 3947                                   ] 1435 of 4086\n"
     ]
    },
    {
     "name": "stdout",
     "output_type": "stream",
     "text": [
      "num contours 113\n"
     ]
    },
    {
     "name": "stderr",
     "output_type": "stream",
     "text": [
      "[================================================================] 6031 of 6031                                  ] 1044 of 11572\n",
      "[========================================                       ] 8000 of 12479\r"
     ]
    },
    {
     "name": "stdout",
     "output_type": "stream",
     "text": [
      "num contours 155\n"
     ]
    },
    {
     "name": "stderr",
     "output_type": "stream",
     "text": [
      "[================================================================] 7246 of 7246                                      ] 0 of 5836\n",
      "[========================================================        ] 6864 of 7746\r"
     ]
    },
    {
     "name": "stdout",
     "output_type": "stream",
     "text": [
      "num contours 167\n"
     ]
    },
    {
     "name": "stderr",
     "output_type": "stream",
     "text": [
      "[================================================================] 6534 of 6534[                                                                   ] 0 of 3988\n"
     ]
    },
    {
     "name": "stdout",
     "output_type": "stream",
     "text": [
      "num contours 182\n"
     ]
    },
    {
     "name": "stderr",
     "output_type": "stream",
     "text": [
      "[================================================================] 7746 of 7746                                    ] 640 of 3988\n"
     ]
    },
    {
     "name": "stdout",
     "output_type": "stream",
     "text": [
      "num contours 127\n"
     ]
    },
    {
     "name": "stderr",
     "output_type": "stream",
     "text": [
      "[================================================================] 6500 of 6500                                   ] 1000 of 3988\n"
     ]
    },
    {
     "name": "stdout",
     "output_type": "stream",
     "text": [
      "num contours 88\n"
     ]
    },
    {
     "name": "stderr",
     "output_type": "stream",
     "text": [
      "[================================================================] 4086 of 4086==================               ] 9625 of 12479\n",
      "[====================                                            ] 1829 of 5836\r"
     ]
    },
    {
     "name": "stdout",
     "output_type": "stream",
     "text": [
      "num contours 44\n"
     ]
    },
    {
     "name": "stderr",
     "output_type": "stream",
     "text": [
      "[================================================================] 4219 of 4219==================                ] 8816 of 11572\n"
     ]
    },
    {
     "name": "stdout",
     "output_type": "stream",
     "text": [
      "num contours 71\n"
     ]
    },
    {
     "name": "stderr",
     "output_type": "stream",
     "text": [
      "[================================================================] 7803 of 7803[======================================================        ] 10092 of 11572\n"
     ]
    },
    {
     "name": "stdout",
     "output_type": "stream",
     "text": [
      "num contours 142\n"
     ]
    },
    {
     "name": "stderr",
     "output_type": "stream",
     "text": [
      "[================================================================] 3988 of 3988[=============                                                   ] 1533 of 7258\n"
     ]
    },
    {
     "name": "stdout",
     "output_type": "stream",
     "text": [
      "num contours 51\n"
     ]
    },
    {
     "name": "stderr",
     "output_type": "stream",
     "text": [
      "[==============================================================] 11572 of 11572=============================== ] 11484 of 11572\n"
     ]
    },
    {
     "name": "stdout",
     "output_type": "stream",
     "text": [
      "num contours 85\n"
     ]
    },
    {
     "name": "stderr",
     "output_type": "stream",
     "text": [
      "[==============================================================] 11925 of 11925[                                                                   ] 0 of 3741\n",
      "[========                                                         ] 702 of 5384\r"
     ]
    },
    {
     "name": "stdout",
     "output_type": "stream",
     "text": [
      "num contours 99\n"
     ]
    },
    {
     "name": "stderr",
     "output_type": "stream",
     "text": [
      "[==============================================================] 12479 of 12479[=================                                                ] 988 of 3741\n",
      "[                                                                  ] 31 of 3055\r"
     ]
    },
    {
     "name": "stdout",
     "output_type": "stream",
     "text": [
      "num contours 303\n"
     ]
    },
    {
     "name": "stderr",
     "output_type": "stream",
     "text": [
      "[================================================================] 6580 of 6580[=                                                                 ] 62 of 3055\n"
     ]
    },
    {
     "name": "stdout",
     "output_type": "stream",
     "text": [
      "num contours 68\n"
     ]
    },
    {
     "name": "stderr",
     "output_type": "stream",
     "text": [
      "[================================================================] 3741 of 3741===                                ] 1900 of 3741\n",
      "[==============================                                  ] 1880 of 3971\r"
     ]
    },
    {
     "name": "stdout",
     "output_type": "stream",
     "text": [
      "num contours 107\n"
     ]
    },
    {
     "name": "stderr",
     "output_type": "stream",
     "text": [
      "[================================================================] 3055 of 3055====                               ] 1716 of 3275\n"
     ]
    },
    {
     "name": "stdout",
     "output_type": "stream",
     "text": [
      "num contours 62\n"
     ]
    },
    {
     "name": "stderr",
     "output_type": "stream",
     "text": [
      "[================================================================] 5157 of 5157                                      ] 0 of 5471\n",
      "[====================================                            ] 3080 of 5471\r"
     ]
    },
    {
     "name": "stdout",
     "output_type": "stream",
     "text": [
      "num contours 48\n"
     ]
    },
    {
     "name": "stderr",
     "output_type": "stream",
     "text": [
      "[================================================================] 3971 of 3971[===========================================================     ] 3720 of 3971\n"
     ]
    },
    {
     "name": "stdout",
     "output_type": "stream",
     "text": [
      "num contours 86\n"
     ]
    },
    {
     "name": "stderr",
     "output_type": "stream",
     "text": [
      "[================================================================] 3275 of 3275                                    ] 817 of 4272\n",
      "[===============                                                 ] 1032 of 4272\r"
     ]
    },
    {
     "name": "stdout",
     "output_type": "stream",
     "text": [
      "num contours 100\n"
     ]
    },
    {
     "name": "stderr",
     "output_type": "stream",
     "text": [
      "[================================================================] 5384 of 5384[=================                                               ] 1161 of 4272\n"
     ]
    },
    {
     "name": "stdout",
     "output_type": "stream",
     "text": [
      "num contours 92\n"
     ]
    },
    {
     "name": "stderr",
     "output_type": "stream",
     "text": [
      "[================================================================] 5836 of 5836                                   ] 1160 of 2869\n",
      "[=====                                                            ] 376 of 4690\r"
     ]
    },
    {
     "name": "stdout",
     "output_type": "stream",
     "text": [
      "num contours 126\n"
     ]
    },
    {
     "name": "stderr",
     "output_type": "stream",
     "text": [
      "[================================================================] 7258 of 7258================================   ] 5225 of 5471\n",
      "[=============================================================== ] 5445 of 5471\r"
     ]
    },
    {
     "name": "stdout",
     "output_type": "stream",
     "text": [
      "num contours 248\n"
     ]
    },
    {
     "name": "stderr",
     "output_type": "stream",
     "text": [
      "[================================================================] 5471 of 5471\n",
      "  9%|▊         | 5/58 [10:14<1:48:36, 122.96s/it]                ] 1305 of 2869"
     ]
    },
    {
     "name": "stdout",
     "output_type": "stream",
     "text": [
      "num contours 45\n"
     ]
    },
    {
     "name": "stderr",
     "output_type": "stream",
     "text": [
      "[==============================================================] 11825 of 11825========================         ] 10234 of 11825\n",
      "[==============================================                  ] 4896 of 6792\r"
     ]
    },
    {
     "name": "stdout",
     "output_type": "stream",
     "text": [
      "num contours 120\n"
     ]
    },
    {
     "name": "stderr",
     "output_type": "stream",
     "text": [
      "[================================================================] 4272 of 4272[================================================                ] 3525 of 4690\n"
     ]
    },
    {
     "name": "stdout",
     "output_type": "stream",
     "text": [
      "num contours 80\n"
     ]
    },
    {
     "name": "stderr",
     "output_type": "stream",
     "text": [
      "[================================================================] 4690 of 4690[===========================================================     ] 4371 of 4690\n"
     ]
    },
    {
     "name": "stdout",
     "output_type": "stream",
     "text": [
      "num contours 97\n"
     ]
    },
    {
     "name": "stderr",
     "output_type": "stream",
     "text": [
      "[================================================================] 6792 of 6792====================               ] 5320 of 6917\n"
     ]
    },
    {
     "name": "stdout",
     "output_type": "stream",
     "text": [
      "num contours 192\n"
     ]
    },
    {
     "name": "stderr",
     "output_type": "stream",
     "text": [
      "[================================================================] 2869 of 2869======================             ] 7776 of 9599\n"
     ]
    },
    {
     "name": "stdout",
     "output_type": "stream",
     "text": [
      "num contours 80\n"
     ]
    },
    {
     "name": "stderr",
     "output_type": "stream",
     "text": [
      "[================================================================] 6917 of 6917[====================================================            ] 7872 of 9599\n"
     ]
    },
    {
     "name": "stdout",
     "output_type": "stream",
     "text": [
      "num contours 242\n"
     ]
    },
    {
     "name": "stderr",
     "output_type": "stream",
     "text": [
      "[================================================================] 6940 of 6940[============================                                    ] 3388 of 7622\n"
     ]
    },
    {
     "name": "stdout",
     "output_type": "stream",
     "text": [
      "num contours 87\n"
     ]
    },
    {
     "name": "stderr",
     "output_type": "stream",
     "text": [
      "[================================================================] 9599 of 9599===========================         ] 3526 of 4039\n",
      "[====================================================            ] 5494 of 6645\r"
     ]
    },
    {
     "name": "stdout",
     "output_type": "stream",
     "text": [
      "num contours 106\n"
     ]
    },
    {
     "name": "stderr",
     "output_type": "stream",
     "text": [
      "[================================================================] 6923 of 6923                                    ] 540 of 5980\n",
      "[=======                                                          ] 660 of 5980\r"
     ]
    },
    {
     "name": "stdout",
     "output_type": "stream",
     "text": [
      "num contours 187\n"
     ]
    },
    {
     "name": "stderr",
     "output_type": "stream",
     "text": [
      "[================================================================] 6645 of 6645[=                                                                ] 118 of 5879\n",
      "[====================================================            ] 6237 of 7622\r"
     ]
    },
    {
     "name": "stdout",
     "output_type": "stream",
     "text": [
      "num contours 96\n"
     ]
    },
    {
     "name": "stderr",
     "output_type": "stream",
     "text": [
      "[================================================================] 4039 of 4039                                   ] 2340 of 5980\n"
     ]
    },
    {
     "name": "stdout",
     "output_type": "stream",
     "text": [
      "num contours 51\n"
     ]
    },
    {
     "name": "stderr",
     "output_type": "stream",
     "text": [
      "[================================================================] 4232 of 4232=========================          ] 6468 of 7622\n"
     ]
    },
    {
     "name": "stdout",
     "output_type": "stream",
     "text": [
      "num contours 80\n"
     ]
    },
    {
     "name": "stderr",
     "output_type": "stream",
     "text": [
      "[================================================================] 7623 of 7623                                   ] 1184 of 7400\n"
     ]
    },
    {
     "name": "stdout",
     "output_type": "stream",
     "text": [
      "num contours 105\n"
     ]
    },
    {
     "name": "stderr",
     "output_type": "stream",
     "text": [
      "[==============================================================] 12889 of 12889[====================================================            ] 4779 of 5879\n"
     ]
    },
    {
     "name": "stdout",
     "output_type": "stream",
     "text": [
      "num contours 97\n"
     ]
    },
    {
     "name": "stderr",
     "output_type": "stream",
     "text": [
      "[================================================================] 6222 of 6222                                   ] 1036 of 3605\n",
      "[===================================                            ] 6776 of 12080\r"
     ]
    },
    {
     "name": "stdout",
     "output_type": "stream",
     "text": [
      "num contours 109\n"
     ]
    },
    {
     "name": "stderr",
     "output_type": "stream",
     "text": [
      "[==============================================================] 13047 of 13047[=============================================================   ] 4324 of 4534\n",
      "[==============================================================  ] 7392 of 7622\r"
     ]
    },
    {
     "name": "stdout",
     "output_type": "stream",
     "text": [
      "num contours 119\n"
     ]
    },
    {
     "name": "stderr",
     "output_type": "stream",
     "text": [
      "[================================================================] 7622 of 7622[==========================================================      ] 5460 of 5980\n",
      "[==============================================================  ] 5723 of 5879\r"
     ]
    },
    {
     "name": "stdout",
     "output_type": "stream",
     "text": [
      "num contours 126\n"
     ]
    },
    {
     "name": "stderr",
     "output_type": "stream",
     "text": [
      "[================================================================] 5879 of 5879[==============================================================  ] 5782 of 5879\n",
      "[====================                                            ] 1152 of 3556\r"
     ]
    },
    {
     "name": "stdout",
     "output_type": "stream",
     "text": [
      "num contours 131\n"
     ]
    },
    {
     "name": "stderr",
     "output_type": "stream",
     "text": [
      "[================================================================] 5980 of 5980[===============                                                 ] 1608 of 6618\n",
      "[===                                                              ] 342 of 5639\r"
     ]
    },
    {
     "name": "stdout",
     "output_type": "stream",
     "text": [
      "num contours 94\n"
     ]
    },
    {
     "name": "stderr",
     "output_type": "stream",
     "text": [
      "[================================================================] 4534 of 4534                                    ] 290 of 5736\n",
      "[==================================                              ] 1908 of 3556\r"
     ]
    },
    {
     "name": "stdout",
     "output_type": "stream",
     "text": [
      "num contours 107\n"
     ]
    },
    {
     "name": "stderr",
     "output_type": "stream",
     "text": [
      "[================================================================] 3605 of 3605[============================                                    ] 2610 of 5790\n",
      "[=============================================================   ] 3420 of 3556\r"
     ]
    },
    {
     "name": "stdout",
     "output_type": "stream",
     "text": [
      "num contours 73\n"
     ]
    },
    {
     "name": "stderr",
     "output_type": "stream",
     "text": [
      "[================================================================] 3556 of 3556                                   ] 1914 of 5736\n"
     ]
    },
    {
     "name": "stdout",
     "output_type": "stream",
     "text": [
      "num contours 86\n"
     ]
    },
    {
     "name": "stderr",
     "output_type": "stream",
     "text": [
      "[================================================================] 5639 of 5639======================             ] 4640 of 5790\n"
     ]
    },
    {
     "name": "stdout",
     "output_type": "stream",
     "text": [
      "num contours 124\n"
     ]
    },
    {
     "name": "stderr",
     "output_type": "stream",
     "text": [
      "[================================================================] 5790 of 5790========================           ] 5494 of 6618\n",
      "[=====                                                          ] 1016 of 12617\r"
     ]
    },
    {
     "name": "stdout",
     "output_type": "stream",
     "text": [
      "num contours 50\n"
     ]
    },
    {
     "name": "stderr",
     "output_type": "stream",
     "text": [
      "[================================================================] 6065 of 6065                                    ] 306 of 5037\n"
     ]
    },
    {
     "name": "stdout",
     "output_type": "stream",
     "text": [
      "num contours 130\n"
     ]
    },
    {
     "name": "stderr",
     "output_type": "stream",
     "text": [
      "[================================================================] 6618 of 6618=======                            ] 4047 of 7089\n",
      "[=====================================                           ] 4189 of 7089\r"
     ]
    },
    {
     "name": "stdout",
     "output_type": "stream",
     "text": [
      "num contours 97\n"
     ]
    },
    {
     "name": "stderr",
     "output_type": "stream",
     "text": [
      "[================================================================] 5736 of 5736==============                     ] 3264 of 4759\n",
      "[============================================================      ] 106 of 116\r"
     ]
    },
    {
     "name": "stdout",
     "output_type": "stream",
     "text": [
      "num contours 160\n"
     ]
    },
    {
     "name": "stderr",
     "output_type": "stream",
     "text": [
      "[==================================================================] 116 of 116[=============================================================     ] 108 of 116\n",
      "[                                                                  ] 75 of 7491\r"
     ]
    },
    {
     "name": "stdout",
     "output_type": "stream",
     "text": [
      "num contours 15\n"
     ]
    },
    {
     "name": "stderr",
     "output_type": "stream",
     "text": [
      "[================================================================] 4093 of 4093[==============================================                  ] 5112 of 7089\n",
      "[====                                                             ] 378 of 5347\r"
     ]
    },
    {
     "name": "stdout",
     "output_type": "stream",
     "text": [
      "num contours 64\n"
     ]
    },
    {
     "name": "stderr",
     "output_type": "stream",
     "text": [
      "[================================================================] 7089 of 7089==========================         ] 6106 of 7089\n"
     ]
    },
    {
     "name": "stdout",
     "output_type": "stream",
     "text": [
      "num contours 79\n"
     ]
    },
    {
     "name": "stderr",
     "output_type": "stream",
     "text": [
      "[================================================================] 4759 of 4759[===================                                             ] 1209 of 3872\n",
      "[=================================================               ] 3192 of 4111\r"
     ]
    },
    {
     "name": "stdout",
     "output_type": "stream",
     "text": [
      "num contours 93\n"
     ]
    },
    {
     "name": "stderr",
     "output_type": "stream",
     "text": [
      "[================================================================] 3872 of 3872                                   ] 1566 of 5347\n"
     ]
    },
    {
     "name": "stdout",
     "output_type": "stream",
     "text": [
      "num contours 58\n"
     ]
    },
    {
     "name": "stderr",
     "output_type": "stream",
     "text": [
      "[================================================================] 7400 of 7400===============================    ] 5022 of 5347\n"
     ]
    },
    {
     "name": "stdout",
     "output_type": "stream",
     "text": [
      "num contours 160\n"
     ]
    },
    {
     "name": "stderr",
     "output_type": "stream",
     "text": [
      "[================================================================] 5037 of 5037[=============================================================   ] 3948 of 4111\n",
      "[=============================================                   ] 2911 of 4068\r"
     ]
    },
    {
     "name": "stdout",
     "output_type": "stream",
     "text": [
      "num contours 59\n"
     ]
    },
    {
     "name": "stderr",
     "output_type": "stream",
     "text": [
      "[================================================================] 7063 of 7063=================                  ] 2952 of 4068\n",
      "[============                                                    ] 1560 of 7724\r"
     ]
    },
    {
     "name": "stdout",
     "output_type": "stream",
     "text": [
      "num contours 107\n"
     ]
    },
    {
     "name": "stderr",
     "output_type": "stream",
     "text": [
      "[================================================================] 5347 of 5347===============================    ] 5076 of 5347\n"
     ]
    },
    {
     "name": "stdout",
     "output_type": "stream",
     "text": [
      "num contours 73\n"
     ]
    },
    {
     "name": "stderr",
     "output_type": "stream",
     "text": [
      "[==============================================================] 12080 of 12080                                   ] 2688 of 6327\n",
      "[=====================                                           ] 2574 of 7724\r"
     ]
    },
    {
     "name": "stdout",
     "output_type": "stream",
     "text": [
      "num contours 89\n"
     ]
    },
    {
     "name": "stderr",
     "output_type": "stream",
     "text": [
      "[================================================================] 4111 of 4111[==============================                                  ] 3008 of 6327\n"
     ]
    },
    {
     "name": "stdout",
     "output_type": "stream",
     "text": [
      "num contours 91\n"
     ]
    },
    {
     "name": "stderr",
     "output_type": "stream",
     "text": [
      "[================================================================] 4068 of 4068=====                              ] 3392 of 6327\n"
     ]
    },
    {
     "name": "stdout",
     "output_type": "stream",
     "text": [
      "num contours 64\n"
     ]
    },
    {
     "name": "stderr",
     "output_type": "stream",
     "text": [
      "[================================================================] 5093 of 5093=================                  ] 4608 of 6327\n"
     ]
    },
    {
     "name": "stdout",
     "output_type": "stream",
     "text": [
      "num contours 55\n"
     ]
    },
    {
     "name": "stderr",
     "output_type": "stream",
     "text": [
      "[================================================================] 6327 of 6327[=======================================================         ] 5504 of 6327\n"
     ]
    },
    {
     "name": "stdout",
     "output_type": "stream",
     "text": [
      "num contours 39\n"
     ]
    },
    {
     "name": "stderr",
     "output_type": "stream",
     "text": [
      "[================================================================] 5857 of 5857                                   ] 1470 of 6969\n",
      "[=============================================================   ] 3895 of 4040\r"
     ]
    },
    {
     "name": "stdout",
     "output_type": "stream",
     "text": [
      "num contours 58\n"
     ]
    },
    {
     "name": "stderr",
     "output_type": "stream",
     "text": [
      "[================================================================] 4040 of 4040                                      ] 0 of 2291\n",
      "[====                                                             ] 161 of 2291\r"
     ]
    },
    {
     "name": "stdout",
     "output_type": "stream",
     "text": [
      "num contours 76\n"
     ]
    },
    {
     "name": "stderr",
     "output_type": "stream",
     "text": [
      "[================================================================] 2291 of 2291===================               ] 9548 of 12373\n"
     ]
    },
    {
     "name": "stdout",
     "output_type": "stream",
     "text": [
      "num contours 110\n"
     ]
    },
    {
     "name": "stderr",
     "output_type": "stream",
     "text": [
      "[================================================================] 5007 of 5007================================== ] 4947 of 5007\n",
      "[                                                                   ] 0 of 5480\r"
     ]
    },
    {
     "name": "stdout",
     "output_type": "stream",
     "text": [
      "num contours 232\n"
     ]
    },
    {
     "name": "stderr",
     "output_type": "stream",
     "text": [
      "[================================================================] 4633 of 4633[=========================================================       ] 6750 of 7491\n"
     ]
    },
    {
     "name": "stdout",
     "output_type": "stream",
     "text": [
      "num contours 133\n"
     ]
    },
    {
     "name": "stderr",
     "output_type": "stream",
     "text": [
      "[================================================================] 7335 of 7335[====                                                             ] 385 of 5480\n",
      "[================                                               ] 2730 of 10441\r"
     ]
    },
    {
     "name": "stdout",
     "output_type": "stream",
     "text": [
      "num contours 121\n"
     ]
    },
    {
     "name": "stderr",
     "output_type": "stream",
     "text": [
      "[================================================================] 2951 of 2951[=======                                                          ] 456 of 3750\n",
      "[===============                                                  ] 960 of 3911\r"
     ]
    },
    {
     "name": "stdout",
     "output_type": "stream",
     "text": [
      "num contours 83\n"
     ]
    },
    {
     "name": "stderr",
     "output_type": "stream",
     "text": [
      "[================================================================] 7491 of 7491                                   ] 1444 of 3750\n",
      "[================================                                ] 2750 of 5480\r"
     ]
    },
    {
     "name": "stdout",
     "output_type": "stream",
     "text": [
      "num contours 292\n"
     ]
    },
    {
     "name": "stderr",
     "output_type": "stream",
     "text": [
      "[================================================================] 6969 of 6969[=========================================================       ] 3344 of 3750\n"
     ]
    },
    {
     "name": "stdout",
     "output_type": "stream",
     "text": [
      "num contours 73\n"
     ]
    },
    {
     "name": "stderr",
     "output_type": "stream",
     "text": [
      "[================================================================] 7724 of 7724                                   ] 2465 of 8417\n",
      "[============================================================  ] 10976 of 11157\r"
     ]
    },
    {
     "name": "stdout",
     "output_type": "stream",
     "text": [
      "num contours 116\n"
     ]
    },
    {
     "name": "stderr",
     "output_type": "stream",
     "text": [
      "[==============================================================] 11157 of 11157============================       ] 4950 of 5480\n",
      "[====                                                             ] 108 of 1718\r"
     ]
    },
    {
     "name": "stdout",
     "output_type": "stream",
     "text": [
      "num contours 212\n"
     ]
    },
    {
     "name": "stderr",
     "output_type": "stream",
     "text": [
      "[================================================================] 3750 of 3750[=============================================================== ] 3724 of 3750\n",
      "[========                                                         ] 216 of 1718\r"
     ]
    },
    {
     "name": "stdout",
     "output_type": "stream",
     "text": [
      "num contours 55\n"
     ]
    },
    {
     "name": "stderr",
     "output_type": "stream",
     "text": [
      "[==============================================================] 12617 of 12617                                       ] 0 of 4122\n",
      "[========================================                        ] 1080 of 1718\r"
     ]
    },
    {
     "name": "stdout",
     "output_type": "stream",
     "text": [
      "num contours 133\n"
     ]
    },
    {
     "name": "stderr",
     "output_type": "stream",
     "text": [
      "[==============================================================] 12373 of 12373\n",
      " 14%|█▍        | 8/58 [24:18<2:31:56, 182.33s/it][=====                                                            ] 336 of 4122\r"
     ]
    },
    {
     "name": "stdout",
     "output_type": "stream",
     "text": [
      "num contours 108\n"
     ]
    },
    {
     "name": "stderr",
     "output_type": "stream",
     "text": [
      "[================================================================] 2045 of 2045[=====                                                            ] 378 of 4122\n",
      "[======================                                          ] 1428 of 4122\r"
     ]
    },
    {
     "name": "stdout",
     "output_type": "stream",
     "text": [
      "num contours 12\n"
     ]
    },
    {
     "name": "stderr",
     "output_type": "stream",
     "text": [
      "[=======================                                         ] 3060 of 8417============                        ] 976 of 1512\n"
     ]
    },
    {
     "name": "stdout",
     "output_type": "stream",
     "text": [
      "num contours 67\n"
     ]
    },
    {
     "name": "stderr",
     "output_type": "stream",
     "text": [
      "[================================================================] 1718 of 1718========                            ] 2352 of 4122\n"
     ]
    },
    {
     "name": "stdout",
     "output_type": "stream",
     "text": [
      "num contours 31\n"
     ]
    },
    {
     "name": "stderr",
     "output_type": "stream",
     "text": [
      "[================================================================] 5480 of 5480====================                ] 2250 of 2980\n",
      "[===============================                                 ] 1440 of 2971\r"
     ]
    },
    {
     "name": "stdout",
     "output_type": "stream",
     "text": [
      "num contours 93\n"
     ]
    },
    {
     "name": "stderr",
     "output_type": "stream",
     "text": [
      "[================================================================] 2980 of 2980[=========================================                       ] 2470 of 3784\n"
     ]
    },
    {
     "name": "stdout",
     "output_type": "stream",
     "text": [
      "num contours 86\n"
     ]
    },
    {
     "name": "stderr",
     "output_type": "stream",
     "text": [
      "[================================================================] 1512 of 1512                                    ] 1008 of 6210\n"
     ]
    },
    {
     "name": "stdout",
     "output_type": "stream",
     "text": [
      "num contours 28\n"
     ]
    },
    {
     "name": "stderr",
     "output_type": "stream",
     "text": [
      "[==============================================================] 10441 of 10441                                   ] 2268 of 6210\n",
      "[=============================================                   ] 6035 of 8417\r"
     ]
    },
    {
     "name": "stdout",
     "output_type": "stream",
     "text": [
      "num contours 144\n"
     ]
    },
    {
     "name": "stderr",
     "output_type": "stream",
     "text": [
      "[================================================================] 7995 of 7995=============                     ] 9916 of 14785\n"
     ]
    },
    {
     "name": "stdout",
     "output_type": "stream",
     "text": [
      "num contours 63\n"
     ]
    },
    {
     "name": "stderr",
     "output_type": "stream",
     "text": [
      "[================================================================] 3784 of 3784                                   ] 1700 of 8441\n"
     ]
    },
    {
     "name": "stdout",
     "output_type": "stream",
     "text": [
      "num contours 44\n"
     ]
    },
    {
     "name": "stderr",
     "output_type": "stream",
     "text": [
      "[================================================================] 2971 of 2971[                                                                  ] 0 of 10058\n"
     ]
    },
    {
     "name": "stdout",
     "output_type": "stream",
     "text": [
      "num contours 24\n"
     ]
    },
    {
     "name": "stderr",
     "output_type": "stream",
     "text": [
      "[================================================================] 9731 of 9731[                                                                   ] 0 of 6675\n"
     ]
    },
    {
     "name": "stdout",
     "output_type": "stream",
     "text": [
      "num contours 107\n"
     ]
    },
    {
     "name": "stderr",
     "output_type": "stream",
     "text": [
      "[================================================================] 3268 of 3268[=======                                                          ] 804 of 6683\n"
     ]
    },
    {
     "name": "stdout",
     "output_type": "stream",
     "text": [
      "num contours 106\n"
     ]
    },
    {
     "name": "stderr",
     "output_type": "stream",
     "text": [
      "[================================================================] 8417 of 8417                                       ] 0 of 2251\n"
     ]
    },
    {
     "name": "stdout",
     "output_type": "stream",
     "text": [
      "num contours 120\n"
     ]
    },
    {
     "name": "stderr",
     "output_type": "stream",
     "text": [
      "[================================================================] 4122 of 4122                                  ] 2055 of 13691\n",
      "[=============================================================   ] 5922 of 6210\r"
     ]
    },
    {
     "name": "stdout",
     "output_type": "stream",
     "text": [
      "num contours 86\n"
     ]
    },
    {
     "name": "stderr",
     "output_type": "stream",
     "text": [
      "[==============================================================] 14785 of 14785[=============================                                  ] 4747 of 10058\n"
     ]
    },
    {
     "name": "stdout",
     "output_type": "stream",
     "text": [
      "num contours 297\n"
     ]
    },
    {
     "name": "stderr",
     "output_type": "stream",
     "text": [
      "[================================================================] 2251 of 2251[==============================                                 ] 4848 of 10058\n"
     ]
    },
    {
     "name": "stdout",
     "output_type": "stream",
     "text": [
      "num contours 50\n"
     ]
    },
    {
     "name": "stderr",
     "output_type": "stream",
     "text": [
      "[================================================================] 6210 of 6210                                    ] 1575 of 6211\n"
     ]
    },
    {
     "name": "stdout",
     "output_type": "stream",
     "text": [
      "num contours 118\n"
     ]
    },
    {
     "name": "stderr",
     "output_type": "stream",
     "text": [
      "[==============================================================] 10058 of 10058                                   ] 3220 of 6958\n",
      "[===================================                            ] 7809 of 13691\r"
     ]
    },
    {
     "name": "stdout",
     "output_type": "stream",
     "text": [
      "num contours 92\n"
     ]
    },
    {
     "name": "stderr",
     "output_type": "stream",
     "text": [
      "[================================================================] 2617 of 2617                                       ] 0 of 6004\n"
     ]
    },
    {
     "name": "stdout",
     "output_type": "stream",
     "text": [
      "num contours 48\n"
     ]
    },
    {
     "name": "stderr",
     "output_type": "stream",
     "text": [
      "[================================================================] 3336 of 3336                                    ] 1708 of 6004\n"
     ]
    },
    {
     "name": "stdout",
     "output_type": "stream",
     "text": [
      "num contours 88\n"
     ]
    },
    {
     "name": "stderr",
     "output_type": "stream",
     "text": [
      "[================================================================] 6431 of 6431\n",
      " 14%|█▍        | 8/58 [30:09<3:08:28, 226.17s/it]"
     ]
    },
    {
     "name": "stdout",
     "output_type": "stream",
     "text": [
      "num contours 151\n"
     ]
    },
    {
     "name": "stderr",
     "output_type": "stream",
     "text": [
      "[================================================================] 6683 of 6683[                                                                  ] 66 of 6521\n"
     ]
    },
    {
     "name": "stdout",
     "output_type": "stream",
     "text": [
      "num contours 66\n"
     ]
    },
    {
     "name": "stderr",
     "output_type": "stream",
     "text": [
      "[================================================================] 5002 of 5002                                     ] 66 of 6554\n",
      "[=======                                                          ] 726 of 6554\r"
     ]
    },
    {
     "name": "stdout",
     "output_type": "stream",
     "text": [
      "num contours 48\n"
     ]
    },
    {
     "name": "stderr",
     "output_type": "stream",
     "text": [
      "[================================================================] 6958 of 6958                                    ] 1608 of 6693\n",
      "[=======                                                          ] 516 of 4285\r"
     ]
    },
    {
     "name": "stdout",
     "output_type": "stream",
     "text": [
      "num contours 53\n"
     ]
    },
    {
     "name": "stderr",
     "output_type": "stream",
     "text": [
      "[================================================================] 6675 of 6675                                    ] 2278 of 6693\n"
     ]
    },
    {
     "name": "stdout",
     "output_type": "stream",
     "text": [
      "num contours 82\n"
     ]
    },
    {
     "name": "stderr",
     "output_type": "stream",
     "text": [
      "[================================================================] 6625 of 6625[======================                                          ] 2345 of 6693\n",
      "[=============================================================   ] 3840 of 3995\r"
     ]
    },
    {
     "name": "stdout",
     "output_type": "stream",
     "text": [
      "num contours 83\n"
     ]
    },
    {
     "name": "stderr",
     "output_type": "stream",
     "text": [
      "[================================================================] 8441 of 8441[====================================================            ] 5494 of 6693\n",
      "[=====================                                           ] 2210 of 6491\r"
     ]
    },
    {
     "name": "stdout",
     "output_type": "stream",
     "text": [
      "num contours 154\n"
     ]
    },
    {
     "name": "stderr",
     "output_type": "stream",
     "text": [
      "[================================================================] 3995 of 3995[==============================================================  ] 3880 of 3995\n"
     ]
    },
    {
     "name": "stdout",
     "output_type": "stream",
     "text": [
      "num contours 55\n"
     ]
    },
    {
     "name": "stderr",
     "output_type": "stream",
     "text": [
      "[================================================================] 6004 of 6004==========================         ] 5246 of 6004\n",
      "[========================================                        ] 2170 of 3403\r"
     ]
    },
    {
     "name": "stdout",
     "output_type": "stream",
     "text": [
      "num contours 86\n"
     ]
    },
    {
     "name": "stderr",
     "output_type": "stream",
     "text": [
      "[================================================================] 6211 of 6211===========================         ] 5676 of 6521\n",
      "[                                                                  ] 28 of 2782\r"
     ]
    },
    {
     "name": "stdout",
     "output_type": "stream",
     "text": [
      "num contours 58\n"
     ]
    },
    {
     "name": "stderr",
     "output_type": "stream",
     "text": [
      "[================================================================] 6693 of 6693=============                      ] 2275 of 3403\n",
      "[================================                                ] 3315 of 6491\r"
     ]
    },
    {
     "name": "stdout",
     "output_type": "stream",
     "text": [
      "num contours 122\n"
     ]
    },
    {
     "name": "stderr",
     "output_type": "stream",
     "text": [
      "[================================================================] 2782 of 2782                                    ] 481 of 3607\n"
     ]
    },
    {
     "name": "stdout",
     "output_type": "stream",
     "text": [
      "num contours 67\n"
     ]
    },
    {
     "name": "stderr",
     "output_type": "stream",
     "text": [
      "[================================================================] 6521 of 6521                                    ] 2385 of 5277\n"
     ]
    },
    {
     "name": "stdout",
     "output_type": "stream",
     "text": [
      "num contours 71\n"
     ]
    },
    {
     "name": "stderr",
     "output_type": "stream",
     "text": [
      "[================================================================] 3607 of 3607                                      ] 78 of 7733\n",
      "[==================================================              ] 3510 of 4492\r"
     ]
    },
    {
     "name": "stdout",
     "output_type": "stream",
     "text": [
      "num contours 68\n"
     ]
    },
    {
     "name": "stderr",
     "output_type": "stream",
     "text": [
      "[================================================================] 4285 of 4285[=======                                                          ] 936 of 7733\n"
     ]
    },
    {
     "name": "stdout",
     "output_type": "stream",
     "text": [
      "num contours 40\n"
     ]
    },
    {
     "name": "stderr",
     "output_type": "stream",
     "text": [
      "[================================================================] 3697 of 3697                                    ] 1794 of 7733\n"
     ]
    },
    {
     "name": "stdout",
     "output_type": "stream",
     "text": [
      "num contours 108\n"
     ]
    },
    {
     "name": "stderr",
     "output_type": "stream",
     "text": [
      "[================================================================] 4492 of 4492================================    ] 3220 of 3403\n",
      "[==================================================              ] 6084 of 7733\r"
     ]
    },
    {
     "name": "stdout",
     "output_type": "stream",
     "text": [
      "num contours 51\n"
     ]
    },
    {
     "name": "stderr",
     "output_type": "stream",
     "text": [
      "[================================================================] 3403 of 3403=============================       ] 5874 of 6554\n",
      "[=======================================                         ] 4026 of 6563\r"
     ]
    },
    {
     "name": "stdout",
     "output_type": "stream",
     "text": [
      "num contours 69\n"
     ]
    },
    {
     "name": "stderr",
     "output_type": "stream",
     "text": [
      "[================================================================] 6491 of 6491[=====                                                            ] 567 of 6239\n",
      "[===================                                             ] 1380 of 4518\r"
     ]
    },
    {
     "name": "stdout",
     "output_type": "stream",
     "text": [
      "num contours 86\n"
     ]
    },
    {
     "name": "stderr",
     "output_type": "stream",
     "text": [
      "[================================================================] 7733 of 7733[=========================================                       ] 6435 of 9844\n"
     ]
    },
    {
     "name": "stdout",
     "output_type": "stream",
     "text": [
      "num contours 85\n"
     ]
    },
    {
     "name": "stderr",
     "output_type": "stream",
     "text": [
      "[================================================================] 5277 of 5277                                      ] 88 of 4367\n",
      "[=======                                                          ] 484 of 4367\r"
     ]
    },
    {
     "name": "stdout",
     "output_type": "stream",
     "text": [
      "num contours 109\n"
     ]
    },
    {
     "name": "stderr",
     "output_type": "stream",
     "text": [
      "[==============================================================] 13691 of 13691                                    ] 1995 of 5650\n"
     ]
    },
    {
     "name": "stdout",
     "output_type": "stream",
     "text": [
      "num contours 135\n"
     ]
    },
    {
     "name": "stderr",
     "output_type": "stream",
     "text": [
      "[================================================================] 6554 of 6554[==================                                              ] 1276 of 4367\n"
     ]
    },
    {
     "name": "stdout",
     "output_type": "stream",
     "text": [
      "num contours 157\n"
     ]
    },
    {
     "name": "stderr",
     "output_type": "stream",
     "text": [
      "[================================================================] 4518 of 4518                                    ] 1638 of 3828\n",
      "[==========================================                      ] 2904 of 4367\r"
     ]
    },
    {
     "name": "stdout",
     "output_type": "stream",
     "text": [
      "num contours 83\n"
     ]
    },
    {
     "name": "stderr",
     "output_type": "stream",
     "text": [
      "[================================================================] 5650 of 5650===============                     ] 2613 of 3828\n",
      "[==================================================              ] 4914 of 6239\r"
     ]
    },
    {
     "name": "stdout",
     "output_type": "stream",
     "text": [
      "num contours 200\n"
     ]
    },
    {
     "name": "stderr",
     "output_type": "stream",
     "text": [
      "[================================================================] 3791 of 3791======                              ] 3456 of 6335\n"
     ]
    },
    {
     "name": "stdout",
     "output_type": "stream",
     "text": [
      "num contours 76\n"
     ]
    },
    {
     "name": "stderr",
     "output_type": "stream",
     "text": [
      "[================================================================] 5218 of 5218                                    ] 1739 of 4641\n"
     ]
    },
    {
     "name": "stdout",
     "output_type": "stream",
     "text": [
      "num contours 77\n"
     ]
    },
    {
     "name": "stderr",
     "output_type": "stream",
     "text": [
      "[================================================================] 6563 of 6563                                    ] 2021 of 4641\n",
      "[=============================================================== ] 3783 of 3828\r"
     ]
    },
    {
     "name": "stdout",
     "output_type": "stream",
     "text": [
      "num contours 127\n"
     ]
    },
    {
     "name": "stderr",
     "output_type": "stream",
     "text": [
      "[================================================================] 3828 of 3828[=============================================================== ] 3822 of 3828\n"
     ]
    },
    {
     "name": "stdout",
     "output_type": "stream",
     "text": [
      "num contours 127\n"
     ]
    },
    {
     "name": "stderr",
     "output_type": "stream",
     "text": [
      "[================================================================] 9844 of 9844                                      ] 37 of 3690\n",
      "[=============                                                    ] 740 of 3690\r"
     ]
    },
    {
     "name": "stdout",
     "output_type": "stream",
     "text": [
      "num contours 354\n"
     ]
    },
    {
     "name": "stderr",
     "output_type": "stream",
     "text": [
      "[================================================================] 6335 of 6335                                     ] 258 of 4261\n"
     ]
    },
    {
     "name": "stdout",
     "output_type": "stream",
     "text": [
      "num contours 58\n"
     ]
    },
    {
     "name": "stderr",
     "output_type": "stream",
     "text": [
      "[================================================================] 4367 of 4367===============                     ] 2814 of 4129\n"
     ]
    },
    {
     "name": "stdout",
     "output_type": "stream",
     "text": [
      "num contours 66\n"
     ]
    },
    {
     "name": "stderr",
     "output_type": "stream",
     "text": [
      "[================================================================] 6645 of 6645                                   ] 4250 of 12441\n",
      "[================================================================] 3690 of 3690\r"
     ]
    },
    {
     "name": "stdout",
     "output_type": "stream",
     "text": [
      "num contours 76\n"
     ]
    },
    {
     "name": "stderr",
     "output_type": "stream",
     "text": [
      "[==========================================                      ] 1122 of 1682\n",
      " 26%|██▌       | 15/58 [37:07<1:46:24, 148.48s/it]               ] 3311 of 4261"
     ]
    },
    {
     "name": "stdout",
     "output_type": "stream",
     "text": [
      "num contours 35\n"
     ]
    },
    {
     "name": "stderr",
     "output_type": "stream",
     "text": [
      "[================================================================] 6239 of 6239[===========================================                     ] 1156 of 1682\n",
      "[=========================================================       ] 3696 of 4129\r"
     ]
    },
    {
     "name": "stdout",
     "output_type": "stream",
     "text": [
      "num contours 225\n"
     ]
    },
    {
     "name": "stderr",
     "output_type": "stream",
     "text": [
      "[================================================================] 1682 of 1682[=====================================================           ] 3154 of 3767\n",
      "[=========================                                       ] 1440 of 3553\r"
     ]
    },
    {
     "name": "stdout",
     "output_type": "stream",
     "text": [
      "num contours 86\n"
     ]
    },
    {
     "name": "stderr",
     "output_type": "stream",
     "text": [
      "[================================================================] 4129 of 4129[========================================================        ] 3741 of 4261\n"
     ]
    },
    {
     "name": "stdout",
     "output_type": "stream",
     "text": [
      "num contours 83\n"
     ]
    },
    {
     "name": "stderr",
     "output_type": "stream",
     "text": [
      "[================================================================] 4261 of 4261=====                               ] 1872 of 3553\n",
      "[=================                                               ] 1484 of 5297\r"
     ]
    },
    {
     "name": "stdout",
     "output_type": "stream",
     "text": [
      "num contours 157\n"
     ]
    },
    {
     "name": "stderr",
     "output_type": "stream",
     "text": [
      "[================================================================] 4641 of 4641[========                                                        ] 1040 of 7924\n",
      "[===                                                              ] 175 of 3498\r"
     ]
    },
    {
     "name": "stdout",
     "output_type": "stream",
     "text": [
      "num contours 83\n"
     ]
    },
    {
     "name": "stderr",
     "output_type": "stream",
     "text": [
      "[================================================================] 3553 of 3553========                            ] 2072 of 3617\n",
      "[================================================                ] 5625 of 7415\r"
     ]
    },
    {
     "name": "stdout",
     "output_type": "stream",
     "text": [
      "num contours 14\n"
     ]
    },
    {
     "name": "stderr",
     "output_type": "stream",
     "text": [
      "[================================================================] 3767 of 3767                                     ] 490 of 3498\n"
     ]
    },
    {
     "name": "stdout",
     "output_type": "stream",
     "text": [
      "num contours 112\n"
     ]
    },
    {
     "name": "stderr",
     "output_type": "stream",
     "text": [
      "[================================================================] 2209 of 2209[==========                                                      ] 1394 of 8143\n",
      "[===================================================             ] 2835 of 3498\r"
     ]
    },
    {
     "name": "stdout",
     "output_type": "stream",
     "text": [
      "num contours 40\n"
     ]
    },
    {
     "name": "stderr",
     "output_type": "stream",
     "text": [
      "[================================================================] 4672 of 4672=======                             ] 2968 of 5297\n",
      "\n"
     ]
    },
    {
     "name": "stdout",
     "output_type": "stream",
     "text": [
      "num contours 76\n"
     ]
    },
    {
     "name": "stderr",
     "output_type": "stream",
     "text": [
      " 28%|██▊       | 16/58 [38:29<1:41:01, 144.33s/it]               ] 2590 of 3617"
     ]
    },
    {
     "name": "stdout",
     "output_type": "stream",
     "text": [
      "num contours 187\n"
     ]
    },
    {
     "name": "stderr",
     "output_type": "stream",
     "text": [
      "[================================================================] 7415 of 7415                                    ] 2400 of 7924\n",
      "[=====================                                           ] 2640 of 7924\r"
     ]
    },
    {
     "name": "stdout",
     "output_type": "stream",
     "text": [
      "num contours 91\n"
     ]
    },
    {
     "name": "stderr",
     "output_type": "stream",
     "text": [
      "[================================================================] 3498 of 3498[=====================                                           ] 2720 of 7924\n",
      "[=======================================================         ] 4611 of 5297\r"
     ]
    },
    {
     "name": "stdout",
     "output_type": "stream",
     "text": [
      "num contours 41\n"
     ]
    },
    {
     "name": "stderr",
     "output_type": "stream",
     "text": [
      "[==============================                                  ] 3102 of 6542=====================               ] 2812 of 3617\n"
     ]
    },
    {
     "name": "stdout",
     "output_type": "stream",
     "text": [
      "num contours 41\n"
     ]
    },
    {
     "name": "stderr",
     "output_type": "stream",
     "text": [
      "[================================================================] 5297 of 5297                                    ] 1620 of 5349\n",
      "[====================                                            ] 1728 of 5349\r"
     ]
    },
    {
     "name": "stdout",
     "output_type": "stream",
     "text": [
      "num contours 91\n"
     ]
    },
    {
     "name": "stderr",
     "output_type": "stream",
     "text": [
      "[================================================================] 3617 of 3617==                                  ] 3168 of 6542\n",
      "[===============================                                 ] 2548 of 5181\r"
     ]
    },
    {
     "name": "stdout",
     "output_type": "stream",
     "text": [
      "num contours 64\n"
     ]
    },
    {
     "name": "stderr",
     "output_type": "stream",
     "text": [
      "[================================================================] 6632 of 6632                                   ] 1834 of 13079\n",
      "[===============================                                 ] 4018 of 8143\r"
     ]
    },
    {
     "name": "stdout",
     "output_type": "stream",
     "text": [
      "num contours 105\n"
     ]
    },
    {
     "name": "stderr",
     "output_type": "stream",
     "text": [
      "[================================================================] 7924 of 7924[==================================================              ] 4108 of 5181\n"
     ]
    },
    {
     "name": "stdout",
     "output_type": "stream",
     "text": [
      "num contours 144\n"
     ]
    },
    {
     "name": "stderr",
     "output_type": "stream",
     "text": [
      "[================================================================] 5181 of 5181[                                                                   ] 0 of 3435\n",
      "[=============                                                   ] 1533 of 7270\r"
     ]
    },
    {
     "name": "stdout",
     "output_type": "stream",
     "text": [
      "num contours 75\n"
     ]
    },
    {
     "name": "stderr",
     "output_type": "stream",
     "text": [
      "[================================================================] 5741 of 5741                                    ] 2888 of 7582\n",
      "[================================                                ] 3800 of 7582\r"
     ]
    },
    {
     "name": "stdout",
     "output_type": "stream",
     "text": [
      "num contours 45\n"
     ]
    },
    {
     "name": "stderr",
     "output_type": "stream",
     "text": [
      "[================================================================] 6542 of 6542[============================================================    ] 6204 of 6542\n",
      "[==================================                              ] 4028 of 7582\r"
     ]
    },
    {
     "name": "stdout",
     "output_type": "stream",
     "text": [
      "num contours 87\n"
     ]
    },
    {
     "name": "stderr",
     "output_type": "stream",
     "text": [
      "[================================================================] 5349 of 5349                                    ] 2920 of 7270\n",
      "[================================================================] 2629 of 2629\n"
     ]
    },
    {
     "name": "stdout",
     "output_type": "stream",
     "text": [
      "num contours 125\n",
      "num contours 50\n"
     ]
    },
    {
     "name": "stderr",
     "output_type": "stream",
     "text": [
      "[================================================================] 3272 of 3272===                                 ] 1296 of 2633\n"
     ]
    },
    {
     "name": "stdout",
     "output_type": "stream",
     "text": [
      "num contours 39\n"
     ]
    },
    {
     "name": "stderr",
     "output_type": "stream",
     "text": [
      "[================================================================] 2633 of 2633[==============================                                 ] 6419 of 13079\n",
      "[===================                                             ] 1230 of 4060\r"
     ]
    },
    {
     "name": "stdout",
     "output_type": "stream",
     "text": [
      "num contours 32\n"
     ]
    },
    {
     "name": "stderr",
     "output_type": "stream",
     "text": [
      "[================================================================] 9388 of 9388                                    ] 1271 of 4060\n"
     ]
    },
    {
     "name": "stdout",
     "output_type": "stream",
     "text": [
      "num contours 213\n"
     ]
    },
    {
     "name": "stderr",
     "output_type": "stream",
     "text": [
      "[================================================================] 3435 of 3435[=========================================                       ] 2560 of 3965\n",
      "[==========================================================      ] 3276 of 3561\r"
     ]
    },
    {
     "name": "stdout",
     "output_type": "stream",
     "text": [
      "num contours 55\n"
     ]
    },
    {
     "name": "stderr",
     "output_type": "stream",
     "text": [
      "[================================================================] 3579 of 3579[=============                                                    ] 800 of 3959\n",
      "[======================                                          ] 1400 of 3959\r"
     ]
    },
    {
     "name": "stdout",
     "output_type": "stream",
     "text": [
      "num contours 96\n"
     ]
    },
    {
     "name": "stderr",
     "output_type": "stream",
     "text": [
      "[================================================================] 3561 of 3561=========================           ] 3320 of 3965\n",
      "[===================================================             ] 3280 of 4060\r"
     ]
    },
    {
     "name": "stdout",
     "output_type": "stream",
     "text": [
      "num contours 140\n"
     ]
    },
    {
     "name": "stderr",
     "output_type": "stream",
     "text": [
      "[================================================================] 7270 of 7270[====================================================            ] 6642 of 8143\n"
     ]
    },
    {
     "name": "stdout",
     "output_type": "stream",
     "text": [
      "num contours 200\n"
     ]
    },
    {
     "name": "stderr",
     "output_type": "stream",
     "text": [
      "[================================================================] 4060 of 4060====================                ] 3000 of 3959\n",
      "[=================================================               ] 3040 of 3959\r"
     ]
    },
    {
     "name": "stdout",
     "output_type": "stream",
     "text": [
      "num contours 59\n"
     ]
    },
    {
     "name": "stderr",
     "output_type": "stream",
     "text": [
      "[================================================================] 3965 of 3965=====================               ] 3080 of 3959\n"
     ]
    },
    {
     "name": "stdout",
     "output_type": "stream",
     "text": [
      "num contours 60\n"
     ]
    },
    {
     "name": "stderr",
     "output_type": "stream",
     "text": [
      "[================================================================] 8143 of 8143[=========================                                       ] 1248 of 3165\n",
      "[====================================                            ] 1792 of 3165\r"
     ]
    },
    {
     "name": "stdout",
     "output_type": "stream",
     "text": [
      "num contours 224\n"
     ]
    },
    {
     "name": "stderr",
     "output_type": "stream",
     "text": [
      "[==============================================================] 12441 of 12441                                    ] 1763 of 4077\n",
      "[=======================================================         ] 2752 of 3165\r"
     ]
    },
    {
     "name": "stdout",
     "output_type": "stream",
     "text": [
      "num contours 96\n"
     ]
    },
    {
     "name": "stderr",
     "output_type": "stream",
     "text": [
      "[================================================================] 4121 of 4121[=====                                                          ] 1242 of 13723\n"
     ]
    },
    {
     "name": "stdout",
     "output_type": "stream",
     "text": [
      "num contours 46\n"
     ]
    },
    {
     "name": "stderr",
     "output_type": "stream",
     "text": [
      "[================================================================] 3165 of 3165                                     ] 648 of 8024\n"
     ]
    },
    {
     "name": "stdout",
     "output_type": "stream",
     "text": [
      "num contours 42\n"
     ]
    },
    {
     "name": "stderr",
     "output_type": "stream",
     "text": [
      "[================================================================] 3959 of 3959                                     ] 416 of 3169\n"
     ]
    },
    {
     "name": "stdout",
     "output_type": "stream",
     "text": [
      "num contours 47\n"
     ]
    },
    {
     "name": "stderr",
     "output_type": "stream",
     "text": [
      "[================================================================] 7582 of 7582                                       ] 0 of 5409\n"
     ]
    },
    {
     "name": "stdout",
     "output_type": "stream",
     "text": [
      "num contours 108\n"
     ]
    },
    {
     "name": "stderr",
     "output_type": "stream",
     "text": [
      "[================================================================] 3169 of 3169[==============                                                  ] 1782 of 8024\n"
     ]
    },
    {
     "name": "stdout",
     "output_type": "stream",
     "text": [
      "num contours 78\n"
     ]
    },
    {
     "name": "stderr",
     "output_type": "stream",
     "text": [
      "[================================================================] 4077 of 4077[============================================                    ] 4416 of 6379\n",
      "[============================================                    ] 4480 of 6379\r"
     ]
    },
    {
     "name": "stdout",
     "output_type": "stream",
     "text": [
      "num contours 190\n"
     ]
    },
    {
     "name": "stderr",
     "output_type": "stream",
     "text": [
      "[================================================================] 4553 of 4553[==================================================              ] 3822 of 4883\n",
      "[============================================                    ] 1675 of 2416\r"
     ]
    },
    {
     "name": "stdout",
     "output_type": "stream",
     "text": [
      "num contours 41\n"
     ]
    },
    {
     "name": "stderr",
     "output_type": "stream",
     "text": [
      "[================================================================] 5010 of 5010=================                   ] 1700 of 2416\n",
      "[==================================================              ] 1900 of 2416\r"
     ]
    },
    {
     "name": "stdout",
     "output_type": "stream",
     "text": [
      "num contours 70\n"
     ]
    },
    {
     "name": "stderr",
     "output_type": "stream",
     "text": [
      "[================================================================] 4883 of 4883======================              ] 1925 of 2416\n"
     ]
    },
    {
     "name": "stdout",
     "output_type": "stream",
     "text": [
      "num contours 84\n"
     ]
    },
    {
     "name": "stderr",
     "output_type": "stream",
     "text": [
      "[================================================================] 2416 of 2416===========                         ] 3355 of 5409\n"
     ]
    },
    {
     "name": "stdout",
     "output_type": "stream",
     "text": [
      "num contours 105\n"
     ]
    },
    {
     "name": "stderr",
     "output_type": "stream",
     "text": [
      "[==============================================================] 10027 of 10027============================        ] 7047 of 8024\n"
     ]
    },
    {
     "name": "stdout",
     "output_type": "stream",
     "text": [
      "num contours 102\n"
     ]
    },
    {
     "name": "stderr",
     "output_type": "stream",
     "text": [
      "[================================================================] 8024 of 8024==============                      ] 3630 of 5409\n"
     ]
    },
    {
     "name": "stdout",
     "output_type": "stream",
     "text": [
      "num contours 237\n"
     ]
    },
    {
     "name": "stderr",
     "output_type": "stream",
     "text": [
      "[================================================================] 3262 of 3262=====                               ] 3224 of 6136\n",
      "[=====================================                           ] 2166 of 3730\r"
     ]
    },
    {
     "name": "stdout",
     "output_type": "stream",
     "text": [
      "num contours 101\n"
     ]
    },
    {
     "name": "stderr",
     "output_type": "stream",
     "text": [
      "[================================================================] 6379 of 6379========                            ] 3528 of 6228\n"
     ]
    },
    {
     "name": "stdout",
     "output_type": "stream",
     "text": [
      "num contours 220\n"
     ]
    },
    {
     "name": "stderr",
     "output_type": "stream",
     "text": [
      "[================================================================] 5409 of 5409==============                      ] 4158 of 6228\n"
     ]
    },
    {
     "name": "stdout",
     "output_type": "stream",
     "text": [
      "num contours 106\n"
     ]
    },
    {
     "name": "stderr",
     "output_type": "stream",
     "text": [
      "[================================================================] 3730 of 3730=======================             ] 2640 of 3260\n",
      "[==============================================================  ] 6111 of 6228\r"
     ]
    },
    {
     "name": "stdout",
     "output_type": "stream",
     "text": [
      "num contours 127\n"
     ]
    },
    {
     "name": "stderr",
     "output_type": "stream",
     "text": [
      "[================================================================] 6228 of 6228=                                   ] 3082 of 6637\n",
      "[==================================                             ] 7590 of 13723\r"
     ]
    },
    {
     "name": "stdout",
     "output_type": "stream",
     "text": [
      "num contours 114\n"
     ]
    },
    {
     "name": "stderr",
     "output_type": "stream",
     "text": [
      "[================================================================] 3742 of 3742                                     ] 960 of 3935\n",
      "[====================                                            ] 1240 of 3935\r"
     ]
    },
    {
     "name": "stdout",
     "output_type": "stream",
     "text": [
      "num contours 150\n"
     ]
    },
    {
     "name": "stderr",
     "output_type": "stream",
     "text": [
      "[================================================================] 4947 of 4947==============================      ] 4550 of 4949\n"
     ]
    },
    {
     "name": "stdout",
     "output_type": "stream",
     "text": [
      "num contours 59\n"
     ]
    },
    {
     "name": "stderr",
     "output_type": "stream",
     "text": [
      "[================================================================] 4949 of 4949[================================                                ] 3350 of 6637\n"
     ]
    },
    {
     "name": "stdout",
     "output_type": "stream",
     "text": [
      "num contours 136\n"
     ]
    },
    {
     "name": "stderr",
     "output_type": "stream",
     "text": [
      "[================================================================] 3935 of 3935                                    ] 1029 of 4885\n"
     ]
    },
    {
     "name": "stdout",
     "output_type": "stream",
     "text": [
      "num contours 115\n"
     ]
    },
    {
     "name": "stderr",
     "output_type": "stream",
     "text": [
      "[================================================================] 3162 of 3162                                    ] 2295 of 5086\n"
     ]
    },
    {
     "name": "stdout",
     "output_type": "stream",
     "text": [
      "num contours 51\n"
     ]
    },
    {
     "name": "stderr",
     "output_type": "stream",
     "text": [
      "[================================================================] 6136 of 6136[=======================================                         ] 3111 of 5086\n"
     ]
    },
    {
     "name": "stdout",
     "output_type": "stream",
     "text": [
      "num contours 157\n"
     ]
    },
    {
     "name": "stderr",
     "output_type": "stream",
     "text": [
      "[================================================================] 3260 of 3260==============                      ] 3366 of 5086\n",
      "[============================================================    ] 4794 of 5086\r"
     ]
    },
    {
     "name": "stdout",
     "output_type": "stream",
     "text": [
      "num contours 83\n"
     ]
    },
    {
     "name": "stderr",
     "output_type": "stream",
     "text": [
      "[================================================================] 5086 of 5086                                       ] 0 of 5589\n",
      "[=====                                                            ] 504 of 5589\r"
     ]
    },
    {
     "name": "stdout",
     "output_type": "stream",
     "text": [
      "num contours 58\n"
     ]
    },
    {
     "name": "stderr",
     "output_type": "stream",
     "text": [
      "[================================================================] 6637 of 6637==============================      ] 6097 of 6637\n",
      "[==========                                                      ] 1394 of 8114\r"
     ]
    },
    {
     "name": "stdout",
     "output_type": "stream",
     "text": [
      "num contours 135\n"
     ]
    },
    {
     "name": "stderr",
     "output_type": "stream",
     "text": [
      "[================================================================] 2857 of 2857===============                     ] 4422 of 6529\n",
      "[=============================================                   ] 4620 of 6529\r"
     ]
    },
    {
     "name": "stdout",
     "output_type": "stream",
     "text": [
      "num contours 34\n"
     ]
    },
    {
     "name": "stderr",
     "output_type": "stream",
     "text": [
      "[================================================================] 2972 of 2972[=========================================                       ] 3584 of 5589\n"
     ]
    },
    {
     "name": "stdout",
     "output_type": "stream",
     "text": [
      "num contours 93\n"
     ]
    },
    {
     "name": "stderr",
     "output_type": "stream",
     "text": [
      "[================================================================] 5589 of 5589=====                              ] 6731 of 12603\n"
     ]
    },
    {
     "name": "stdout",
     "output_type": "stream",
     "text": [
      "num contours 41\n"
     ]
    },
    {
     "name": "stderr",
     "output_type": "stream",
     "text": [
      "[==============================================================] 13079 of 13079============                        ] 1764 of 2777\n",
      "[===============================                                  ] 658 of 1361\r"
     ]
    },
    {
     "name": "stdout",
     "output_type": "stream",
     "text": [
      "num contours 139\n"
     ]
    },
    {
     "name": "stderr",
     "output_type": "stream",
     "text": [
      "[================================================================] 2777 of 2777[====================================                            ] 2464 of 4371\n"
     ]
    },
    {
     "name": "stdout",
     "output_type": "stream",
     "text": [
      "num contours 43\n"
     ]
    },
    {
     "name": "stderr",
     "output_type": "stream",
     "text": [
      "[================================================================] 4885 of 4885=======================             ] 6560 of 8114\n"
     ]
    },
    {
     "name": "stdout",
     "output_type": "stream",
     "text": [
      "num contours 81\n"
     ]
    },
    {
     "name": "stderr",
     "output_type": "stream",
     "text": [
      "[================================================================] 5234 of 5234[=====================                                           ] 2244 of 6775\n"
     ]
    },
    {
     "name": "stdout",
     "output_type": "stream",
     "text": [
      "num contours 95\n"
     ]
    },
    {
     "name": "stderr",
     "output_type": "stream",
     "text": [
      "[================================================================] 1361 of 1361[===================================================             ] 3920 of 4838\n"
     ]
    },
    {
     "name": "stdout",
     "output_type": "stream",
     "text": [
      "num contours 25\n"
     ]
    },
    {
     "name": "stderr",
     "output_type": "stream",
     "text": [
      "[================================================================] 4371 of 4371                                     ] 544 of 6779\n"
     ]
    },
    {
     "name": "stdout",
     "output_type": "stream",
     "text": [
      "num contours 69\n"
     ]
    },
    {
     "name": "stderr",
     "output_type": "stream",
     "text": [
      "[================================================================] 8114 of 8114[===========================================================     ] 7544 of 8114\n"
     ]
    },
    {
     "name": "stdout",
     "output_type": "stream",
     "text": [
      "num contours 112\n"
     ]
    },
    {
     "name": "stderr",
     "output_type": "stream",
     "text": [
      "[================================================================] 4838 of 4838[                                                                   ] 0 of 4498\n",
      "[============                                                    ] 1540 of 7659\r"
     ]
    },
    {
     "name": "stdout",
     "output_type": "stream",
     "text": [
      "num contours 65\n"
     ]
    },
    {
     "name": "stderr",
     "output_type": "stream",
     "text": [
      "[==============================================================] 12627 of 12627===============                     ] 4020 of 5974\n",
      "[=============================================                   ] 3195 of 4498\r"
     ]
    },
    {
     "name": "stdout",
     "output_type": "stream",
     "text": [
      "num contours 144\n"
     ]
    },
    {
     "name": "stderr",
     "output_type": "stream",
     "text": [
      "[================================================================] 6779 of 6779                                       ] 0 of 6723\n"
     ]
    },
    {
     "name": "stdout",
     "output_type": "stream",
     "text": [
      "num contours 126\n"
     ]
    },
    {
     "name": "stderr",
     "output_type": "stream",
     "text": [
      "[================================================================] 4498 of 4498[========================================================        ] 5280 of 5974\n"
     ]
    },
    {
     "name": "stdout",
     "output_type": "stream",
     "text": [
      "num contours 159\n"
     ]
    },
    {
     "name": "stderr",
     "output_type": "stream",
     "text": [
      "[================================================================] 6529 of 6529===                                 ] 3332 of 6723\n",
      "[=========================                                       ] 1677 of 4281\r"
     ]
    },
    {
     "name": "stdout",
     "output_type": "stream",
     "text": [
      "num contours 54\n"
     ]
    },
    {
     "name": "stderr",
     "output_type": "stream",
     "text": [
      "[================================================================] 5974 of 5974[==========================================================      ] 7826 of 8538\n",
      "[==============================                                  ] 2064 of 4281\r"
     ]
    },
    {
     "name": "stdout",
     "output_type": "stream",
     "text": [
      "num contours 157\n"
     ]
    },
    {
     "name": "stderr",
     "output_type": "stream",
     "text": [
      "[================================================================] 8538 of 8538==============================      ] 6120 of 6723\n",
      "[======================                                          ] 1435 of 4028\r"
     ]
    },
    {
     "name": "stdout",
     "output_type": "stream",
     "text": [
      "num contours 296\n"
     ]
    },
    {
     "name": "stderr",
     "output_type": "stream",
     "text": [
      "[================================================================] 6723 of 6723[=====================================                           ] 2537 of 4281\n"
     ]
    },
    {
     "name": "stdout",
     "output_type": "stream",
     "text": [
      "num contours 68\n"
     ]
    },
    {
     "name": "stderr",
     "output_type": "stream",
     "text": [
      "[================================================================] 6775 of 6775===========================         ] 3485 of 4028\n"
     ]
    },
    {
     "name": "stdout",
     "output_type": "stream",
     "text": [
      "num contours 72\n"
     ]
    },
    {
     "name": "stderr",
     "output_type": "stream",
     "text": [
      "[================================================================] 4281 of 4281==============                      ] 2470 of 3743\n"
     ]
    },
    {
     "name": "stdout",
     "output_type": "stream",
     "text": [
      "num contours 83\n"
     ]
    },
    {
     "name": "stderr",
     "output_type": "stream",
     "text": [
      "[================================================================] 5938 of 5938                                    ] 2418 of 6107\n"
     ]
    },
    {
     "name": "stdout",
     "output_type": "stream",
     "text": [
      "num contours 125\n"
     ]
    },
    {
     "name": "stderr",
     "output_type": "stream",
     "text": [
      "[==============================================================] 13723 of 13723[============================================                    ] 2584 of 3743\n",
      "[==========================================                      ] 5082 of 7659\r"
     ]
    },
    {
     "name": "stdout",
     "output_type": "stream",
     "text": [
      "num contours 145\n"
     ]
    },
    {
     "name": "stderr",
     "output_type": "stream",
     "text": [
      "[=====================================                           ] 1740 of 2962                                     ] 990 of 2962\n"
     ]
    },
    {
     "name": "stdout",
     "output_type": "stream",
     "text": [
      "num contours 170\n"
     ]
    },
    {
     "name": "stderr",
     "output_type": "stream",
     "text": [
      "[================================================================] 4028 of 4028[========================                                         ] 684 of 1846\n",
      "[=========================================================       ] 1653 of 1846\r"
     ]
    },
    {
     "name": "stdout",
     "output_type": "stream",
     "text": [
      "num contours 87\n"
     ]
    },
    {
     "name": "stderr",
     "output_type": "stream",
     "text": [
      "[================================================================] 3743 of 3743[=====================                                           ] 1650 of 4995\n",
      "[==============================                                  ] 2400 of 4995\r"
     ]
    },
    {
     "name": "stdout",
     "output_type": "stream",
     "text": [
      "num contours 100\n"
     ]
    },
    {
     "name": "stderr",
     "output_type": "stream",
     "text": [
      "[================================================================] 1846 of 1846[===================================================             ] 4898 of 6107\n"
     ]
    },
    {
     "name": "stdout",
     "output_type": "stream",
     "text": [
      "num contours 72\n"
     ]
    },
    {
     "name": "stderr",
     "output_type": "stream",
     "text": [
      "[================================================================] 2986 of 2986=====                               ] 2650 of 4995\n",
      "[==================================                              ] 4320 of 7918\r"
     ]
    },
    {
     "name": "stdout",
     "output_type": "stream",
     "text": [
      "num contours 47\n"
     ]
    },
    {
     "name": "stderr",
     "output_type": "stream",
     "text": [
      "[================================================================] 2962 of 2962========                            ] 2850 of 4995\n",
      "[=============                                                    ] 340 of 1620\r"
     ]
    },
    {
     "name": "stdout",
     "output_type": "stream",
     "text": [
      "num contours 60\n"
     ]
    },
    {
     "name": "stderr",
     "output_type": "stream",
     "text": [
      "[================================================================] 5345 of 5345                                     ] 357 of 1620\n"
     ]
    },
    {
     "name": "stdout",
     "output_type": "stream",
     "text": [
      "num contours 167\n"
     ]
    },
    {
     "name": "stderr",
     "output_type": "stream",
     "text": [
      "[================================================================] 1620 of 1620=================                   ] 5600 of 7918\n"
     ]
    },
    {
     "name": "stdout",
     "output_type": "stream",
     "text": [
      "num contours 34\n"
     ]
    },
    {
     "name": "stderr",
     "output_type": "stream",
     "text": [
      "[================================================================] 5294 of 5294                                     ] 559 of 4214\n",
      "[=====================                                          ] 3570 of 10466\r"
     ]
    },
    {
     "name": "stdout",
     "output_type": "stream",
     "text": [
      "num contours 144\n"
     ]
    },
    {
     "name": "stderr",
     "output_type": "stream",
     "text": [
      "[================================================================] 7659 of 7659                                    ] 1290 of 4214\n",
      "[============================================================    ] 5766 of 6107\r"
     ]
    },
    {
     "name": "stdout",
     "output_type": "stream",
     "text": [
      "num contours 239\n"
     ]
    },
    {
     "name": "stderr",
     "output_type": "stream",
     "text": [
      "[================================================================] 6107 of 6107[=============================================================   ] 7600 of 7918\n",
      "[=======================================================         ] 2550 of 2916\r"
     ]
    },
    {
     "name": "stdout",
     "output_type": "stream",
     "text": [
      "num contours 85\n"
     ]
    },
    {
     "name": "stderr",
     "output_type": "stream",
     "text": [
      "[================================================================] 7918 of 7918[========================================================        ] 2580 of 2916\n"
     ]
    },
    {
     "name": "stdout",
     "output_type": "stream",
     "text": [
      "num contours 123\n"
     ]
    },
    {
     "name": "stderr",
     "output_type": "stream",
     "text": [
      "[================================================================] 2916 of 2916                                    ] 1672 of 4325\n"
     ]
    },
    {
     "name": "stdout",
     "output_type": "stream",
     "text": [
      "num contours 87\n"
     ]
    },
    {
     "name": "stderr",
     "output_type": "stream",
     "text": [
      "[================================================================] 4995 of 4995====                               ] 5355 of 10466\n"
     ]
    },
    {
     "name": "stdout",
     "output_type": "stream",
     "text": [
      "num contours 119\n"
     ]
    },
    {
     "name": "stderr",
     "output_type": "stream",
     "text": [
      "[================================================================] 4435 of 4435                                       ] 0 of 2955\n",
      "[============================================                    ] 2070 of 2955\r"
     ]
    },
    {
     "name": "stdout",
     "output_type": "stream",
     "text": [
      "num contours 105\n"
     ]
    },
    {
     "name": "stderr",
     "output_type": "stream",
     "text": [
      "[================================================================] 4100 of 4100[===========                                                      ] 901 of 5217\n"
     ]
    },
    {
     "name": "stdout",
     "output_type": "stream",
     "text": [
      "num contours 83\n"
     ]
    },
    {
     "name": "stderr",
     "output_type": "stream",
     "text": [
      "[================================================================] 5276 of 5276[=======================                                         ] 2331 of 6257\n"
     ]
    },
    {
     "name": "stdout",
     "output_type": "stream",
     "text": [
      "num contours 124\n"
     ]
    },
    {
     "name": "stderr",
     "output_type": "stream",
     "text": [
      "[================================================================] 4214 of 4214[=========================                                       ] 1800 of 4499\n",
      "[==========================================                      ] 1848 of 2767\r"
     ]
    },
    {
     "name": "stdout",
     "output_type": "stream",
     "text": [
      "num contours 158\n"
     ]
    },
    {
     "name": "stderr",
     "output_type": "stream",
     "text": [
      "[================================================================] 2955 of 2955                                       ] 360 of 5934\n"
     ]
    },
    {
     "name": "stdout",
     "output_type": "stream",
     "text": [
      "num contours 58\n"
     ]
    },
    {
     "name": "stderr",
     "output_type": "stream",
     "text": [
      "[==============================================================] 11625 of 11625[=                                                                ] 162 of 5324\n"
     ]
    },
    {
     "name": "stdout",
     "output_type": "stream",
     "text": [
      "num contours 124\n"
     ]
    },
    {
     "name": "stderr",
     "output_type": "stream",
     "text": [
      "[================================================================] 4325 of 4325[===============================                                 ] 2205 of 4499\n"
     ]
    },
    {
     "name": "stdout",
     "output_type": "stream",
     "text": [
      "num contours 114\n"
     ]
    },
    {
     "name": "stderr",
     "output_type": "stream",
     "text": [
      "[================================================================] 2767 of 2767                                         ] 0 of 4689\n",
      "[===========================                                    ] 4532 of 10289\r"
     ]
    },
    {
     "name": "stdout",
     "output_type": "stream",
     "text": [
      "num contours 71\n"
     ]
    },
    {
     "name": "stderr",
     "output_type": "stream",
     "text": [
      "[================================================================] 4930 of 4930========================              ] 3555 of 4499\n"
     ]
    },
    {
     "name": "stdout",
     "output_type": "stream",
     "text": [
      "num contours 50\n"
     ]
    },
    {
     "name": "stderr",
     "output_type": "stream",
     "text": [
      "[================================================================] 5934 of 5934==============================       ] 9167 of 10289\n"
     ]
    },
    {
     "name": "stdout",
     "output_type": "stream",
     "text": [
      "num contours 117\n"
     ]
    },
    {
     "name": "stderr",
     "output_type": "stream",
     "text": [
      "[================================================================] 4499 of 4499                                       ] 280 of 6922\n",
      "[================                                                ] 1092 of 4119\r"
     ]
    },
    {
     "name": "stdout",
     "output_type": "stream",
     "text": [
      "num contours 145\n"
     ]
    },
    {
     "name": "stderr",
     "output_type": "stream",
     "text": [
      "[================================================================] 5420 of 5420[=============================================================== ] 5390 of 5420\n"
     ]
    },
    {
     "name": "stdout",
     "output_type": "stream",
     "text": [
      "num contours 90\n"
     ]
    },
    {
     "name": "stderr",
     "output_type": "stream",
     "text": [
      "[==============================================================] 10289 of 10289                                        ] 19 of 1831\n",
      "[======                                                           ] 190 of 1831\r"
     ]
    },
    {
     "name": "stdout",
     "output_type": "stream",
     "text": [
      "num contours 227\n"
     ]
    },
    {
     "name": "stderr",
     "output_type": "stream",
     "text": [
      "[================================================================] 5794 of 5794[=======                                                          ] 209 of 1831\n",
      "[===========                                                      ] 323 of 1831\r"
     ]
    },
    {
     "name": "stdout",
     "output_type": "stream",
     "text": [
      "num contours 84\n"
     ]
    },
    {
     "name": "stderr",
     "output_type": "stream",
     "text": [
      "[================================================================] 5217 of 5217[====================                                            ] 1302 of 4119\n"
     ]
    },
    {
     "name": "stdout",
     "output_type": "stream",
     "text": [
      "num contours 55\n"
     ]
    },
    {
     "name": "stderr",
     "output_type": "stream",
     "text": [
      "[================================================================] 5324 of 5324[==============================================                  ] 3431 of 4689\n",
      "[============                                                    ] 1159 of 6060\r"
     ]
    },
    {
     "name": "stdout",
     "output_type": "stream",
     "text": [
      "num contours 102\n"
     ]
    },
    {
     "name": "stderr",
     "output_type": "stream",
     "text": [
      "[==============================================================] 10466 of 10466                                      ] 1750 of 6922\n",
      "[================================================================] 1831 of 1831\n"
     ]
    },
    {
     "name": "stdout",
     "output_type": "stream",
     "text": [
      "num contours 51\n"
     ]
    },
    {
     "name": "stderr",
     "output_type": "stream",
     "text": [
      "[=================================                               ] 1976 of 3734                                       ] 400 of 2414\r"
     ]
    },
    {
     "name": "stdout",
     "output_type": "stream",
     "text": [
      "num contours 323\n"
     ]
    },
    {
     "name": "stderr",
     "output_type": "stream",
     "text": [
      "[================================================================] 6257 of 6257[                                                                   ] 0 of 5153\n",
      "[==========                                                       ] 832 of 5153\r"
     ]
    },
    {
     "name": "stdout",
     "output_type": "stream",
     "text": [
      "num contours 113\n"
     ]
    },
    {
     "name": "stderr",
     "output_type": "stream",
     "text": [
      "[================================================================] 4689 of 4689[                                                                  ] 69 of 6832\n"
     ]
    },
    {
     "name": "stdout",
     "output_type": "stream",
     "text": [
      "num contours 108\n"
     ]
    },
    {
     "name": "stderr",
     "output_type": "stream",
     "text": [
      "[================================================================] 4119 of 4119[====================================================            ] 4212 of 5153\n"
     ]
    },
    {
     "name": "stdout",
     "output_type": "stream",
     "text": [
      "num contours 142\n"
     ]
    },
    {
     "name": "stderr",
     "output_type": "stream",
     "text": [
      "[================================================================] 2414 of 2414==============================        ] 3480 of 3922\n",
      "[====================================================            ] 4941 of 6060\r"
     ]
    },
    {
     "name": "stdout",
     "output_type": "stream",
     "text": [
      "num contours 41\n"
     ]
    },
    {
     "name": "stderr",
     "output_type": "stream",
     "text": [
      "[================================================================] 5153 of 5153===================                   ] 4830 of 6832\n"
     ]
    },
    {
     "name": "stdout",
     "output_type": "stream",
     "text": [
      "num contours 172\n"
     ]
    },
    {
     "name": "stderr",
     "output_type": "stream",
     "text": [
      "[================================================================] 8367 of 8367================================      ] 6370 of 6922\n"
     ]
    },
    {
     "name": "stdout",
     "output_type": "stream",
     "text": [
      "num contours 253\n"
     ]
    },
    {
     "name": "stderr",
     "output_type": "stream",
     "text": [
      "[================================================================] 6060 of 6060===============================       ] 5429 of 6060\n",
      "[=                                                               ] 645 of 21474\r"
     ]
    },
    {
     "name": "stdout",
     "output_type": "stream",
     "text": [
      "num contours 135\n"
     ]
    },
    {
     "name": "stderr",
     "output_type": "stream",
     "text": [
      "[================================================================] 3922 of 3922=========                             ] 4620 of 8374\n",
      "[=                                                                 ] 64 of 3135\r"
     ]
    },
    {
     "name": "stdout",
     "output_type": "stream",
     "text": [
      "num contours 65\n"
     ]
    },
    {
     "name": "stderr",
     "output_type": "stream",
     "text": [
      "[================================================================] 6316 of 6316[================                                                 ] 832 of 3197\n",
      "[============================                                    ] 1408 of 3197\r"
     ]
    },
    {
     "name": "stdout",
     "output_type": "stream",
     "text": [
      "num contours 122\n"
     ]
    },
    {
     "name": "stderr",
     "output_type": "stream",
     "text": [
      "[================================================================] 6922 of 6922[===============                                                  ] 736 of 3135\n",
      "[=============================                                   ] 1472 of 3197\r"
     ]
    },
    {
     "name": "stdout",
     "output_type": "stream",
     "text": [
      "num contours 174\n"
     ]
    },
    {
     "name": "stderr",
     "output_type": "stream",
     "text": [
      "[================================================================] 3734 of 3734[==============================                                  ] 1504 of 3197\n",
      "[====================================                            ] 1824 of 3197\r"
     ]
    },
    {
     "name": "stdout",
     "output_type": "stream",
     "text": [
      "num contours 115\n"
     ]
    },
    {
     "name": "stderr",
     "output_type": "stream",
     "text": [
      "[================================================================] 2406 of 2406                                       ] 360 of 4462\n"
     ]
    },
    {
     "name": "stdout",
     "output_type": "stream",
     "text": [
      "num contours 51\n"
     ]
    },
    {
     "name": "stderr",
     "output_type": "stream",
     "text": [
      "[================================================================] 3135 of 3135=========================             ] 5265 of 6499\n",
      "[==========                                                     ] 3655 of 21474\r"
     ]
    },
    {
     "name": "stdout",
     "output_type": "stream",
     "text": [
      "num contours 42\n"
     ]
    },
    {
     "name": "stderr",
     "output_type": "stream",
     "text": [
      "[================================================================] 6425 of 6425                                         ] 0 of 3141\n",
      "[==============================                                  ] 4042 of 8541\r"
     ]
    },
    {
     "name": "stdout",
     "output_type": "stream",
     "text": [
      "num contours 143\n"
     ]
    },
    {
     "name": "stderr",
     "output_type": "stream",
     "text": [
      "[================================================================] 6499 of 6499                                       ] 768 of 3141\n",
      "[==================================================              ] 6794 of 8541\r"
     ]
    },
    {
     "name": "stdout",
     "output_type": "stream",
     "text": [
      "num contours 61\n"
     ]
    },
    {
     "name": "stderr",
     "output_type": "stream",
     "text": [
      "[================================================================] 2432 of 2432========                              ] 2160 of 3982\n",
      "[=============                                                  ] 4730 of 21474\r"
     ]
    },
    {
     "name": "stdout",
     "output_type": "stream",
     "text": [
      "num contours 52\n"
     ]
    },
    {
     "name": "stderr",
     "output_type": "stream",
     "text": [
      "[================================================================] 3141 of 3141============                          ] 2400 of 3982\n"
     ]
    },
    {
     "name": "stdout",
     "output_type": "stream",
     "text": [
      "num contours 52\n"
     ]
    },
    {
     "name": "stderr",
     "output_type": "stream",
     "text": [
      "[================================================================] 5772 of 5772====================                  ] 2920 of 3982\n",
      "[===========                                                      ] 630 of 3426\r"
     ]
    },
    {
     "name": "stdout",
     "output_type": "stream",
     "text": [
      "num contours 84\n"
     ]
    },
    {
     "name": "stderr",
     "output_type": "stream",
     "text": [
      "[================================================================] 6832 of 6832[======================================================          ] 3360 of 3982\n",
      "[===========                                                     ] 1105 of 6425\r"
     ]
    },
    {
     "name": "stdout",
     "output_type": "stream",
     "text": [
      "num contours 144\n"
     ]
    },
    {
     "name": "stderr",
     "output_type": "stream",
     "text": [
      "[================================================================] 5948 of 5948                                         ] 0 of 3309\n"
     ]
    },
    {
     "name": "stdout",
     "output_type": "stream",
     "text": [
      "num contours 97\n"
     ]
    },
    {
     "name": "stderr",
     "output_type": "stream",
     "text": [
      "[================================================================] 8374 of 8374                                       ] 340 of 3309\n",
      "[=============================================================== ] 8514 of 8541\r"
     ]
    },
    {
     "name": "stdout",
     "output_type": "stream",
     "text": [
      "num contours 169\n"
     ]
    },
    {
     "name": "stderr",
     "output_type": "stream",
     "text": [
      "[================================================================] 8541 of 8541[=================================================               ] 2550 of 3309\n",
      "[==================================                              ] 3445 of 6425\r"
     ]
    },
    {
     "name": "stdout",
     "output_type": "stream",
     "text": [
      "num contours 142\n"
     ]
    },
    {
     "name": "stderr",
     "output_type": "stream",
     "text": [
      "[================================================================] 3982 of 3982===========                           ] 1995 of 3426\n"
     ]
    },
    {
     "name": "stdout",
     "output_type": "stream",
     "text": [
      "num contours 52\n"
     ]
    },
    {
     "name": "stderr",
     "output_type": "stream",
     "text": [
      "[================================================================] 3197 of 3197================                      ] 4290 of 6425\n",
      "[=====================================================           ] 5330 of 6425\r"
     ]
    },
    {
     "name": "stdout",
     "output_type": "stream",
     "text": [
      "num contours 78\n"
     ]
    },
    {
     "name": "stderr",
     "output_type": "stream",
     "text": [
      "[================================================================] 3426 of 3426[========================================================        ] 3045 of 3426\n"
     ]
    },
    {
     "name": "stdout",
     "output_type": "stream",
     "text": [
      "num contours 102\n"
     ]
    },
    {
     "name": "stderr",
     "output_type": "stream",
     "text": [
      "[================================================================] 6425 of 6425=========                             ] 4015 of 7235\n"
     ]
    },
    {
     "name": "stdout",
     "output_type": "stream",
     "text": [
      "num contours 186\n"
     ]
    },
    {
     "name": "stderr",
     "output_type": "stream",
     "text": [
      "[================================================================] 3309 of 3309                                       ] 700 of 6976\n",
      "[====================================                            ] 4161 of 7235\r"
     ]
    },
    {
     "name": "stdout",
     "output_type": "stream",
     "text": [
      "num contours 87\n"
     ]
    },
    {
     "name": "stderr",
     "output_type": "stream",
     "text": [
      "[================================================================] 4462 of 4462[==========================================================      ] 3956 of 4300\n",
      "[============================================                    ] 3264 of 4736\r"
     ]
    },
    {
     "name": "stdout",
     "output_type": "stream",
     "text": [
      "num contours 77\n"
     ]
    },
    {
     "name": "stderr",
     "output_type": "stream",
     "text": [
      "[================================================================] 4300 of 4300                                       ] 744 of 3027\n"
     ]
    },
    {
     "name": "stdout",
     "output_type": "stream",
     "text": [
      "num contours 86\n"
     ]
    },
    {
     "name": "stderr",
     "output_type": "stream",
     "text": [
      "[================================================================] 4736 of 4736=                                     ] 2940 of 6906\n"
     ]
    },
    {
     "name": "stdout",
     "output_type": "stream",
     "text": [
      "num contours 79\n"
     ]
    },
    {
     "name": "stderr",
     "output_type": "stream",
     "text": [
      "[================================================================] 6976 of 6976======================                ] 5472 of 7176\n",
      "[===================                                            ] 3968 of 12744\r"
     ]
    },
    {
     "name": "stdout",
     "output_type": "stream",
     "text": [
      "num contours 164\n"
     ]
    },
    {
     "name": "stderr",
     "output_type": "stream",
     "text": [
      "[================================================================] 3027 of 3027[======================                                          ] 1715 of 4872\n"
     ]
    },
    {
     "name": "stdout",
     "output_type": "stream",
     "text": [
      "num contours 44\n"
     ]
    },
    {
     "name": "stderr",
     "output_type": "stream",
     "text": [
      "[================================================================] 7235 of 7235[============================                                    ] 2205 of 4872\n",
      "[===============================                                 ] 2401 of 4872\r"
     ]
    },
    {
     "name": "stdout",
     "output_type": "stream",
     "text": [
      "num contours 124\n"
     ]
    },
    {
     "name": "stderr",
     "output_type": "stream",
     "text": [
      "[================================================================] 6568 of 6568[===========================================================     ] 2576 of 2784\n"
     ]
    },
    {
     "name": "stdout",
     "output_type": "stream",
     "text": [
      "num contours 74\n"
     ]
    },
    {
     "name": "stderr",
     "output_type": "stream",
     "text": [
      "[================================================================] 2784 of 2784\n",
      " 50%|█████     | 29/58 [1:11:25<1:11:25, 147.79s/it]"
     ]
    },
    {
     "name": "stdout",
     "output_type": "stream",
     "text": [
      "num contours 48\n"
     ]
    },
    {
     "name": "stderr",
     "output_type": "stream",
     "text": [
      "[================================================================] 6149 of 6149                                         ] 0 of 4545\n"
     ]
    },
    {
     "name": "stdout",
     "output_type": "stream",
     "text": [
      "num contours 243\n"
     ]
    },
    {
     "name": "stderr",
     "output_type": "stream",
     "text": [
      "[================================================================] 4872 of 4872[==============================                                  ] 3196 of 6741\n"
     ]
    },
    {
     "name": "stdout",
     "output_type": "stream",
     "text": [
      "num contours 83\n"
     ]
    },
    {
     "name": "stderr",
     "output_type": "stream",
     "text": [
      "[================================================================] 7176 of 7176                                      ] 2052 of 7512\n",
      "[=================================================               ] 5168 of 6741\r"
     ]
    },
    {
     "name": "stdout",
     "output_type": "stream",
     "text": [
      "num contours 327\n"
     ]
    },
    {
     "name": "stderr",
     "output_type": "stream",
     "text": [
      "[================================================================] 7664 of 7664[=========                                                        ] 435 of 2836\n"
     ]
    },
    {
     "name": "stdout",
     "output_type": "stream",
     "text": [
      "num contours 93\n"
     ]
    },
    {
     "name": "stderr",
     "output_type": "stream",
     "text": [
      "[================================================================] 6741 of 6741[===================================                             ] 3905 of 7032\n"
     ]
    },
    {
     "name": "stdout",
     "output_type": "stream",
     "text": [
      "num contours 151\n"
     ]
    },
    {
     "name": "stderr",
     "output_type": "stream",
     "text": [
      "[================================================================] 7512 of 7512===========================           ] 2378 of 2836\n",
      "[================================================                ] 3268 of 4270\r"
     ]
    },
    {
     "name": "stdout",
     "output_type": "stream",
     "text": [
      "num contours 133\n"
     ]
    },
    {
     "name": "stderr",
     "output_type": "stream",
     "text": [
      "[================================================================] 3431 of 3431[=================================================               ] 3311 of 4270\n"
     ]
    },
    {
     "name": "stdout",
     "output_type": "stream",
     "text": [
      "num contours 74\n"
     ]
    },
    {
     "name": "stderr",
     "output_type": "stream",
     "text": [
      "[================================================================] 2836 of 2836==========================            ] 3483 of 4270\n"
     ]
    },
    {
     "name": "stdout",
     "output_type": "stream",
     "text": [
      "num contours 93\n"
     ]
    },
    {
     "name": "stderr",
     "output_type": "stream",
     "text": [
      "[================================================================] 4270 of 4270                                       ] 517 of 4634\n"
     ]
    },
    {
     "name": "stdout",
     "output_type": "stream",
     "text": [
      "num contours 39\n"
     ]
    },
    {
     "name": "stderr",
     "output_type": "stream",
     "text": [
      "[================================================================] 4545 of 4545                                       ] 315 of 4407\n"
     ]
    },
    {
     "name": "stdout",
     "output_type": "stream",
     "text": [
      "num contours 112\n"
     ]
    },
    {
     "name": "stderr",
     "output_type": "stream",
     "text": [
      "[================================================================] 6906 of 6906[                                                                   ] 0 of 3346\n",
      "[=========================                                       ] 1755 of 4407\r"
     ]
    },
    {
     "name": "stdout",
     "output_type": "stream",
     "text": [
      "num contours 130\n"
     ]
    },
    {
     "name": "stderr",
     "output_type": "stream",
     "text": [
      "[================================================================] 7032 of 7032[===================================                             ] 2538 of 4634\n",
      "[============================================================    ] 6392 of 6786\r"
     ]
    },
    {
     "name": "stdout",
     "output_type": "stream",
     "text": [
      "num contours 194\n"
     ]
    },
    {
     "name": "stderr",
     "output_type": "stream",
     "text": [
      "[================================================================] 6786 of 6786[==============================================                  ] 3384 of 4634\n"
     ]
    },
    {
     "name": "stdout",
     "output_type": "stream",
     "text": [
      "num contours 73\n"
     ]
    },
    {
     "name": "stderr",
     "output_type": "stream",
     "text": [
      "[================================================================] 4634 of 4634=============                         ] 2074 of 3346\n"
     ]
    },
    {
     "name": "stdout",
     "output_type": "stream",
     "text": [
      "num contours 97\n"
     ]
    },
    {
     "name": "stderr",
     "output_type": "stream",
     "text": [
      "[================================================================] 3346 of 3346===================================== ] 3298 of 3346\n",
      "[========================                                        ] 1998 of 5322\r"
     ]
    },
    {
     "name": "stdout",
     "output_type": "stream",
     "text": [
      "num contours 84\n"
     ]
    },
    {
     "name": "stderr",
     "output_type": "stream",
     "text": [
      "[================================================================] 5404 of 5404                                         ] 0 of 6534\n",
      "[======================================                         ] 7930 of 12922\r"
     ]
    },
    {
     "name": "stdout",
     "output_type": "stream",
     "text": [
      "num contours 139\n"
     ]
    },
    {
     "name": "stderr",
     "output_type": "stream",
     "text": [
      "[================================================================] 7906 of 7906[=====================================                           ] 4640 of 7906\n"
     ]
    },
    {
     "name": "stdout",
     "output_type": "stream",
     "text": [
      "num contours 186\n"
     ]
    },
    {
     "name": "stderr",
     "output_type": "stream",
     "text": [
      "[==============================================================] 12744 of 12744===================                   ] 5670 of 8022\n",
      "[===========================================                    ] 8840 of 12922\r"
     ]
    },
    {
     "name": "stdout",
     "output_type": "stream",
     "text": [
      "num contours 181\n"
     ]
    },
    {
     "name": "stderr",
     "output_type": "stream",
     "text": [
      "[================================================================] 4407 of 4407=======================              ] 9282 of 11867\n"
     ]
    },
    {
     "name": "stdout",
     "output_type": "stream",
     "text": [
      "num contours 116\n"
     ]
    },
    {
     "name": "stderr",
     "output_type": "stream",
     "text": [
      "[================================================================] 6534 of 6534==                                    ] 2024 of 4561\n"
     ]
    },
    {
     "name": "stdout",
     "output_type": "stream",
     "text": [
      "num contours 55\n"
     ]
    },
    {
     "name": "stderr",
     "output_type": "stream",
     "text": [
      "[================================================================] 3216 of 3216                                     ] 3565 of 11486\n"
     ]
    },
    {
     "name": "stdout",
     "output_type": "stream",
     "text": [
      "num contours 44\n"
     ]
    },
    {
     "name": "stderr",
     "output_type": "stream",
     "text": [
      "[================================================================] 4511 of 4511                                         ] 0 of 7229\n"
     ]
    },
    {
     "name": "stdout",
     "output_type": "stream",
     "text": [
      "num contours 76\n"
     ]
    },
    {
     "name": "stderr",
     "output_type": "stream",
     "text": [
      "[================================================================] 5322 of 5322[======================                                          ] 2590 of 7393\n",
      "[================================                                ] 3700 of 7393\r"
     ]
    },
    {
     "name": "stdout",
     "output_type": "stream",
     "text": [
      "num contours 189\n"
     ]
    },
    {
     "name": "stderr",
     "output_type": "stream",
     "text": [
      "[==============================================================] 11867 of 11867[===============                                                 ] 1752 of 7229\n",
      "[====================================                            ] 1120 of 1959\r"
     ]
    },
    {
     "name": "stdout",
     "output_type": "stream",
     "text": [
      "num contours 126\n"
     ]
    },
    {
     "name": "stderr",
     "output_type": "stream",
     "text": [
      "[================================================================] 1959 of 1959[============================================================    ] 5115 of 5429\n",
      "[=============                                                    ] 740 of 3608\r"
     ]
    },
    {
     "name": "stdout",
     "output_type": "stream",
     "text": [
      "num contours 76\n"
     ]
    },
    {
     "name": "stderr",
     "output_type": "stream",
     "text": [
      "[================================================================] 5429 of 5429                                         ] 0 of 3520\n"
     ]
    },
    {
     "name": "stdout",
     "output_type": "stream",
     "text": [
      "num contours 60\n"
     ]
    },
    {
     "name": "stderr",
     "output_type": "stream",
     "text": [
      "[================================================================] 8022 of 8022                                       ] 851 of 3608\n",
      "[===============================================                 ] 2664 of 3608\r"
     ]
    },
    {
     "name": "stdout",
     "output_type": "stream",
     "text": [
      "num contours 134\n"
     ]
    },
    {
     "name": "stderr",
     "output_type": "stream",
     "text": [
      "[================================================================] 7393 of 7393[=========================================================       ] 6586 of 7393\n",
      "[=============================================================== ] 3492 of 3520\r"
     ]
    },
    {
     "name": "stdout",
     "output_type": "stream",
     "text": [
      "num contours 79\n"
     ]
    },
    {
     "name": "stderr",
     "output_type": "stream",
     "text": [
      "[================================================================] 3520 of 3520                                      ] 1209 of 3831\n"
     ]
    },
    {
     "name": "stdout",
     "output_type": "stream",
     "text": [
      "num contours 66\n"
     ]
    },
    {
     "name": "stderr",
     "output_type": "stream",
     "text": [
      "[================================================================] 3608 of 3608                                       ] 231 of 7678\n",
      "[=======================================================         ] 7224 of 8396\r"
     ]
    },
    {
     "name": "stdout",
     "output_type": "stream",
     "text": [
      "num contours 36\n"
     ]
    },
    {
     "name": "stderr",
     "output_type": "stream",
     "text": [
      "[================================================================] 8396 of 8396===========                           ] 2223 of 3831\n",
      "[================                                                ] 1846 of 7013\r"
     ]
    },
    {
     "name": "stdout",
     "output_type": "stream",
     "text": [
      "num contours 187\n"
     ]
    },
    {
     "name": "stderr",
     "output_type": "stream",
     "text": [
      "[================================================================] 4561 of 4561==========================            ] 3159 of 3831\n",
      "[=======================================================         ] 3315 of 3831\r"
     ]
    },
    {
     "name": "stdout",
     "output_type": "stream",
     "text": [
      "num contours 98\n"
     ]
    },
    {
     "name": "stderr",
     "output_type": "stream",
     "text": [
      "[================================================================] 7210 of 7210==============================        ] 3354 of 3831\n",
      "[============                                                    ] 1824 of 9557\r"
     ]
    },
    {
     "name": "stdout",
     "output_type": "stream",
     "text": [
      "num contours 174\n"
     ]
    },
    {
     "name": "stderr",
     "output_type": "stream",
     "text": [
      "[==============================================================] 21474 of 21474[============================================================    ] 6789 of 7229\n"
     ]
    },
    {
     "name": "stdout",
     "output_type": "stream",
     "text": [
      "num contours 459\n"
     ]
    },
    {
     "name": "stderr",
     "output_type": "stream",
     "text": [
      "[================================================================] 7229 of 7229[============================                                    ] 3240 of 7161\n",
      "[==================                                              ] 2784 of 9557\r"
     ]
    },
    {
     "name": "stdout",
     "output_type": "stream",
     "text": [
      "num contours 180\n"
     ]
    },
    {
     "name": "stderr",
     "output_type": "stream",
     "text": [
      "[================================================================] 3831 of 3831[================================                                ] 4029 of 7883\n"
     ]
    },
    {
     "name": "stdout",
     "output_type": "stream",
     "text": [
      "num contours 80\n"
     ]
    },
    {
     "name": "stderr",
     "output_type": "stream",
     "text": [
      "[==============================================================] 11486 of 11486[                                                                   ] 0 of 5058\n",
      "[====================================                            ] 3648 of 6341\r"
     ]
    },
    {
     "name": "stdout",
     "output_type": "stream",
     "text": [
      "num contours 114\n"
     ]
    },
    {
     "name": "stderr",
     "output_type": "stream",
     "text": [
      "[==============================================================] 12922 of 12922[=====================================                           ] 3712 of 6341\n",
      "[====================================                           ] 7888 of 13556\r"
     ]
    },
    {
     "name": "stdout",
     "output_type": "stream",
     "text": [
      "num contours 182\n"
     ]
    },
    {
     "name": "stderr",
     "output_type": "stream",
     "text": [
      "[================================================================] 7013 of 7013====================                  ] 3312 of 4569\n"
     ]
    },
    {
     "name": "stdout",
     "output_type": "stream",
     "text": [
      "num contours 174\n"
     ]
    },
    {
     "name": "stderr",
     "output_type": "stream",
     "text": [
      "[================================================================] 3316 of 3316                                    ] 1280 of 6339\n"
     ]
    },
    {
     "name": "stdout",
     "output_type": "stream",
     "text": [
      "num contours 39\n"
     ]
    },
    {
     "name": "stderr",
     "output_type": "stream",
     "text": [
      "[================================================================] 4569 of 4569=======                               ] 3328 of 6339\n"
     ]
    },
    {
     "name": "stdout",
     "output_type": "stream",
     "text": [
      "num contours 101\n"
     ]
    },
    {
     "name": "stderr",
     "output_type": "stream",
     "text": [
      "[================================================================] 9557 of 9557                                       ] 440 of 3984\n"
     ]
    },
    {
     "name": "stdout",
     "output_type": "stream",
     "text": [
      "num contours 229\n"
     ]
    },
    {
     "name": "stderr",
     "output_type": "stream",
     "text": [
      "[================================================================] 6339 of 6339===============================       ] 3600 of 3984\n"
     ]
    },
    {
     "name": "stdout",
     "output_type": "stream",
     "text": [
      "num contours 61\n"
     ]
    },
    {
     "name": "stderr",
     "output_type": "stream",
     "text": [
      "[================================================================] 5058 of 5058                                         ] 0 of 1765\n"
     ]
    },
    {
     "name": "stdout",
     "output_type": "stream",
     "text": [
      "num contours 60\n"
     ]
    },
    {
     "name": "stderr",
     "output_type": "stream",
     "text": [
      "[================================================================] 3984 of 3984[==                                                                ] 54 of 1765\n",
      "[=========================                                        ] 702 of 1765\r"
     ]
    },
    {
     "name": "stdout",
     "output_type": "stream",
     "text": [
      "num contours 68\n"
     ]
    },
    {
     "name": "stderr",
     "output_type": "stream",
     "text": [
      "[================================================================] 7161 of 7161[==========================                                       ] 720 of 1765\n",
      "[======================                                         ] 4248 of 11721\r"
     ]
    },
    {
     "name": "stdout",
     "output_type": "stream",
     "text": [
      "num contours 102\n"
     ]
    },
    {
     "name": "stderr",
     "output_type": "stream",
     "text": [
      "[================================================================] 6341 of 6341                                      ] 1032 of 4266\n"
     ]
    },
    {
     "name": "stdout",
     "output_type": "stream",
     "text": [
      "num contours 146\n"
     ]
    },
    {
     "name": "stderr",
     "output_type": "stream",
     "text": [
      "[================================================================] 2332 of 2332==                                    ] 1188 of 2686\n"
     ]
    },
    {
     "name": "stdout",
     "output_type": "stream",
     "text": [
      "num contours 95\n"
     ]
    },
    {
     "name": "stderr",
     "output_type": "stream",
     "text": [
      "[================================================================] 7378 of 7378                                       ] 284 of 7096\n",
      "[===================================================             ] 2160 of 2686\r"
     ]
    },
    {
     "name": "stdout",
     "output_type": "stream",
     "text": [
      "num contours 118\n"
     ]
    },
    {
     "name": "stderr",
     "output_type": "stream",
     "text": [
      " 62%|██████▏   | 36/58 [1:26:56<53:07, 144.91s/it][================================================================] 7883 of 7883\n",
      "[==================                                             ] 3625 of 12436\r"
     ]
    },
    {
     "name": "stdout",
     "output_type": "stream",
     "text": [
      "num contours 184\n"
     ]
    },
    {
     "name": "stderr",
     "output_type": "stream",
     "text": [
      "[================================================================] 1765 of 1765                                      ] 1240 of 3028\n"
     ]
    },
    {
     "name": "stdout",
     "output_type": "stream",
     "text": [
      "num contours 63\n"
     ]
    },
    {
     "name": "stderr",
     "output_type": "stream",
     "text": [
      "[================================================================] 2686 of 2686[==========================                                      ] 1271 of 3028\n",
      "[========================================                        ] 1798 of 2851\r"
     ]
    },
    {
     "name": "stdout",
     "output_type": "stream",
     "text": [
      "num contours 127\n"
     ]
    },
    {
     "name": "stderr",
     "output_type": "stream",
     "text": [
      "[================================================================] 3028 of 3028===============                       ] 1827 of 2851\n",
      "[================================================================= ] 570 of 578\r"
     ]
    },
    {
     "name": "stdout",
     "output_type": "stream",
     "text": [
      "num contours 68\n"
     ]
    },
    {
     "name": "stderr",
     "output_type": "stream",
     "text": [
      "[==================================================================] 578 of 578============                          ] 2478 of 4121\n"
     ]
    },
    {
     "name": "stdout",
     "output_type": "stream",
     "text": [
      "num contours 44\n"
     ]
    },
    {
     "name": "stderr",
     "output_type": "stream",
     "text": [
      "[================================================================] 7096 of 7096                                         ] 0 of 6937\n"
     ]
    },
    {
     "name": "stdout",
     "output_type": "stream",
     "text": [
      "num contours 61\n"
     ]
    },
    {
     "name": "stderr",
     "output_type": "stream",
     "text": [
      "[================================================================] 7678 of 7678[=============================                                  ] 5875 of 12436\n"
     ]
    },
    {
     "name": "stdout",
     "output_type": "stream",
     "text": [
      "num contours 154\n"
     ]
    },
    {
     "name": "stderr",
     "output_type": "stream",
     "text": [
      "[================================================================] 4266 of 4266[=======                                                          ] 732 of 6084\n"
     ]
    },
    {
     "name": "stdout",
     "output_type": "stream",
     "text": [
      "num contours 75\n"
     ]
    },
    {
     "name": "stderr",
     "output_type": "stream",
     "text": [
      "[================================================================] 4992 of 4992[=====                                                            ] 536 of 6694\n"
     ]
    },
    {
     "name": "stdout",
     "output_type": "stream",
     "text": [
      "num contours 129\n"
     ]
    },
    {
     "name": "stderr",
     "output_type": "stream",
     "text": [
      "[================================================================] 2851 of 2851                                       ] 603 of 6694\n",
      "[===========                                                      ] 504 of 2756\r"
     ]
    },
    {
     "name": "stdout",
     "output_type": "stream",
     "text": [
      "num contours 85\n"
     ]
    },
    {
     "name": "stderr",
     "output_type": "stream",
     "text": [
      "[==============================================================] 13556 of 13556                                       ] 532 of 2756\n",
      "[====================                                            ] 1472 of 4540\r"
     ]
    },
    {
     "name": "stdout",
     "output_type": "stream",
     "text": [
      "num contours 172\n"
     ]
    },
    {
     "name": "stderr",
     "output_type": "stream",
     "text": [
      "[================================================================] 2756 of 2756[============================                                    ] 2684 of 6084\n"
     ]
    },
    {
     "name": "stdout",
     "output_type": "stream",
     "text": [
      "num contours 40\n"
     ]
    },
    {
     "name": "stderr",
     "output_type": "stream",
     "text": [
      "[================================================================] 4121 of 4121=======                               ] 3484 of 6694\n"
     ]
    },
    {
     "name": "stdout",
     "output_type": "stream",
     "text": [
      "num contours 41\n"
     ]
    },
    {
     "name": "stderr",
     "output_type": "stream",
     "text": [
      "[================================================================] 5363 of 5363=================================     ] 5022 of 5363\n",
      "[=====                                                            ] 585 of 6496\r"
     ]
    },
    {
     "name": "stdout",
     "output_type": "stream",
     "text": [
      "num contours 49\n"
     ]
    },
    {
     "name": "stderr",
     "output_type": "stream",
     "text": [
      "[================================================================] 6937 of 6937                                      ] 1056 of 6539\n"
     ]
    },
    {
     "name": "stdout",
     "output_type": "stream",
     "text": [
      "num contours 59\n"
     ]
    },
    {
     "name": "stderr",
     "output_type": "stream",
     "text": [
      "[================================================================] 5485 of 5485========                              ] 3233 of 6084\n",
      "[=====================================                           ] 3770 of 6496\r"
     ]
    },
    {
     "name": "stdout",
     "output_type": "stream",
     "text": [
      "num contours 130\n"
     ]
    },
    {
     "name": "stderr",
     "output_type": "stream",
     "text": [
      "[==============================================================] 11721 of 11721                                         ] 0 of 6450\n",
      "[======================================                          ] 3960 of 6539\r"
     ]
    },
    {
     "name": "stdout",
     "output_type": "stream",
     "text": [
      "num contours 201\n"
     ]
    },
    {
     "name": "stderr",
     "output_type": "stream",
     "text": [
      "[================================================================] 4540 of 4540[======================================                          ] 3900 of 6496\n"
     ]
    },
    {
     "name": "stdout",
     "output_type": "stream",
     "text": [
      "num contours 76\n"
     ]
    },
    {
     "name": "stderr",
     "output_type": "stream",
     "text": [
      "[================================================================] 6694 of 6694[===========================================================     ] 6231 of 6694\n"
     ]
    },
    {
     "name": "stdout",
     "output_type": "stream",
     "text": [
      "num contours 139\n"
     ]
    },
    {
     "name": "stderr",
     "output_type": "stream",
     "text": [
      "[================================================================] 3752 of 3752                                       ] 630 of 6975\n",
      "[=========================                                      ] 5120 of 12800\r"
     ]
    },
    {
     "name": "stdout",
     "output_type": "stream",
     "text": [
      "num contours 70\n"
     ]
    },
    {
     "name": "stderr",
     "output_type": "stream",
     "text": [
      "[================================================================] 3802 of 3802===================================== ] 3744 of 3802\n",
      "[===============                                                 ] 1560 of 6450\r"
     ]
    },
    {
     "name": "stdout",
     "output_type": "stream",
     "text": [
      "num contours 100\n"
     ]
    },
    {
     "name": "stderr",
     "output_type": "stream",
     "text": [
      "[================================================================] 6539 of 6539                                      ] 2800 of 6975\n"
     ]
    },
    {
     "name": "stdout",
     "output_type": "stream",
     "text": [
      "num contours 231\n"
     ]
    },
    {
     "name": "stderr",
     "output_type": "stream",
     "text": [
      "[================================================================] 6474 of 6474                                      ] 1386 of 7610\n"
     ]
    },
    {
     "name": "stdout",
     "output_type": "stream",
     "text": [
      "num contours 151\n"
     ]
    },
    {
     "name": "stderr",
     "output_type": "stream",
     "text": [
      " 52%|█████▏    | 30/58 [1:32:36<1:26:26, 185.22s/it]            ] 1290 of 12811[================================================================] 6084 of 6084\n"
     ]
    },
    {
     "name": "stdout",
     "output_type": "stream",
     "text": [
      "num contours 96\n"
     ]
    },
    {
     "name": "stderr",
     "output_type": "stream",
     "text": [
      "[================================================================] 6975 of 6975========                              ] 3445 of 6450\n"
     ]
    },
    {
     "name": "stdout",
     "output_type": "stream",
     "text": [
      "num contours 106\n"
     ]
    },
    {
     "name": "stderr",
     "output_type": "stream",
     "text": [
      "[================================================================] 4167 of 4167===============                       ] 4160 of 6450\n"
     ]
    },
    {
     "name": "stdout",
     "output_type": "stream",
     "text": [
      "num contours 132\n"
     ]
    },
    {
     "name": "stderr",
     "output_type": "stream",
     "text": [
      "[================================================================] 5960 of 5960================================      ] 5980 of 6496\n",
      "[=============================================================   ] 1880 of 1958\r"
     ]
    },
    {
     "name": "stdout",
     "output_type": "stream",
     "text": [
      "num contours 148\n"
     ]
    },
    {
     "name": "stderr",
     "output_type": "stream",
     "text": [
      "[================================================================] 4699 of 4699[==========                                                      ] 1105 of 6460\n",
      "[=                                                                 ] 81 of 2692\r"
     ]
    },
    {
     "name": "stdout",
     "output_type": "stream",
     "text": [
      "num contours 35\n"
     ]
    },
    {
     "name": "stderr",
     "output_type": "stream",
     "text": [
      "[================================================================] 6496 of 6496===============                      ] 7656 of 11513\n"
     ]
    },
    {
     "name": "stdout",
     "output_type": "stream",
     "text": [
      "num contours 148\n"
     ]
    },
    {
     "name": "stderr",
     "output_type": "stream",
     "text": [
      "[================================================================] 2692 of 2692[============                                                    ] 1235 of 6460\n",
      "[==============================                                  ] 1457 of 3011\r"
     ]
    },
    {
     "name": "stdout",
     "output_type": "stream",
     "text": [
      "num contours 45\n"
     ]
    },
    {
     "name": "stderr",
     "output_type": "stream",
     "text": [
      "[================================================================] 1958 of 1958[================================                                ] 3315 of 6460\n"
     ]
    },
    {
     "name": "stdout",
     "output_type": "stream",
     "text": [
      "num contours 30\n"
     ]
    },
    {
     "name": "stderr",
     "output_type": "stream",
     "text": [
      "[================================================================] 2301 of 2301[==================================================              ] 1800 of 2301\n",
      "[=============================================================   ] 6240 of 6450\r"
     ]
    },
    {
     "name": "stdout",
     "output_type": "stream",
     "text": [
      "num contours 81\n"
     ]
    },
    {
     "name": "stderr",
     "output_type": "stream",
     "text": [
      "[================================================================] 6450 of 6450                                         ] 0 of 3223\n",
      "[===============================                                ] 6321 of 12811\r"
     ]
    },
    {
     "name": "stdout",
     "output_type": "stream",
     "text": [
      "num contours 47\n"
     ]
    },
    {
     "name": "stderr",
     "output_type": "stream",
     "text": [
      "[================================================================] 3223 of 3223[============================================                    ] 4485 of 6460\n"
     ]
    },
    {
     "name": "stdout",
     "output_type": "stream",
     "text": [
      "num contours 36\n"
     ]
    },
    {
     "name": "stderr",
     "output_type": "stream",
     "text": [
      "[================================================================] 5007 of 5007=========                             ] 2805 of 5007\n"
     ]
    },
    {
     "name": "stdout",
     "output_type": "stream",
     "text": [
      "num contours 47\n"
     ]
    },
    {
     "name": "stderr",
     "output_type": "stream",
     "text": [
      "[================================================================] 3011 of 3011[                                                                   ] 0 of 2889\n",
      "[=============================================                   ] 5040 of 7111\r"
     ]
    },
    {
     "name": "stdout",
     "output_type": "stream",
     "text": [
      "num contours 47\n"
     ]
    },
    {
     "name": "stderr",
     "output_type": "stream",
     "text": [
      "[==============================================================] 11513 of 11513                                       ] 145 of 2889\n"
     ]
    },
    {
     "name": "stdout",
     "output_type": "stream",
     "text": [
      "num contours 227\n"
     ]
    },
    {
     "name": "stderr",
     "output_type": "stream",
     "text": [
      "[================================================================] 7068 of 7068===========================           ] 5395 of 6460\n",
      "[================================================                ] 2204 of 2889\r"
     ]
    },
    {
     "name": "stdout",
     "output_type": "stream",
     "text": [
      "num contours 115\n"
     ]
    },
    {
     "name": "stderr",
     "output_type": "stream",
     "text": [
      "[==============================================================] 12436 of 12436==============                        ] 3213 of 5018\n"
     ]
    },
    {
     "name": "stdout",
     "output_type": "stream",
     "text": [
      "num contours 128\n"
     ]
    },
    {
     "name": "stderr",
     "output_type": "stream",
     "text": [
      "[================================================================] 6460 of 6460                                       ] 264 of 4362\n",
      "[=================                                               ] 1188 of 4362\r"
     ]
    },
    {
     "name": "stdout",
     "output_type": "stream",
     "text": [
      "num contours 217\n"
     ]
    },
    {
     "name": "stderr",
     "output_type": "stream",
     "text": [
      "[================================================================] 7610 of 7610==============                      ] 3752 of 5596\n",
      "[==============================================================  ] 6014 of 6176\r"
     ]
    },
    {
     "name": "stdout",
     "output_type": "stream",
     "text": [
      "num contours 145\n"
     ]
    },
    {
     "name": "stderr",
     "output_type": "stream",
     "text": [
      "[================================================================] 6176 of 6176[                                                                   ] 0 of 6644\n",
      "[=====================                                           ] 2414 of 7100\r"
     ]
    },
    {
     "name": "stdout",
     "output_type": "stream",
     "text": [
      "num contours 115\n"
     ]
    },
    {
     "name": "stderr",
     "output_type": "stream",
     "text": [
      "[================================================================] 2889 of 2889                                       ] 888 of 3621\n"
     ]
    },
    {
     "name": "stdout",
     "output_type": "stream",
     "text": [
      "num contours 51\n"
     ]
    },
    {
     "name": "stderr",
     "output_type": "stream",
     "text": [
      "[================================================================] 3869 of 3869[                                                                   ] 0 of 3105\n",
      "[======================================================          ] 3740 of 4362\r"
     ]
    },
    {
     "name": "stdout",
     "output_type": "stream",
     "text": [
      "num contours 68\n"
     ]
    },
    {
     "name": "stderr",
     "output_type": "stream",
     "text": [
      "[================================================================] 5018 of 5018[===========================================                     ] 2442 of 3621\n"
     ]
    },
    {
     "name": "stdout",
     "output_type": "stream",
     "text": [
      "num contours 153\n"
     ]
    },
    {
     "name": "stderr",
     "output_type": "stream",
     "text": [
      "[================================================================] 5596 of 5596[========================================================        ] 3828 of 4362\n",
      "[============================================                    ] 4623 of 6644\r"
     ]
    },
    {
     "name": "stdout",
     "output_type": "stream",
     "text": [
      "num contours 154\n"
     ]
    },
    {
     "name": "stderr",
     "output_type": "stream",
     "text": [
      " 59%|█████▊    | 34/58 [1:38:20<1:09:25, 173.54s/it]             ] 1680 of 4139[================================================================] 7111 of 7111\n"
     ]
    },
    {
     "name": "stdout",
     "output_type": "stream",
     "text": [
      "num contours 171\n"
     ]
    },
    {
     "name": "stderr",
     "output_type": "stream",
     "text": [
      "[================================================================] 4362 of 4362[==============================================================  ] 4268 of 4362\n"
     ]
    },
    {
     "name": "stdout",
     "output_type": "stream",
     "text": [
      "num contours 56\n"
     ]
    },
    {
     "name": "stderr",
     "output_type": "stream",
     "text": [
      "[================================================================] 3621 of 3621[=====                                                            ] 472 of 5864\n"
     ]
    },
    {
     "name": "stdout",
     "output_type": "stream",
     "text": [
      "num contours 54\n"
     ]
    },
    {
     "name": "stderr",
     "output_type": "stream",
     "text": [
      "[================================================================] 7100 of 7100==========================        ] 11223 of 12811\n"
     ]
    },
    {
     "name": "stdout",
     "output_type": "stream",
     "text": [
      "num contours 68\n"
     ]
    },
    {
     "name": "stderr",
     "output_type": "stream",
     "text": [
      "[================================================================] 6644 of 6644=                                     ] 2752 of 6380\n"
     ]
    },
    {
     "name": "stdout",
     "output_type": "stream",
     "text": [
      "num contours 52\n"
     ]
    },
    {
     "name": "stderr",
     "output_type": "stream",
     "text": [
      "[================================================================] 3105 of 3105                                      ] 1320 of 6561\n",
      "[=================                                               ] 2133 of 7877\r"
     ]
    },
    {
     "name": "stdout",
     "output_type": "stream",
     "text": [
      "num contours 57\n"
     ]
    },
    {
     "name": "stderr",
     "output_type": "stream",
     "text": [
      "[==============================================================] 12811 of 12811[==============                                                  ] 1452 of 6561\n",
      "[===========================================================     ] 1911 of 2062\r"
     ]
    },
    {
     "name": "stdout",
     "output_type": "stream",
     "text": [
      "num contours 114\n"
     ]
    },
    {
     "name": "stderr",
     "output_type": "stream",
     "text": [
      "[================================================================] 2062 of 2062[===========================================================     ] 1932 of 2062\n"
     ]
    },
    {
     "name": "stdout",
     "output_type": "stream",
     "text": [
      "num contours 54\n"
     ]
    },
    {
     "name": "stderr",
     "output_type": "stream",
     "text": [
      "[================================================================] 6380 of 6380===                                   ] 3818 of 8227\n"
     ]
    },
    {
     "name": "stdout",
     "output_type": "stream",
     "text": [
      "num contours 52\n"
     ]
    },
    {
     "name": "stderr",
     "output_type": "stream",
     "text": [
      "[================================================================] 4139 of 4139[====================================                            ] 3762 of 6561\n"
     ]
    },
    {
     "name": "stdout",
     "output_type": "stream",
     "text": [
      "num contours 82\n"
     ]
    },
    {
     "name": "stderr",
     "output_type": "stream",
     "text": [
      "[================================================================] 6819 of 6819[===================================================           ] 10624 of 12800\n",
      "[                                                                   ] 0 of 6210\r"
     ]
    },
    {
     "name": "stdout",
     "output_type": "stream",
     "text": [
      "num contours 62\n"
     ]
    },
    {
     "name": "stderr",
     "output_type": "stream",
     "text": [
      "[================================================================] 5864 of 5864====                                ] 3350 of 6629\n"
     ]
    },
    {
     "name": "stdout",
     "output_type": "stream",
     "text": [
      "num contours 81\n"
     ]
    },
    {
     "name": "stderr",
     "output_type": "stream",
     "text": [
      "[================================================================] 3537 of 3537=========================             ] 6320 of 7877\n"
     ]
    },
    {
     "name": "stdout",
     "output_type": "stream",
     "text": [
      "num contours 50\n"
     ]
    },
    {
     "name": "stderr",
     "output_type": "stream",
     "text": [
      "[================================================================] 3832 of 3832======================                ] 3375 of 4427\n"
     ]
    },
    {
     "name": "stdout",
     "output_type": "stream",
     "text": [
      "num contours 42\n"
     ]
    },
    {
     "name": "stderr",
     "output_type": "stream",
     "text": [
      "[================================================================] 4427 of 4427                                         ] 0 of 2317\n"
     ]
    },
    {
     "name": "stdout",
     "output_type": "stream",
     "text": [
      "num contours 91\n"
     ]
    },
    {
     "name": "stderr",
     "output_type": "stream",
     "text": [
      "[================================================================] 6561 of 6561[==========================                                       ] 960 of 2317\n",
      "[===========================================================     ] 7347 of 7877\r"
     ]
    },
    {
     "name": "stdout",
     "output_type": "stream",
     "text": [
      "num contours 114\n"
     ]
    },
    {
     "name": "stderr",
     "output_type": "stream",
     "text": [
      "[==============================================================] 12800 of 12800===                                   ] 1080 of 2317\n",
      "[=======================================================         ] 5418 of 6210\r"
     ]
    },
    {
     "name": "stdout",
     "output_type": "stream",
     "text": [
      "num contours 149\n"
     ]
    },
    {
     "name": "stderr",
     "output_type": "stream",
     "text": [
      "[================================================================] 6210 of 6210[===========================================                     ] 1584 of 2317\n",
      "[=========                                                        ] 885 of 5809\r"
     ]
    },
    {
     "name": "stdout",
     "output_type": "stream",
     "text": [
      "num contours 224\n"
     ]
    },
    {
     "name": "stderr",
     "output_type": "stream",
     "text": [
      "[================================================================] 2317 of 2317                                       ] 944 of 5809\n"
     ]
    },
    {
     "name": "stdout",
     "output_type": "stream",
     "text": [
      "num contours 62\n"
     ]
    },
    {
     "name": "stderr",
     "output_type": "stream",
     "text": [
      "[================================================================] 8227 of 8227                                      ] 1836 of 5359\n",
      "[==============================================                  ] 3888 of 5359\r"
     ]
    },
    {
     "name": "stdout",
     "output_type": "stream",
     "text": [
      "num contours 78\n"
     ]
    },
    {
     "name": "stderr",
     "output_type": "stream",
     "text": [
      "[================================================================] 2325 of 2325====================                  ] 4248 of 5809\n"
     ]
    },
    {
     "name": "stdout",
     "output_type": "stream",
     "text": [
      "num contours 126\n"
     ]
    },
    {
     "name": "stderr",
     "output_type": "stream",
     "text": [
      "[================================================================] 7877 of 7877                                      ] 3230 of 9442\n",
      "[======                                                           ] 440 of 4336\r"
     ]
    },
    {
     "name": "stdout",
     "output_type": "stream",
     "text": [
      "num contours 75\n"
     ]
    },
    {
     "name": "stderr",
     "output_type": "stream",
     "text": [
      "[================================================================] 6629 of 6629[                                                                   ] 0 of 4144\n"
     ]
    },
    {
     "name": "stdout",
     "output_type": "stream",
     "text": [
      "num contours 159\n"
     ]
    },
    {
     "name": "stderr",
     "output_type": "stream",
     "text": [
      "[================================================================] 5809 of 5809[==============================================                  ] 3672 of 5062\n",
      "[===============                                                 ] 1056 of 4336\r"
     ]
    },
    {
     "name": "stdout",
     "output_type": "stream",
     "text": [
      "num contours 125\n"
     ]
    },
    {
     "name": "stderr",
     "output_type": "stream",
     "text": [
      "[================================================================] 4144 of 4144===================                 ] 3996 of 5359\n"
     ]
    },
    {
     "name": "stdout",
     "output_type": "stream",
     "text": [
      "num contours 29\n"
     ]
    },
    {
     "name": "stderr",
     "output_type": "stream",
     "text": [
      "[================================================================] 3255 of 3255==================================    ] 3102 of 3255\n"
     ]
    },
    {
     "name": "stdout",
     "output_type": "stream",
     "text": [
      "num contours 103\n"
     ]
    },
    {
     "name": "stderr",
     "output_type": "stream",
     "text": [
      "[================================================================] 5062 of 5062============                          ] 2280 of 3788\n"
     ]
    },
    {
     "name": "stdout",
     "output_type": "stream",
     "text": [
      "num contours 156\n"
     ]
    },
    {
     "name": "stderr",
     "output_type": "stream",
     "text": [
      "[================================================================] 7429 of 7429[                                                                   ] 0 of 1539\n",
      "[=====                                                            ] 837 of 9288\r"
     ]
    },
    {
     "name": "stdout",
     "output_type": "stream",
     "text": [
      "num contours 141\n"
     ]
    },
    {
     "name": "stderr",
     "output_type": "stream",
     "text": [
      "[================================================================] 1539 of 1539[==================                                               ] 899 of 3099\n"
     ]
    },
    {
     "name": "stdout",
     "output_type": "stream",
     "text": [
      "num contours 67\n"
     ]
    },
    {
     "name": "stderr",
     "output_type": "stream",
     "text": [
      "[================================================================] 4336 of 4336                                       ] 936 of 2377\n"
     ]
    },
    {
     "name": "stdout",
     "output_type": "stream",
     "text": [
      "num contours 118\n"
     ]
    },
    {
     "name": "stderr",
     "output_type": "stream",
     "text": [
      "[================================================================] 3099 of 3099                                      ] 2139 of 9288\n"
     ]
    },
    {
     "name": "stdout",
     "output_type": "stream",
     "text": [
      "num contours 68\n"
     ]
    },
    {
     "name": "stderr",
     "output_type": "stream",
     "text": [
      "[==============================================================] 12094 of 12094============================          ] 2040 of 2377\n",
      "[==================                                              ] 2697 of 9288\r"
     ]
    },
    {
     "name": "stdout",
     "output_type": "stream",
     "text": [
      "num contours 112\n"
     ]
    },
    {
     "name": "stderr",
     "output_type": "stream",
     "text": [
      "[================================================================] 2377 of 2377[                                                                   ] 0 of 4565\n"
     ]
    },
    {
     "name": "stdout",
     "output_type": "stream",
     "text": [
      "num contours 121\n"
     ]
    },
    {
     "name": "stderr",
     "output_type": "stream",
     "text": [
      "[================================================================] 3788 of 3788                                      ] 1386 of 6560\n",
      "[===============                                                 ] 1584 of 6560\r"
     ]
    },
    {
     "name": "stdout",
     "output_type": "stream",
     "text": [
      "num contours 104\n"
     ]
    },
    {
     "name": "stderr",
     "output_type": "stream",
     "text": [
      "[================================================================] 1916 of 1916[==================                                               ] 540 of 1916\n"
     ]
    },
    {
     "name": "stdout",
     "output_type": "stream",
     "text": [
      "num contours 99\n"
     ]
    },
    {
     "name": "stderr",
     "output_type": "stream",
     "text": [
      "[================================================================] 7820 of 7820[===================                                             ] 1980 of 6560\n",
      "[======================                                          ] 1610 of 4565\r"
     ]
    },
    {
     "name": "stdout",
     "output_type": "stream",
     "text": [
      "num contours 124\n"
     ]
    },
    {
     "name": "stderr",
     "output_type": "stream",
     "text": [
      "[================================================================] 5359 of 5359                                   ] 2688 of 11153\n"
     ]
    },
    {
     "name": "stdout",
     "output_type": "stream",
     "text": [
      "num contours 137\n"
     ]
    },
    {
     "name": "stderr",
     "output_type": "stream",
     "text": [
      "[================================================================] 3855 of 3855========                              ] 3498 of 6560\n"
     ]
    },
    {
     "name": "stdout",
     "output_type": "stream",
     "text": [
      "num contours 65\n"
     ]
    },
    {
     "name": "stderr",
     "output_type": "stream",
     "text": [
      "[================================================================] 9442 of 9442[=========================                                      ] 5320 of 13237\n"
     ]
    },
    {
     "name": "stdout",
     "output_type": "stream",
     "text": [
      "num contours 228\n"
     ]
    },
    {
     "name": "stderr",
     "output_type": "stream",
     "text": [
      "[================================================================] 6198 of 6198[                                                                   ] 0 of 6663\n",
      "[==============================================                  ] 1775 of 2463\r"
     ]
    },
    {
     "name": "stdout",
     "output_type": "stream",
     "text": [
      "num contours 106\n"
     ]
    },
    {
     "name": "stderr",
     "output_type": "stream",
     "text": [
      "[================================================================] 9288 of 9288==============================      ] 6480 of 7101\n"
     ]
    },
    {
     "name": "stdout",
     "output_type": "stream",
     "text": [
      "num contours 178\n"
     ]
    },
    {
     "name": "stderr",
     "output_type": "stream",
     "text": [
      "[==============================================================] 11153 of 11153==================================  ] 10864 of 11153\n"
     ]
    },
    {
     "name": "stdout",
     "output_type": "stream",
     "text": [
      "num contours 228\n"
     ]
    },
    {
     "name": "stderr",
     "output_type": "stream",
     "text": [
      "[================================================================] 7101 of 7101[                                                                   ] 0 of 6545\n"
     ]
    },
    {
     "name": "stdout",
     "output_type": "stream",
     "text": [
      "num contours 184\n"
     ]
    },
    {
     "name": "stderr",
     "output_type": "stream",
     "text": [
      "[================================================================] 4165 of 4165===============================     ] 6188 of 6709\n",
      "[======                                                           ] 660 of 6545\r"
     ]
    },
    {
     "name": "stdout",
     "output_type": "stream",
     "text": [
      "num contours 89\n"
     ]
    },
    {
     "name": "stderr",
     "output_type": "stream",
     "text": [
      "[================================================================] 6709 of 6709[===============================================                 ] 1752 of 2365\n",
      "[==========================================================      ] 2160 of 2365\r"
     ]
    },
    {
     "name": "stdout",
     "output_type": "stream",
     "text": [
      "num contours 60\n"
     ]
    },
    {
     "name": "stderr",
     "output_type": "stream",
     "text": [
      "[================================================================] 6560 of 6560[                                                                   ] 0 of 3208\n",
      "[=======================                                         ] 2376 of 6545\r"
     ]
    },
    {
     "name": "stdout",
     "output_type": "stream",
     "text": [
      "num contours 141\n"
     ]
    },
    {
     "name": "stderr",
     "output_type": "stream",
     "text": [
      "[================================================================] 2365 of 2365[=================                                                ] 858 of 3208\n"
     ]
    },
    {
     "name": "stdout",
     "output_type": "stream",
     "text": [
      "num contours 41\n"
     ]
    },
    {
     "name": "stderr",
     "output_type": "stream",
     "text": [
      "[================================================================] 2463 of 2463=====                               ] 1683 of 3213\n",
      "[=========                                                        ] 195 of 1288\r"
     ]
    },
    {
     "name": "stdout",
     "output_type": "stream",
     "text": [
      "num contours 61\n"
     ]
    },
    {
     "name": "stderr",
     "output_type": "stream",
     "text": [
      "[================================================================] 6475 of 6475                                       ] 208 of 1288\n",
      "[=============================================                     ] 469 of 687\r"
     ]
    },
    {
     "name": "stdout",
     "output_type": "stream",
     "text": [
      "num contours 148\n"
     ]
    },
    {
     "name": "stderr",
     "output_type": "stream",
     "text": [
      "[================================================================] 1288 of 1288=================                     ] 476 of 687\n",
      "[==                                                               ] 156 of 3818\r"
     ]
    },
    {
     "name": "stdout",
     "output_type": "stream",
     "text": [
      "num contours 80\n"
     ]
    },
    {
     "name": "stderr",
     "output_type": "stream",
     "text": [
      "[==================================================================] 687 of 687[======================================================          ] 3735 of 4403\n"
     ]
    },
    {
     "name": "stdout",
     "output_type": "stream",
     "text": [
      "num contours 64\n"
     ]
    },
    {
     "name": "stderr",
     "output_type": "stream",
     "text": [
      "[================================================================] 4403 of 4403                                         ] 0 of 3164\n"
     ]
    },
    {
     "name": "stdout",
     "output_type": "stream",
     "text": [
      "num contours 177\n"
     ]
    },
    {
     "name": "stderr",
     "output_type": "stream",
     "text": [
      "[================================================================] 4565 of 4565[================================================                ] 1950 of 2551\n",
      "[====================================================            ] 5346 of 6545\r"
     ]
    },
    {
     "name": "stdout",
     "output_type": "stream",
     "text": [
      "num contours 75\n"
     ]
    },
    {
     "name": "stderr",
     "output_type": "stream",
     "text": [
      "[================================================================] 3213 of 3213[==================================================              ] 2028 of 2551\n"
     ]
    },
    {
     "name": "stdout",
     "output_type": "stream",
     "text": [
      "num contours 100\n"
     ]
    },
    {
     "name": "stderr",
     "output_type": "stream",
     "text": [
      "[================================================================] 3208 of 3208                                     ] 684 of 3749\n"
     ]
    },
    {
     "name": "stdout",
     "output_type": "stream",
     "text": [
      "num contours 111\n"
     ]
    },
    {
     "name": "stderr",
     "output_type": "stream",
     "text": [
      "[================================================================] 6663 of 6663                                     ] 528 of 6520\n"
     ]
    },
    {
     "name": "stdout",
     "output_type": "stream",
     "text": [
      "num contours 117\n"
     ]
    },
    {
     "name": "stderr",
     "output_type": "stream",
     "text": [
      "[================================================================] 2551 of 2551                                     ] 1280 of 12705\n",
      "[===================================================             ] 3040 of 3749\r"
     ]
    },
    {
     "name": "stdout",
     "output_type": "stream",
     "text": [
      "num contours 99\n"
     ]
    },
    {
     "name": "stderr",
     "output_type": "stream",
     "text": [
      "[================================================================] 2811 of 2811================================    ] 2668 of 2811\n",
      "[=======================================================         ] 3230 of 3749\r"
     ]
    },
    {
     "name": "stdout",
     "output_type": "stream",
     "text": [
      "num contours 111\n"
     ]
    },
    {
     "name": "stderr",
     "output_type": "stream",
     "text": [
      "[================================================================] 3749 of 3749[                                                                  ] 57 of 5630\n"
     ]
    },
    {
     "name": "stdout",
     "output_type": "stream",
     "text": [
      "num contours 65\n"
     ]
    },
    {
     "name": "stderr",
     "output_type": "stream",
     "text": [
      "[================================================================] 1426 of 1426                                      ] 675 of 13417\n"
     ]
    },
    {
     "name": "stdout",
     "output_type": "stream",
     "text": [
      "num contours 32\n"
     ]
    },
    {
     "name": "stderr",
     "output_type": "stream",
     "text": [
      "[================================================================] 4039 of 4039==============                        ] 4158 of 6520\n"
     ]
    },
    {
     "name": "stdout",
     "output_type": "stream",
     "text": [
      "num contours 66\n"
     ]
    },
    {
     "name": "stderr",
     "output_type": "stream",
     "text": [
      "[================================================================] 3164 of 3164[=========================================                       ] 4224 of 6520\n"
     ]
    },
    {
     "name": "stdout",
     "output_type": "stream",
     "text": [
      "num contours 76\n"
     ]
    },
    {
     "name": "stderr",
     "output_type": "stream",
     "text": [
      "[================================================================] 6545 of 6545[==============================                                  ] 1920 of 3974\n"
     ]
    },
    {
     "name": "stdout",
     "output_type": "stream",
     "text": [
      "num contours 125\n"
     ]
    },
    {
     "name": "stderr",
     "output_type": "stream",
     "text": [
      "[================================================================] 2272 of 2272                                    ] 1590 of 5210\n"
     ]
    },
    {
     "name": "stdout",
     "output_type": "stream",
     "text": [
      "num contours 15\n"
     ]
    },
    {
     "name": "stderr",
     "output_type": "stream",
     "text": [
      "[==============================================================] 13237 of 13237==============                      ] 3762 of 5630\n",
      "[=====================                                           ] 2550 of 7469\r"
     ]
    },
    {
     "name": "stdout",
     "output_type": "stream",
     "text": [
      "num contours 90\n"
     ]
    },
    {
     "name": "stderr",
     "output_type": "stream",
     "text": [
      "[================================================================] 5210 of 5210                                       ] 528 of 3211\n"
     ]
    },
    {
     "name": "stdout",
     "output_type": "stream",
     "text": [
      "num contours 47\n"
     ]
    },
    {
     "name": "stderr",
     "output_type": "stream",
     "text": [
      "[================================================================] 3818 of 3818                                     ] 3510 of 13417\n"
     ]
    },
    {
     "name": "stdout",
     "output_type": "stream",
     "text": [
      "num contours 84\n"
     ]
    },
    {
     "name": "stderr",
     "output_type": "stream",
     "text": [
      "[================================================================] 3974 of 3974                                    ] 1420 of 7090\n"
     ]
    },
    {
     "name": "stdout",
     "output_type": "stream",
     "text": [
      "num contours 81\n"
     ]
    },
    {
     "name": "stderr",
     "output_type": "stream",
     "text": [
      "[================================================================] 5630 of 5630                                    ] 1449 of 6300\n",
      "[=======                                                          ] 902 of 8104\r"
     ]
    },
    {
     "name": "stdout",
     "output_type": "stream",
     "text": [
      "num contours 101\n"
     ]
    },
    {
     "name": "stderr",
     "output_type": "stream",
     "text": [
      "[==============================================================] 12705 of 12705[========================================================        ] 6600 of 7469\n",
      "[==========================                                      ] 2911 of 7090\r"
     ]
    },
    {
     "name": "stdout",
     "output_type": "stream",
     "text": [
      "num contours 321\n"
     ]
    },
    {
     "name": "stderr",
     "output_type": "stream",
     "text": [
      " 69%|██████▉   | 40/58 [1:55:11<51:49, 172.78s/it][================================================================] 7469 of 7469\n",
      "[=======================                                         ] 2952 of 8104\r"
     ]
    },
    {
     "name": "stdout",
     "output_type": "stream",
     "text": [
      "num contours 225\n"
     ]
    },
    {
     "name": "stderr",
     "output_type": "stream",
     "text": [
      "[================================================================] 6520 of 6520==================================    ] 3036 of 3211\n",
      "[=======================                                         ] 3034 of 8104\r"
     ]
    },
    {
     "name": "stdout",
     "output_type": "stream",
     "text": [
      "num contours 136\n"
     ]
    },
    {
     "name": "stderr",
     "output_type": "stream",
     "text": [
      "[==================================================================] 710 of 710[==========================                                      ] 2982 of 7090\n"
     ]
    },
    {
     "name": "stdout",
     "output_type": "stream",
     "text": [
      "num contours 21\n"
     ]
    },
    {
     "name": "stderr",
     "output_type": "stream",
     "text": [
      "[================================================================] 9396 of 9396================                     ] 8092 of 11858\n"
     ]
    },
    {
     "name": "stdout",
     "output_type": "stream",
     "text": [
      "num contours 253\n"
     ]
    },
    {
     "name": "stderr",
     "output_type": "stream",
     "text": [
      "[================================================================] 2687 of 2687[========================================================        ] 7134 of 8104\n"
     ]
    },
    {
     "name": "stdout",
     "output_type": "stream",
     "text": [
      "num contours 62\n"
     ]
    },
    {
     "name": "stderr",
     "output_type": "stream",
     "text": [
      "[================================================================] 6925 of 6925[====                                                            ] 945 of 13499\n"
     ]
    },
    {
     "name": "stdout",
     "output_type": "stream",
     "text": [
      "num contours 104\n"
     ]
    },
    {
     "name": "stderr",
     "output_type": "stream",
     "text": [
      "[================================================================] 8104 of 8104================                    ] 3105 of 4484\n"
     ]
    },
    {
     "name": "stdout",
     "output_type": "stream",
     "text": [
      "num contours 96\n"
     ]
    },
    {
     "name": "stderr",
     "output_type": "stream",
     "text": [
      "[================================================================] 3211 of 3211=========================           ] 3116 of 3714\n",
      "[================================================                ] 3420 of 4484\r"
     ]
    },
    {
     "name": "stdout",
     "output_type": "stream",
     "text": [
      "num contours 99\n"
     ]
    },
    {
     "name": "stderr",
     "output_type": "stream",
     "text": [
      "[================================================================] 4484 of 4484==============================      ] 3382 of 3714\n"
     ]
    },
    {
     "name": "stdout",
     "output_type": "stream",
     "text": [
      "num contours 67\n"
     ]
    },
    {
     "name": "stderr",
     "output_type": "stream",
     "text": [
      "[================================================================] 6419 of 6419[===========================                                     ] 2279 of 5252\n"
     ]
    },
    {
     "name": "stdout",
     "output_type": "stream",
     "text": [
      "num contours 83\n"
     ]
    },
    {
     "name": "stderr",
     "output_type": "stream",
     "text": [
      "[================================================================] 3714 of 3714[=======================                                         ] 1332 of 3657\n",
      "[===========================================                     ] 3551 of 5252\r"
     ]
    },
    {
     "name": "stdout",
     "output_type": "stream",
     "text": [
      "num contours 44\n"
     ]
    },
    {
     "name": "stderr",
     "output_type": "stream",
     "text": [
      "[==============================================================] 11858 of 11858[=============                                                  ] 2970 of 13499\n",
      "[=============================================                   ] 3763 of 5252\r"
     ]
    },
    {
     "name": "stdout",
     "output_type": "stream",
     "text": [
      "num contours 215\n"
     ]
    },
    {
     "name": "stderr",
     "output_type": "stream",
     "text": [
      "[================================================================] 6300 of 6300[=                                                                 ] 64 of 3154\n",
      "[=====                                                            ] 288 of 3154\r"
     ]
    },
    {
     "name": "stdout",
     "output_type": "stream",
     "text": [
      "num contours 72\n"
     ]
    },
    {
     "name": "stderr",
     "output_type": "stream",
     "text": [
      "[================================================================] 2504 of 2504                                     ] 234 of 2504\n"
     ]
    },
    {
     "name": "stdout",
     "output_type": "stream",
     "text": [
      "num contours 64\n"
     ]
    },
    {
     "name": "stderr",
     "output_type": "stream",
     "text": [
      "[================================================================] 3154 of 3154                                      ] 2584 of 6771\n"
     ]
    },
    {
     "name": "stdout",
     "output_type": "stream",
     "text": [
      "num contours 33\n"
     ]
    },
    {
     "name": "stderr",
     "output_type": "stream",
     "text": [
      "[================================================================] 3733 of 3733[===============================                                 ] 1862 of 3733\n"
     ]
    },
    {
     "name": "stdout",
     "output_type": "stream",
     "text": [
      "num contours 81\n"
     ]
    },
    {
     "name": "stderr",
     "output_type": "stream",
     "text": [
      "[================================================================] 3657 of 3657=============                         ] 2074 of 3393\n"
     ]
    },
    {
     "name": "stdout",
     "output_type": "stream",
     "text": [
      "num contours 86\n"
     ]
    },
    {
     "name": "stderr",
     "output_type": "stream",
     "text": [
      "[================================================================] 5252 of 5252=======================             ] 5135 of 6427\n",
      "[=======================================================         ] 5934 of 6820\r"
     ]
    },
    {
     "name": "stdout",
     "output_type": "stream",
     "text": [
      "num contours 158\n"
     ]
    },
    {
     "name": "stderr",
     "output_type": "stream",
     "text": [
      "[================================================================] 3393 of 3393=============================       ] 5785 of 6427\n"
     ]
    },
    {
     "name": "stdout",
     "output_type": "stream",
     "text": [
      "num contours 51\n"
     ]
    },
    {
     "name": "stderr",
     "output_type": "stream",
     "text": [
      "[================================================================] 7090 of 7090===========                          ] 8100 of 13499\n",
      "[=====================                                           ] 2079 of 6240\r"
     ]
    },
    {
     "name": "stdout",
     "output_type": "stream",
     "text": [
      "num contours 236\n"
     ]
    },
    {
     "name": "stderr",
     "output_type": "stream",
     "text": [
      "[==============================================================] 13417 of 13417[====================                                            ] 2208 of 6872\n"
     ]
    },
    {
     "name": "stdout",
     "output_type": "stream",
     "text": [
      "num contours 98\n"
     ]
    },
    {
     "name": "stderr",
     "output_type": "stream",
     "text": [
      "[================================================================] 6771 of 6771[===========================                                     ] 2967 of 6872\n"
     ]
    },
    {
     "name": "stdout",
     "output_type": "stream",
     "text": [
      "num contours 91\n"
     ]
    },
    {
     "name": "stderr",
     "output_type": "stream",
     "text": [
      "[================================================================] 6820 of 6820                                    ] 1900 of 4963\n"
     ]
    },
    {
     "name": "stdout",
     "output_type": "stream",
     "text": [
      "num contours 89\n"
     ]
    },
    {
     "name": "stderr",
     "output_type": "stream",
     "text": [
      "[================================================================] 3908 of 3908                                    ] 1024 of 3147\n"
     ]
    },
    {
     "name": "stdout",
     "output_type": "stream",
     "text": [
      "num contours 91\n"
     ]
    },
    {
     "name": "stderr",
     "output_type": "stream",
     "text": [
      "[================================================================] 6427 of 6427[======================================                          ] 1888 of 3147\n"
     ]
    },
    {
     "name": "stdout",
     "output_type": "stream",
     "text": [
      "num contours 88\n"
     ]
    },
    {
     "name": "stderr",
     "output_type": "stream",
     "text": [
      "[================================================================] 7830 of 7830[=============================================                   ] 1794 of 2502\n",
      "[======================================================          ] 2050 of 2424\r"
     ]
    },
    {
     "name": "stdout",
     "output_type": "stream",
     "text": [
      "num contours 187\n"
     ]
    },
    {
     "name": "stderr",
     "output_type": "stream",
     "text": [
      "[================================================================] 8707 of 8707[===============================                                 ] 2499 of 5042\n"
     ]
    },
    {
     "name": "stdout",
     "output_type": "stream",
     "text": [
      "num contours 88\n"
     ]
    },
    {
     "name": "stderr",
     "output_type": "stream",
     "text": [
      "[================================================================] 2020 of 2020[=======                                                          ] 726 of 6562\n"
     ]
    },
    {
     "name": "stdout",
     "output_type": "stream",
     "text": [
      "num contours 57\n"
     ]
    },
    {
     "name": "stderr",
     "output_type": "stream",
     "text": [
      "[================================================================] 2502 of 2502[=======================================                         ] 3111 of 5042\n",
      "[=====================================================           ] 5229 of 6240\r"
     ]
    },
    {
     "name": "stdout",
     "output_type": "stream",
     "text": [
      "num contours 100\n"
     ]
    },
    {
     "name": "stderr",
     "output_type": "stream",
     "text": [
      "[================================================================] 2424 of 2424[                                                                   ] 0 of 3052\n"
     ]
    },
    {
     "name": "stdout",
     "output_type": "stream",
     "text": [
      "num contours 57\n"
     ]
    },
    {
     "name": "stderr",
     "output_type": "stream",
     "text": [
      "[================================================================] 4963 of 4963                                    ] 2508 of 6562\n"
     ]
    },
    {
     "name": "stdout",
     "output_type": "stream",
     "text": [
      "num contours 148\n"
     ]
    },
    {
     "name": "stderr",
     "output_type": "stream",
     "text": [
      "[================================================================] 3147 of 3147=====                                 ] 3234 of 6562\n",
      "[============================================                    ] 2139 of 3052\r"
     ]
    },
    {
     "name": "stdout",
     "output_type": "stream",
     "text": [
      "num contours 56\n"
     ]
    },
    {
     "name": "stderr",
     "output_type": "stream",
     "text": [
      "[================================================================] 6872 of 6872[====================================================          ] 11475 of 13499\n"
     ]
    },
    {
     "name": "stdout",
     "output_type": "stream",
     "text": [
      "num contours 101\n"
     ]
    },
    {
     "name": "stderr",
     "output_type": "stream",
     "text": [
      "[================================================================] 5042 of 5042[=======================================================         ] 2635 of 3052\n",
      "[=============================================                   ] 3010 of 4274\r"
     ]
    },
    {
     "name": "stdout",
     "output_type": "stream",
     "text": [
      "num contours 155\n"
     ]
    },
    {
     "name": "stderr",
     "output_type": "stream",
     "text": [
      "[================================================================] 3052 of 3052=================                   ] 3053 of 4274\n"
     ]
    },
    {
     "name": "stdout",
     "output_type": "stream",
     "text": [
      "num contours 77\n"
     ]
    },
    {
     "name": "stderr",
     "output_type": "stream",
     "text": [
      "[================================================================] 6240 of 6240[==========================================================    ] 12825 of 13499\n",
      "[==============================                                  ] 4230 of 8912\r"
     ]
    },
    {
     "name": "stdout",
     "output_type": "stream",
     "text": [
      "num contours 145\n"
     ]
    },
    {
     "name": "stderr",
     "output_type": "stream",
     "text": [
      "[==============================================================] 13499 of 13499                                     ] 726 of 3234\n",
      "[==================                                               ] 924 of 3234\r"
     ]
    },
    {
     "name": "stdout",
     "output_type": "stream",
     "text": [
      "num contours 90\n"
     ]
    },
    {
     "name": "stderr",
     "output_type": "stream",
     "text": [
      "[================================================================] 6562 of 6562[====                                                             ] 371 of 5269\n"
     ]
    },
    {
     "name": "stdout",
     "output_type": "stream",
     "text": [
      "num contours 63\n"
     ]
    },
    {
     "name": "stderr",
     "output_type": "stream",
     "text": [
      "[================================================================] 4274 of 4274==                                 ] 5586 of 11355\n"
     ]
    },
    {
     "name": "stdout",
     "output_type": "stream",
     "text": [
      "num contours 47\n"
     ]
    },
    {
     "name": "stderr",
     "output_type": "stream",
     "text": [
      "[================================================================] 5269 of 5269==========                            ] 4902 of 8541\n"
     ]
    },
    {
     "name": "stdout",
     "output_type": "stream",
     "text": [
      "num contours 83\n"
     ]
    },
    {
     "name": "stderr",
     "output_type": "stream",
     "text": [
      "[================================================================] 8912 of 8912[=====================================================           ] 5644 of 6708\n",
      "[================                                               ] 3302 of 12660\r"
     ]
    },
    {
     "name": "stdout",
     "output_type": "stream",
     "text": [
      "num contours 226\n"
     ]
    },
    {
     "name": "stderr",
     "output_type": "stream",
     "text": [
      "[================================================================] 9499 of 9499[========================                                       ] 5168 of 13544\n"
     ]
    },
    {
     "name": "stdout",
     "output_type": "stream",
     "text": [
      "num contours 172\n"
     ]
    },
    {
     "name": "stderr",
     "output_type": "stream",
     "text": [
      "[================================================================] 6708 of 6708                                    ] 2068 of 4691\n"
     ]
    },
    {
     "name": "stdout",
     "output_type": "stream",
     "text": [
      "num contours 71\n"
     ]
    },
    {
     "name": "stderr",
     "output_type": "stream",
     "text": [
      "[================================================================] 5215 of 5215                                     ] 899 of 3098\n",
      "[=============================                                   ] 1426 of 3098\r"
     ]
    },
    {
     "name": "stdout",
     "output_type": "stream",
     "text": [
      "num contours 90\n"
     ]
    },
    {
     "name": "stderr",
     "output_type": "stream",
     "text": [
      "[================================================================] 4691 of 4691============                          ] 2820 of 4691\n",
      "[====================================                            ] 4959 of 8669\r"
     ]
    },
    {
     "name": "stdout",
     "output_type": "stream",
     "text": [
      "num contours 140\n"
     ]
    },
    {
     "name": "stderr",
     "output_type": "stream",
     "text": [
      "[==============================================================] 13544 of 13544                                    ] 636 of 10539\n",
      "[=================================================              ] 9360 of 11969\r"
     ]
    },
    {
     "name": "stdout",
     "output_type": "stream",
     "text": [
      "num contours 318\n"
     ]
    },
    {
     "name": "stderr",
     "output_type": "stream",
     "text": [
      "[================================================================] 3234 of 3234                                     ] 332 of 8239\n",
      "[================================================                ] 1460 of 1915\r"
     ]
    },
    {
     "name": "stdout",
     "output_type": "stream",
     "text": [
      "num contours 93\n"
     ]
    },
    {
     "name": "stderr",
     "output_type": "stream",
     "text": [
      "[================================================================] 1915 of 1915=====================               ] 1480 of 1915\n"
     ]
    },
    {
     "name": "stdout",
     "output_type": "stream",
     "text": [
      "num contours 107\n"
     ]
    },
    {
     "name": "stderr",
     "output_type": "stream",
     "text": [
      "[================================================================] 3098 of 3098                                       ] 0 of 2589\n"
     ]
    },
    {
     "name": "stdout",
     "output_type": "stream",
     "text": [
      "num contours 57\n"
     ]
    },
    {
     "name": "stderr",
     "output_type": "stream",
     "text": [
      "[================================================================] 5756 of 5756                                     ] 536 of 6625\n"
     ]
    },
    {
     "name": "stdout",
     "output_type": "stream",
     "text": [
      "num contours 108\n"
     ]
    },
    {
     "name": "stderr",
     "output_type": "stream",
     "text": [
      "[================================================================] 8541 of 8541                                    ] 1072 of 6625\n"
     ]
    },
    {
     "name": "stdout",
     "output_type": "stream",
     "text": [
      "num contours 149\n"
     ]
    },
    {
     "name": "stderr",
     "output_type": "stream",
     "text": [
      "[================================================================] 8669 of 8669[                                                                  ] 79 of 7840\n"
     ]
    },
    {
     "name": "stdout",
     "output_type": "stream",
     "text": [
      "num contours 116\n"
     ]
    },
    {
     "name": "stderr",
     "output_type": "stream",
     "text": [
      "[==============================================================] 11969 of 11969[                                                                   ] 0 of 6918\n",
      "[======================                                          ] 2380 of 6918\r"
     ]
    },
    {
     "name": "stdout",
     "output_type": "stream",
     "text": [
      "num contours 302\n"
     ]
    },
    {
     "name": "stderr",
     "output_type": "stream",
     "text": [
      "[==============================================================] 11355 of 11355[=====================                                           ] 2686 of 7840\n"
     ]
    },
    {
     "name": "stdout",
     "output_type": "stream",
     "text": [
      "num contours 306\n"
     ]
    },
    {
     "name": "stderr",
     "output_type": "stream",
     "text": [
      "[==============================================================] 12430 of 12430[==================                                             ] 3074 of 10539\n",
      "[=====================================                           ] 2655 of 4480\r"
     ]
    },
    {
     "name": "stdout",
     "output_type": "stream",
     "text": [
      "num contours 157\n"
     ]
    },
    {
     "name": "stderr",
     "output_type": "stream",
     "text": [
      "[================================================================] 6918 of 6918================================      ] 6300 of 6918\n"
     ]
    },
    {
     "name": "stdout",
     "output_type": "stream",
     "text": [
      "num contours 98\n"
     ]
    },
    {
     "name": "stderr",
     "output_type": "stream",
     "text": [
      "[================================================================] 2589 of 2589==================                  ] 5688 of 7840\n"
     ]
    },
    {
     "name": "stdout",
     "output_type": "stream",
     "text": [
      "num contours 33\n"
     ]
    },
    {
     "name": "stderr",
     "output_type": "stream",
     "text": [
      "[================================================================] 4480 of 4480======================              ] 6474 of 8228\n"
     ]
    },
    {
     "name": "stdout",
     "output_type": "stream",
     "text": [
      "num contours 48\n"
     ]
    },
    {
     "name": "stderr",
     "output_type": "stream",
     "text": [
      "[==============================================================] 12660 of 12660                                      ] 70 of 6970\n"
     ]
    },
    {
     "name": "stdout",
     "output_type": "stream",
     "text": [
      "num contours 131\n"
     ]
    },
    {
     "name": "stderr",
     "output_type": "stream",
     "text": [
      "[================================================================] 7840 of 7840[=================================                               ] 1352 of 2550\n",
      "[===================================================             ] 2054 of 2550\r"
     ]
    },
    {
     "name": "stdout",
     "output_type": "stream",
     "text": [
      "num contours 79\n"
     ]
    },
    {
     "name": "stderr",
     "output_type": "stream",
     "text": [
      "[================================================================] 6767 of 6767================================    ] 6392 of 6767\n"
     ]
    },
    {
     "name": "stdout",
     "output_type": "stream",
     "text": [
      "num contours 82\n"
     ]
    },
    {
     "name": "stderr",
     "output_type": "stream",
     "text": [
      "[================================================================] 2550 of 2550[==                                                               ] 264 of 6597\n",
      "[===============================                                 ] 3430 of 6970\r"
     ]
    },
    {
     "name": "stdout",
     "output_type": "stream",
     "text": [
      "num contours 85\n"
     ]
    },
    {
     "name": "stderr",
     "output_type": "stream",
     "text": [
      "[================================================================] 6625 of 6625                                     ] 990 of 6597\n",
      "[==                                                                ] 64 of 1525\r"
     ]
    },
    {
     "name": "stdout",
     "output_type": "stream",
     "text": [
      "num contours 79\n"
     ]
    },
    {
     "name": "stderr",
     "output_type": "stream",
     "text": [
      "[================================================================] 8228 of 8228[======================                                          ] 2065 of 5842\n",
      "[============================                                    ] 2970 of 6597\r"
     ]
    },
    {
     "name": "stdout",
     "output_type": "stream",
     "text": [
      "num contours 107\n"
     ]
    },
    {
     "name": "stderr",
     "output_type": "stream",
     "text": [
      "[================================================================] 4758 of 4758[=====================================                           ] 3422 of 5842\n",
      "[=========================================================       ] 6300 of 6970\r"
     ]
    },
    {
     "name": "stdout",
     "output_type": "stream",
     "text": [
      "num contours 40\n"
     ]
    },
    {
     "name": "stderr",
     "output_type": "stream",
     "text": [
      "[================================================================] 1525 of 1525                                    ] 1768 of 6752\n"
     ]
    },
    {
     "name": "stdout",
     "output_type": "stream",
     "text": [
      "num contours 47\n"
     ]
    },
    {
     "name": "stderr",
     "output_type": "stream",
     "text": [
      "[================================================================] 6970 of 6970                                   ] 2751 of 13043\n"
     ]
    },
    {
     "name": "stdout",
     "output_type": "stream",
     "text": [
      "num contours 122\n"
     ]
    },
    {
     "name": "stderr",
     "output_type": "stream",
     "text": [
      "[================================================================] 8239 of 8239==                                  ] 3264 of 6752\n",
      "[==========================================                      ] 4224 of 6381\r"
     ]
    },
    {
     "name": "stdout",
     "output_type": "stream",
     "text": [
      "num contours 174\n"
     ]
    },
    {
     "name": "stderr",
     "output_type": "stream",
     "text": [
      "[================================================================] 5842 of 5842[=====================================                           ] 3944 of 6752\n",
      "[============================================                    ] 1904 of 2732\r"
     ]
    },
    {
     "name": "stdout",
     "output_type": "stream",
     "text": [
      "num contours 113\n"
     ]
    },
    {
     "name": "stderr",
     "output_type": "stream",
     "text": [
      "[================================================================] 6597 of 6597\n",
      " 72%|███████▏  | 42/58 [2:13:35<50:53, 190.85s/it]"
     ]
    },
    {
     "name": "stdout",
     "output_type": "stream",
     "text": [
      "num contours 58\n"
     ]
    },
    {
     "name": "stderr",
     "output_type": "stream",
     "text": [
      "[================================================================] 4243 of 4243=================                   ] 1932 of 2732\n",
      "[==========                                                     ] 2544 of 15876\r"
     ]
    },
    {
     "name": "stdout",
     "output_type": "stream",
     "text": [
      "num contours 85\n"
     ]
    },
    {
     "name": "stderr",
     "output_type": "stream",
     "text": [
      "[================================================================] 6381 of 6381[=========================================================       ] 6052 of 6752\n",
      "[==========                                                     ] 2703 of 15876\r"
     ]
    },
    {
     "name": "stdout",
     "output_type": "stream",
     "text": [
      "num contours 75\n"
     ]
    },
    {
     "name": "stderr",
     "output_type": "stream",
     "text": [
      "[================================================================] 2732 of 2732[=========================                                      ] 5240 of 13043\n",
      "[======================                                          ] 1820 of 5188\r"
     ]
    },
    {
     "name": "stdout",
     "output_type": "stream",
     "text": [
      "num contours 124\n"
     ]
    },
    {
     "name": "stderr",
     "output_type": "stream",
     "text": [
      "[================================================================] 5801 of 5801                                     ] 432 of 7104\n",
      "[=======================================================         ] 4042 of 4689\r"
     ]
    },
    {
     "name": "stdout",
     "output_type": "stream",
     "text": [
      "num contours 241\n"
     ]
    },
    {
     "name": "stderr",
     "output_type": "stream",
     "text": [
      "[================================================================] 4031 of 4031[======                                                           ] 650 of 6466\n"
     ]
    },
    {
     "name": "stdout",
     "output_type": "stream",
     "text": [
      "num contours 45\n"
     ]
    },
    {
     "name": "stderr",
     "output_type": "stream",
     "text": [
      "[================================================================] 6752 of 6752================================      ] 4680 of 5150\n"
     ]
    },
    {
     "name": "stdout",
     "output_type": "stream",
     "text": [
      "num contours 49\n"
     ]
    },
    {
     "name": "stderr",
     "output_type": "stream",
     "text": [
      "[================================================================] 5150 of 5150                                     ] 663 of 3808\n",
      "[============================                                    ] 1716 of 3808\r"
     ]
    },
    {
     "name": "stdout",
     "output_type": "stream",
     "text": [
      "num contours 93\n"
     ]
    },
    {
     "name": "stderr",
     "output_type": "stream",
     "text": [
      "[================================================================] 4689 of 4689=                                   ] 1755 of 3808\n",
      "[=======================================================         ] 4472 of 5188\r"
     ]
    },
    {
     "name": "stdout",
     "output_type": "stream",
     "text": [
      "num contours 68\n"
     ]
    },
    {
     "name": "stderr",
     "output_type": "stream",
     "text": [
      "[================================================================] 3808 of 3808===============                     ] 5226 of 7737\n",
      "[=============================================                   ] 4615 of 6466\r"
     ]
    },
    {
     "name": "stdout",
     "output_type": "stream",
     "text": [
      "num contours 92\n"
     ]
    },
    {
     "name": "stderr",
     "output_type": "stream",
     "text": [
      "[==============================================================] 11338 of 11338========================           ] 9462 of 11338\n",
      "[================================================================] 7104 of 7104\n",
      "[===========================================================     ] 4836 of 5188\r"
     ]
    },
    {
     "name": "stdout",
     "output_type": "stream",
     "text": [
      "num contours 171\n",
      "num contours 104\n"
     ]
    },
    {
     "name": "stderr",
     "output_type": "stream",
     "text": [
      "[==============================================================] 10539 of 10539                                       ] 0 of 1937\n",
      "[========================================                        ] 1220 of 1937\r"
     ]
    },
    {
     "name": "stdout",
     "output_type": "stream",
     "text": [
      "num contours 186\n"
     ]
    },
    {
     "name": "stderr",
     "output_type": "stream",
     "text": [
      "[================================================================] 5188 of 5188                                      ] 2686 of 7821\n",
      "[========================================================        ] 1720 of 1937\r"
     ]
    },
    {
     "name": "stdout",
     "output_type": "stream",
     "text": [
      "num contours 94\n"
     ]
    },
    {
     "name": "stderr",
     "output_type": "stream",
     "text": [
      "[================================================================] 7737 of 7737[=======                                                          ] 781 of 7025\n",
      "[=============================                                   ] 3634 of 7821\r"
     ]
    },
    {
     "name": "stdout",
     "output_type": "stream",
     "text": [
      "num contours 120\n"
     ]
    },
    {
     "name": "stderr",
     "output_type": "stream",
     "text": [
      "[================================================================] 1937 of 1937==                                  ] 3713 of 7821\n"
     ]
    },
    {
     "name": "stdout",
     "output_type": "stream",
     "text": [
      "num contours 47\n"
     ]
    },
    {
     "name": "stderr",
     "output_type": "stream",
     "text": [
      "[================================================================] 6466 of 6466========================            ] 6724 of 8136\n",
      "[=                                                               ] 230 of 11416\r"
     ]
    },
    {
     "name": "stdout",
     "output_type": "stream",
     "text": [
      "num contours 127\n"
     ]
    },
    {
     "name": "stderr",
     "output_type": "stream",
     "text": [
      "[================================================================] 3052 of 3052==========================          ] 6888 of 8136\n",
      "[===========================================                     ] 5372 of 7821\r"
     ]
    },
    {
     "name": "stdout",
     "output_type": "stream",
     "text": [
      "num contours 70\n"
     ]
    },
    {
     "name": "stderr",
     "output_type": "stream",
     "text": [
      "[================================================================] 7821 of 7821[==                                                               ] 208 of 5139\n"
     ]
    },
    {
     "name": "stdout",
     "output_type": "stream",
     "text": [
      "num contours 186\n"
     ]
    },
    {
     "name": "stderr",
     "output_type": "stream",
     "text": [
      "[================================================================] 8136 of 8136======================              ] 4056 of 5139\n"
     ]
    },
    {
     "name": "stdout",
     "output_type": "stream",
     "text": [
      "num contours 178\n"
     ]
    },
    {
     "name": "stderr",
     "output_type": "stream",
     "text": [
      "[==============================================================] 10002 of 10002[====                                                             ] 252 of 3517\n"
     ]
    },
    {
     "name": "stdout",
     "output_type": "stream",
     "text": [
      "num contours 243\n"
     ]
    },
    {
     "name": "stderr",
     "output_type": "stream",
     "text": [
      "[================================================================] 7025 of 7025[================================                               ] 5865 of 11416\n"
     ]
    },
    {
     "name": "stdout",
     "output_type": "stream",
     "text": [
      "num contours 132\n"
     ]
    },
    {
     "name": "stderr",
     "output_type": "stream",
     "text": [
      "[================================================================] 7519 of 7519================                      ] 5395 of 8215\n",
      "[===========================================                     ] 5561 of 8215\r"
     ]
    },
    {
     "name": "stdout",
     "output_type": "stream",
     "text": [
      "num contours 171\n"
     ]
    },
    {
     "name": "stderr",
     "output_type": "stream",
     "text": [
      "[================================================================] 3517 of 3517                                    ] 136 of 13565\n"
     ]
    },
    {
     "name": "stdout",
     "output_type": "stream",
     "text": [
      "num contours 109\n"
     ]
    },
    {
     "name": "stderr",
     "output_type": "stream",
     "text": [
      "[================================================================] 5139 of 5139                                    ] 924 of 13124\n"
     ]
    },
    {
     "name": "stdout",
     "output_type": "stream",
     "text": [
      "num contours 64\n"
     ]
    },
    {
     "name": "stderr",
     "output_type": "stream",
     "text": [
      "[================================================================] 7104 of 7104                                       ] 0 of 6073\n"
     ]
    },
    {
     "name": "stdout",
     "output_type": "stream",
     "text": [
      "num contours 131\n"
     ]
    },
    {
     "name": "stderr",
     "output_type": "stream",
     "text": [
      "[================================================================] 8215 of 8215[=================================                               ] 3484 of 6663\n",
      "[====================================                            ] 3752 of 6663\r"
     ]
    },
    {
     "name": "stdout",
     "output_type": "stream",
     "text": [
      "num contours 228\n"
     ]
    },
    {
     "name": "stderr",
     "output_type": "stream",
     "text": [
      "[================================================================] 6663 of 6663                                   ] 1596 of 13205\n",
      "[========================                                        ] 1710 of 4441\r"
     ]
    },
    {
     "name": "stdout",
     "output_type": "stream",
     "text": [
      "num contours 53\n"
     ]
    },
    {
     "name": "stderr",
     "output_type": "stream",
     "text": [
      "[==============================================================] 11416 of 11416=====================               ] 4697 of 6073\n"
     ]
    },
    {
     "name": "stdout",
     "output_type": "stream",
     "text": [
      "num contours 203\n"
     ]
    },
    {
     "name": "stderr",
     "output_type": "stream",
     "text": [
      "[================================================================] 4396 of 4396=================================   ] 4224 of 4396\n",
      "[====                                                             ] 301 of 4232\r"
     ]
    },
    {
     "name": "stdout",
     "output_type": "stream",
     "text": [
      "num contours 59\n"
     ]
    },
    {
     "name": "stderr",
     "output_type": "stream",
     "text": [
      "[============================                                   ] 5985 of 13205                                     ] 344 of 4232\n"
     ]
    },
    {
     "name": "stdout",
     "output_type": "stream",
     "text": [
      "num contours 64\n"
     ]
    },
    {
     "name": "stderr",
     "output_type": "stream",
     "text": [
      "[================================================================] 4232 of 4232[==============                                                   ] 946 of 4232\n",
      "[==================================================             ] 8400 of 10411\r"
     ]
    },
    {
     "name": "stdout",
     "output_type": "stream",
     "text": [
      "num contours 75\n"
     ]
    },
    {
     "name": "stderr",
     "output_type": "stream",
     "text": [
      "[================================================================] 3503 of 3503===============================     ] 3276 of 3503\n"
     ]
    },
    {
     "name": "stdout",
     "output_type": "stream",
     "text": [
      "num contours 221\n"
     ]
    },
    {
     "name": "stderr",
     "output_type": "stream",
     "text": [
      "[================================================================] 4441 of 4441================================    ] 4185 of 4441\n",
      "[=====================                                           ] 1088 of 3172\r"
     ]
    },
    {
     "name": "stdout",
     "output_type": "stream",
     "text": [
      "num contours 57\n"
     ]
    },
    {
     "name": "stderr",
     "output_type": "stream",
     "text": [
      "[==============================================================] 13043 of 13043[===========================================================   ] 12576 of 13043\n"
     ]
    },
    {
     "name": "stdout",
     "output_type": "stream",
     "text": [
      "num contours 155\n"
     ]
    },
    {
     "name": "stderr",
     "output_type": "stream",
     "text": [
      "[================================================================] 3172 of 3172============                         ] 8113 of 13205\n"
     ]
    },
    {
     "name": "stdout",
     "output_type": "stream",
     "text": [
      "num contours 105\n"
     ]
    },
    {
     "name": "stderr",
     "output_type": "stream",
     "text": [
      "[==============================================================] 10411 of 10411=================================   ] 3008 of 3139\n",
      "[===========                                                      ] 493 of 2810\r"
     ]
    },
    {
     "name": "stdout",
     "output_type": "stream",
     "text": [
      "num contours 298\n"
     ]
    },
    {
     "name": "stderr",
     "output_type": "stream",
     "text": [
      "[================================================================] 3139 of 3139[============                                                     ] 522 of 2810\n"
     ]
    },
    {
     "name": "stdout",
     "output_type": "stream",
     "text": [
      "num contours 71\n"
     ]
    },
    {
     "name": "stderr",
     "output_type": "stream",
     "text": [
      "[================================================================] 2810 of 2810                                     ] 667 of 2810\n"
     ]
    },
    {
     "name": "stdout",
     "output_type": "stream",
     "text": [
      "num contours 100\n"
     ]
    },
    {
     "name": "stderr",
     "output_type": "stream",
     "text": [
      "[================================================================] 8489 of 8489[=======================                                          ] 770 of 2148\n"
     ]
    },
    {
     "name": "stdout",
     "output_type": "stream",
     "text": [
      "num contours 113\n"
     ]
    },
    {
     "name": "stderr",
     "output_type": "stream",
     "text": [
      "[================================================================] 2148 of 2148======                              ] 1166 of 2148\n",
      "[================================                                ] 4029 of 7855\r"
     ]
    },
    {
     "name": "stdout",
     "output_type": "stream",
     "text": [
      "num contours 110\n"
     ]
    },
    {
     "name": "stderr",
     "output_type": "stream",
     "text": [
      "[================================================================] 2795 of 2795                                       ] 0 of 6590\n"
     ]
    },
    {
     "name": "stdout",
     "output_type": "stream",
     "text": [
      "num contours 68\n"
     ]
    },
    {
     "name": "stderr",
     "output_type": "stream",
     "text": [
      "[================================================================] 9747 of 9747=====                               ] 2397 of 4645\n"
     ]
    },
    {
     "name": "stdout",
     "output_type": "stream",
     "text": [
      "num contours 194\n"
     ]
    },
    {
     "name": "stderr",
     "output_type": "stream",
     "text": [
      "[================================================================] 2557 of 2557[===========================================                     ] 5372 of 7855\n",
      "[===============================================                 ] 5846 of 7855\r"
     ]
    },
    {
     "name": "stdout",
     "output_type": "stream",
     "text": [
      "num contours 86\n"
     ]
    },
    {
     "name": "stderr",
     "output_type": "stream",
     "text": [
      "[================================================================] 6272 of 6272=================================   ] 5985 of 6272\n"
     ]
    },
    {
     "name": "stdout",
     "output_type": "stream",
     "text": [
      "num contours 61\n"
     ]
    },
    {
     "name": "stderr",
     "output_type": "stream",
     "text": [
      "[==============================================================] 15876 of 15876                                    ] 117 of 11611\n",
      "[===========================================================   ] 12768 of 13205\r"
     ]
    },
    {
     "name": "stdout",
     "output_type": "stream",
     "text": [
      "num contours 279\n"
     ]
    },
    {
     "name": "stderr",
     "output_type": "stream",
     "text": [
      "[==============================================================] 13205 of 13205==============================      ] 6072 of 6590\n"
     ]
    },
    {
     "name": "stdout",
     "output_type": "stream",
     "text": [
      "num contours 114\n"
     ]
    },
    {
     "name": "stderr",
     "output_type": "stream",
     "text": [
      "[================================================================] 3245 of 3245                                     ] 658 of 4661\n"
     ]
    },
    {
     "name": "stdout",
     "output_type": "stream",
     "text": [
      "num contours 100\n"
     ]
    },
    {
     "name": "stderr",
     "output_type": "stream",
     "text": [
      "[================================================================] 6590 of 6590[======================                                          ] 1645 of 4661\n",
      "[==========================================                     ] 9112 of 13565\r"
     ]
    },
    {
     "name": "stdout",
     "output_type": "stream",
     "text": [
      "num contours 54\n"
     ]
    },
    {
     "name": "stderr",
     "output_type": "stream",
     "text": [
      "[==============================================================] 13124 of 13124                                     ] 747 of 8280\n",
      "[======                                                           ] 830 of 8280\r"
     ]
    },
    {
     "name": "stdout",
     "output_type": "stream",
     "text": [
      "num contours 104\n"
     ]
    },
    {
     "name": "stderr",
     "output_type": "stream",
     "text": [
      "[==============================================================] 12775 of 12775[========================================================      ] 11648 of 12775\n"
     ]
    },
    {
     "name": "stdout",
     "output_type": "stream",
     "text": [
      "num contours 79\n"
     ]
    },
    {
     "name": "stderr",
     "output_type": "stream",
     "text": [
      "[================================================================] 2612 of 2612[========================================================        ] 4136 of 4661\n"
     ]
    },
    {
     "name": "stdout",
     "output_type": "stream",
     "text": [
      "num contours 79\n"
     ]
    },
    {
     "name": "stderr",
     "output_type": "stream",
     "text": [
      "[================================================================] 4661 of 4661========                            ] 4731 of 8280\n"
     ]
    },
    {
     "name": "stdout",
     "output_type": "stream",
     "text": [
      "num contours 98\n"
     ]
    },
    {
     "name": "stderr",
     "output_type": "stream",
     "text": [
      "[================================================================] 7855 of 7855=============                       ] 5312 of 8280\n",
      "[==============================================================  ] 5141 of 5254\r"
     ]
    },
    {
     "name": "stdout",
     "output_type": "stream",
     "text": [
      "num contours 234\n"
     ]
    },
    {
     "name": "stderr",
     "output_type": "stream",
     "text": [
      "[================================================================] 5254 of 5254                                      ] 504 of 12554\n"
     ]
    },
    {
     "name": "stdout",
     "output_type": "stream",
     "text": [
      "num contours 84\n"
     ]
    },
    {
     "name": "stderr",
     "output_type": "stream",
     "text": [
      "[================================================================] 4645 of 4645                                       ] 0 of 3781\n",
      "[===================                                             ] 2201 of 7048\r"
     ]
    },
    {
     "name": "stdout",
     "output_type": "stream",
     "text": [
      "num contours 79\n"
     ]
    },
    {
     "name": "stderr",
     "output_type": "stream",
     "text": [
      "[================================================================] 3196 of 3196                                       ] 0 of 3196\n"
     ]
    },
    {
     "name": "stdout",
     "output_type": "stream",
     "text": [
      "num contours 25\n"
     ]
    },
    {
     "name": "stderr",
     "output_type": "stream",
     "text": [
      "[================================================================] 3781 of 3781[                                                                   ] 0 of 6800\n",
      "[==================================================              ] 4914 of 6219\r"
     ]
    },
    {
     "name": "stdout",
     "output_type": "stream",
     "text": [
      "num contours 89\n"
     ]
    },
    {
     "name": "stderr",
     "output_type": "stream",
     "text": [
      "[================================================================] 8280 of 8280=====================               ] 3080 of 4000\n",
      "[=====================================================           ] 3320 of 4000\r"
     ]
    },
    {
     "name": "stdout",
     "output_type": "stream",
     "text": [
      "num contours 125\n"
     ]
    },
    {
     "name": "stderr",
     "output_type": "stream",
     "text": [
      "[================================================================] 4000 of 4000[==                                                               ] 248 of 6147\n",
      "[============================================================  ] 11349 of 11611\r"
     ]
    },
    {
     "name": "stdout",
     "output_type": "stream",
     "text": [
      "num contours 51\n"
     ]
    },
    {
     "name": "stderr",
     "output_type": "stream",
     "text": [
      "[==============================================================] 11611 of 11611==============================      ] 4277 of 4647\n",
      "[=============================                                  ] 5796 of 12554\r"
     ]
    },
    {
     "name": "stdout",
     "output_type": "stream",
     "text": [
      "num contours 239\n"
     ]
    },
    {
     "name": "stderr",
     "output_type": "stream",
     "text": [
      "[================================================================] 4647 of 4647================================    ] 4371 of 4647\n"
     ]
    },
    {
     "name": "stdout",
     "output_type": "stream",
     "text": [
      "num contours 76\n"
     ]
    },
    {
     "name": "stderr",
     "output_type": "stream",
     "text": [
      "[================================================================] 6219 of 6219=====================               ] 5236 of 6800\n"
     ]
    },
    {
     "name": "stdout",
     "output_type": "stream",
     "text": [
      "num contours 65\n"
     ]
    },
    {
     "name": "stderr",
     "output_type": "stream",
     "text": [
      "[================================================================] 1873 of 1873=========================           ] 5644 of 6800\n"
     ]
    },
    {
     "name": "stdout",
     "output_type": "stream",
     "text": [
      "num contours 46\n"
     ]
    },
    {
     "name": "stderr",
     "output_type": "stream",
     "text": [
      "[================================================================] 7048 of 7048                                       ] 0 of 3758\n"
     ]
    },
    {
     "name": "stdout",
     "output_type": "stream",
     "text": [
      "num contours 191\n"
     ]
    },
    {
     "name": "stderr",
     "output_type": "stream",
     "text": [
      "[================================================================] 8826 of 8826[===================================                             ] 3575 of 6444\n",
      "[==                                                               ] 168 of 4200\r"
     ]
    },
    {
     "name": "stdout",
     "output_type": "stream",
     "text": [
      "num contours 145\n"
     ]
    },
    {
     "name": "stderr",
     "output_type": "stream",
     "text": [
      "[==============================================================] 13565 of 13565                                       ] 0 of 2699\n",
      "[=======================================================         ] 3268 of 3758\r"
     ]
    },
    {
     "name": "stdout",
     "output_type": "stream",
     "text": [
      "num contours 210\n"
     ]
    },
    {
     "name": "stderr",
     "output_type": "stream",
     "text": [
      "[================================================================] 6147 of 6147                                         ] 0 of 4660\n",
      "[==================================================              ] 5070 of 6444\r"
     ]
    },
    {
     "name": "stdout",
     "output_type": "stream",
     "text": [
      "num contours 161\n"
     ]
    },
    {
     "name": "stderr",
     "output_type": "stream",
     "text": [
      "[================================================================] 6665 of 6665===                                 ] 1323 of 2699\n",
      "[=                                                                ] 130 of 6459\r"
     ]
    },
    {
     "name": "stdout",
     "output_type": "stream",
     "text": [
      "num contours 99\n"
     ]
    },
    {
     "name": "stderr",
     "output_type": "stream",
     "text": [
      "[================================================================] 6800 of 6800=                                   ] 1932 of 4200\n"
     ]
    },
    {
     "name": "stdout",
     "output_type": "stream",
     "text": [
      "num contours 87\n"
     ]
    },
    {
     "name": "stderr",
     "output_type": "stream",
     "text": [
      "[================================================================] 3758 of 3758================                    ] 1863 of 2699\n"
     ]
    },
    {
     "name": "stdout",
     "output_type": "stream",
     "text": [
      "num contours 64\n"
     ]
    },
    {
     "name": "stderr",
     "output_type": "stream",
     "text": [
      "[================================================================] 2699 of 2699[==========                                                     ] 2000 of 12452\n"
     ]
    },
    {
     "name": "stdout",
     "output_type": "stream",
     "text": [
      "num contours 72\n"
     ]
    },
    {
     "name": "stderr",
     "output_type": "stream",
     "text": [
      "[================================================================] 6343 of 6343=================================== ] 6272 of 6343\n"
     ]
    },
    {
     "name": "stdout",
     "output_type": "stream",
     "text": [
      "num contours 108\n"
     ]
    },
    {
     "name": "stderr",
     "output_type": "stream",
     "text": [
      "[================================================================] 4200 of 4200                                    ] 1147 of 3048\n"
     ]
    },
    {
     "name": "stdout",
     "output_type": "stream",
     "text": [
      "num contours 135\n"
     ]
    },
    {
     "name": "stderr",
     "output_type": "stream",
     "text": [
      "[================================================================] 9080 of 9080                                     ] 228 of 3768\n",
      "[=============================================                   ] 4550 of 6459\r"
     ]
    },
    {
     "name": "stdout",
     "output_type": "stream",
     "text": [
      "num contours 229\n"
     ]
    },
    {
     "name": "stderr",
     "output_type": "stream",
     "text": [
      "[================================================================] 4660 of 4660[=============================================================   ] 4512 of 4660\n",
      "[=================                                                ] 858 of 3214\r"
     ]
    },
    {
     "name": "stdout",
     "output_type": "stream",
     "text": [
      "num contours 73\n"
     ]
    },
    {
     "name": "stderr",
     "output_type": "stream",
     "text": [
      "[================================================================] 6444 of 6444                                      ] 960 of 11910\n",
      "[================                                                ] 1650 of 6599\r"
     ]
    },
    {
     "name": "stdout",
     "output_type": "stream",
     "text": [
      "num contours 85\n"
     ]
    },
    {
     "name": "stderr",
     "output_type": "stream",
     "text": [
      "[================================================================] 3214 of 3214===========================         ] 2805 of 3214\n"
     ]
    },
    {
     "name": "stdout",
     "output_type": "stream",
     "text": [
      "num contours 61\n"
     ]
    },
    {
     "name": "stderr",
     "output_type": "stream",
     "text": [
      "[================================================================] 3048 of 3048[============================                                    ] 3285 of 7269\n"
     ]
    },
    {
     "name": "stdout",
     "output_type": "stream",
     "text": [
      "num contours 82\n"
     ]
    },
    {
     "name": "stderr",
     "output_type": "stream",
     "text": [
      "[================================================================] 6459 of 6459                                       ] 0 of 1935\n"
     ]
    },
    {
     "name": "stdout",
     "output_type": "stream",
     "text": [
      "num contours 199\n"
     ]
    },
    {
     "name": "stderr",
     "output_type": "stream",
     "text": [
      "[================================================================] 4548 of 4548===                                  ] 987 of 2018\n"
     ]
    },
    {
     "name": "stdout",
     "output_type": "stream",
     "text": [
      "num contours 80\n"
     ]
    },
    {
     "name": "stderr",
     "output_type": "stream",
     "text": [
      "[================================================================] 1935 of 1935=============                       ] 1240 of 1935\n",
      "[==========                                                       ] 976 of 6059\r"
     ]
    },
    {
     "name": "stdout",
     "output_type": "stream",
     "text": [
      "num contours 111\n"
     ]
    },
    {
     "name": "stderr",
     "output_type": "stream",
     "text": [
      "[================================================================] 2018 of 2018=============                       ] 1856 of 2876\n"
     ]
    },
    {
     "name": "stdout",
     "output_type": "stream",
     "text": [
      "num contours 27\n"
     ]
    },
    {
     "name": "stderr",
     "output_type": "stream",
     "text": [
      "[================================================================] 2876 of 2876=============                       ] 4672 of 7269\n"
     ]
    },
    {
     "name": "stdout",
     "output_type": "stream",
     "text": [
      "num contours 73\n"
     ]
    },
    {
     "name": "stderr",
     "output_type": "stream",
     "text": [
      "100%|██████████| 58/58 [2:35:24<00:00, 160.77s/it]\n",
      "[================================================================] 4659 of 4659\n"
     ]
    },
    {
     "name": "stdout",
     "output_type": "stream",
     "text": [
      "num contours 63\n"
     ]
    },
    {
     "name": "stderr",
     "output_type": "stream",
     "text": [
      "100%|██████████| 58/58 [2:35:47<00:00, 161.16s/it]\n",
      "[================================================================] 3768 of 3768\n"
     ]
    },
    {
     "name": "stdout",
     "output_type": "stream",
     "text": [
      "num contours 100\n"
     ]
    },
    {
     "name": "stderr",
     "output_type": "stream",
     "text": [
      "100%|██████████| 58/58 [2:35:51<00:00, 161.22s/it]\n",
      "[==============================================================] 12554 of 12554\n",
      "[=============================================================== ] 7227 of 7269\r"
     ]
    },
    {
     "name": "stdout",
     "output_type": "stream",
     "text": [
      "num contours 137\n"
     ]
    },
    {
     "name": "stderr",
     "output_type": "stream",
     "text": [
      " 98%|█████████▊| 57/58 [2:36:20<02:44, 164.57s/it]               ] 3266 of 7023[================================================================] 7269 of 7269\n"
     ]
    },
    {
     "name": "stdout",
     "output_type": "stream",
     "text": [
      "num contours 104\n"
     ]
    },
    {
     "name": "stderr",
     "output_type": "stream",
     "text": [
      "[================================================================] 6599 of 6599==                                  ] 3337 of 7023\n",
      "[===================================                            ] 8064 of 14326\r"
     ]
    },
    {
     "name": "stdout",
     "output_type": "stream",
     "text": [
      "num contours 92\n"
     ]
    },
    {
     "name": "stderr",
     "output_type": "stream",
     "text": [
      "[================================================================] 2763 of 2763                                       ] 620 of 6104\n"
     ]
    },
    {
     "name": "stdout",
     "output_type": "stream",
     "text": [
      "num contours 131\n"
     ]
    },
    {
     "name": "stderr",
     "output_type": "stream",
     "text": [
      "[================================================================] 4243 of 4243                                         ] 0 of 4243\n"
     ]
    },
    {
     "name": "stdout",
     "output_type": "stream",
     "text": [
      "num contours 52\n"
     ]
    },
    {
     "name": "stderr",
     "output_type": "stream",
     "text": [
      "[================================================================] 7023 of 7023                                         ] 0 of 6318\n"
     ]
    },
    {
     "name": "stdout",
     "output_type": "stream",
     "text": [
      "num contours 70\n"
     ]
    },
    {
     "name": "stderr",
     "output_type": "stream",
     "text": [
      "[================================================================] 6052 of 6052                                     ] 768 of 6318\n",
      "[==========================================================    ] 11750 of 12452\r"
     ]
    },
    {
     "name": "stdout",
     "output_type": "stream",
     "text": [
      "num contours 234\n"
     ]
    },
    {
     "name": "stderr",
     "output_type": "stream",
     "text": [
      "[================================================================] 6059 of 6059                                       ] 0 of 4728\n",
      "[========================                                        ] 2432 of 6318\n"
     ]
    },
    {
     "name": "stdout",
     "output_type": "stream",
     "text": [
      "num contours 112\n"
     ]
    },
    {
     "name": "stderr",
     "output_type": "stream",
     "text": [
      " 76%|███████▌  | 44/58 [2:38:36<50:27, 216.28s/it]                ] 637 of 9010"
     ]
    },
    {
     "name": "stdout",
     "output_type": "stream",
     "text": [
      "num contours 73\n"
     ]
    },
    {
     "name": "stderr",
     "output_type": "stream",
     "text": [
      "[================================================================] 4728 of 4728                                    ] 2496 of 6318\n",
      "[====================================                            ] 4592 of 8152\r"
     ]
    },
    {
     "name": "stdout",
     "output_type": "stream",
     "text": [
      "num contours 88\n"
     ]
    },
    {
     "name": "stderr",
     "output_type": "stream",
     "text": [
      " 90%|████████▉ | 52/58 [2:39:53<18:26, 184.49s/it][==============================================================] 14326 of 14326\n"
     ]
    },
    {
     "name": "stdout",
     "output_type": "stream",
     "text": [
      "num contours 390\n"
     ]
    },
    {
     "name": "stderr",
     "output_type": "stream",
     "text": [
      " 91%|█████████▏| 53/58 [2:39:53<15:05, 181.01s/it]               ] 5016 of 6578"
     ]
    },
    {
     "name": "stdout",
     "output_type": "stream",
     "text": [
      "Error File:._2018081310143601_TO.jpg\n"
     ]
    },
    {
     "name": "stderr",
     "output_type": "stream",
     "text": [
      "[================================================================] 6318 of 6318\n"
     ]
    },
    {
     "name": "stdout",
     "output_type": "stream",
     "text": [
      "num contours 105\n"
     ]
    },
    {
     "name": "stderr",
     "output_type": "stream",
     "text": [
      "[================================================================] 6104 of 6104=====================                 ] 6734 of 9010\n"
     ]
    },
    {
     "name": "stdout",
     "output_type": "stream",
     "text": [
      "num contours 63\n"
     ]
    },
    {
     "name": "stderr",
     "output_type": "stream",
     "text": [
      "100%|██████████| 58/58 [2:40:23<00:00, 165.93s/it]\n",
      "[================================================================] 8152 of 8152\n"
     ]
    },
    {
     "name": "stdout",
     "output_type": "stream",
     "text": [
      "num contours 96\n"
     ]
    },
    {
     "name": "stderr",
     "output_type": "stream",
     "text": [
      "[================================================================] 9010 of 9010==========                          ] 3068 of 5139\n"
     ]
    },
    {
     "name": "stdout",
     "output_type": "stream",
     "text": [
      "num contours 234\n"
     ]
    },
    {
     "name": "stderr",
     "output_type": "stream",
     "text": [
      "[================================================================] 4367 of 4367[=============================                                   ] 1518 of 3245\n"
     ]
    },
    {
     "name": "stdout",
     "output_type": "stream",
     "text": [
      "num contours 146\n"
     ]
    },
    {
     "name": "stderr",
     "output_type": "stream",
     "text": [
      "[================================================================] 6578 of 6578                                     ] 832 of 3190\n"
     ]
    },
    {
     "name": "stdout",
     "output_type": "stream",
     "text": [
      "num contours 115\n"
     ]
    },
    {
     "name": "stderr",
     "output_type": "stream",
     "text": [
      "[================================================================] 3245 of 3245                                       ] 0 of 3528\n",
      "[=====================                                           ] 1056 of 3190\r"
     ]
    },
    {
     "name": "stdout",
     "output_type": "stream",
     "text": [
      "num contours 114\n"
     ]
    },
    {
     "name": "stderr",
     "output_type": "stream",
     "text": [
      "[================================================================] 5139 of 5139[                                                                   ] 0 of 2994\n"
     ]
    },
    {
     "name": "stdout",
     "output_type": "stream",
     "text": [
      "num contours 67\n"
     ]
    },
    {
     "name": "stderr",
     "output_type": "stream",
     "text": [
      "[==============================================================] 11910 of 11910                                     ] 756 of 3528\n",
      "[=====================                                           ] 2584 of 7541\r"
     ]
    },
    {
     "name": "stdout",
     "output_type": "stream",
     "text": [
      "num contours 147\n"
     ]
    },
    {
     "name": "stderr",
     "output_type": "stream",
     "text": [
      "[================================================================] 3233 of 3233                                    ] 2660 of 7541\n",
      "[=                                                                ] 142 of 7075\r"
     ]
    },
    {
     "name": "stdout",
     "output_type": "stream",
     "text": [
      "num contours 54\n"
     ]
    },
    {
     "name": "stderr",
     "output_type": "stream",
     "text": [
      "[================================================================] 2994 of 2994                                      ] 0 of 11677\n"
     ]
    },
    {
     "name": "stdout",
     "output_type": "stream",
     "text": [
      "num contours 76\n"
     ]
    },
    {
     "name": "stderr",
     "output_type": "stream",
     "text": [
      "[================================================================] 3528 of 3528==================================  ] 3420 of 3528\n",
      "[===================                                              ] 780 of 2559\r"
     ]
    },
    {
     "name": "stdout",
     "output_type": "stream",
     "text": [
      "num contours 49\n"
     ]
    },
    {
     "name": "stderr",
     "output_type": "stream",
     "text": [
      "[================================================================] 3190 of 3190===========                         ] 4636 of 7541\n",
      "[===                                                              ] 225 of 4438\r"
     ]
    },
    {
     "name": "stdout",
     "output_type": "stream",
     "text": [
      "num contours 81\n"
     ]
    },
    {
     "name": "stderr",
     "output_type": "stream",
     "text": [
      "100%|██████████| 58/58 [2:42:52<00:00, 168.49s/it]                ] 910 of 2559\n",
      "[================================================================] 2559 of 2559\n"
     ]
    },
    {
     "name": "stdout",
     "output_type": "stream",
     "text": [
      "num contours 81\n"
     ]
    },
    {
     "name": "stderr",
     "output_type": "stream",
     "text": [
      "[================================================================] 9607 of 9607=========                           ] 2610 of 4438\n",
      "[===============================================                 ] 3285 of 4438\r"
     ]
    },
    {
     "name": "stdout",
     "output_type": "stream",
     "text": [
      "num contours 248\n"
     ]
    },
    {
     "name": "stderr",
     "output_type": "stream",
     "text": [
      "[================================================================] 4438 of 4438===========                        ] 7686 of 12133\n"
     ]
    },
    {
     "name": "stdout",
     "output_type": "stream",
     "text": [
      "num contours 87\n"
     ]
    },
    {
     "name": "stderr",
     "output_type": "stream",
     "text": [
      "[================================================================] 7541 of 7541                                    ] 1128 of 4615\n"
     ]
    },
    {
     "name": "stdout",
     "output_type": "stream",
     "text": [
      "num contours 144\n"
     ]
    },
    {
     "name": "stderr",
     "output_type": "stream",
     "text": [
      "[================================================================] 3071 of 3071[====================================================            ] 3760 of 4615\n"
     ]
    },
    {
     "name": "stdout",
     "output_type": "stream",
     "text": [
      "num contours 70\n"
     ]
    },
    {
     "name": "stderr",
     "output_type": "stream",
     "text": [
      "[================================================================] 4615 of 4615                                     ] 201 of 6680\n"
     ]
    },
    {
     "name": "stdout",
     "output_type": "stream",
     "text": [
      "num contours 52\n"
     ]
    },
    {
     "name": "stderr",
     "output_type": "stream",
     "text": [
      "\r",
      " 86%|████████▌ | 50/58 [2:44:40<26:20, 197.61s/it]"
     ]
    },
    {
     "name": "stdout",
     "output_type": "stream",
     "text": [
      "Error File:._.DS_Store\n"
     ]
    },
    {
     "name": "stderr",
     "output_type": "stream",
     "text": [
      "[================================================================] 7075 of 7075\n",
      "[==================================================              ] 5226 of 6680\r"
     ]
    },
    {
     "name": "stdout",
     "output_type": "stream",
     "text": [
      "num contours 139\n"
     ]
    },
    {
     "name": "stderr",
     "output_type": "stream",
     "text": [
      "[================================================================] 4058 of 4058==============                      ] 2706 of 4058\n"
     ]
    },
    {
     "name": "stdout",
     "output_type": "stream",
     "text": [
      "num contours 59\n"
     ]
    },
    {
     "name": "stderr",
     "output_type": "stream",
     "text": [
      "[================================================================] 4337 of 4337=                                   ] 2024 of 4337\n",
      "[============================================================= ] 11956 of 12133\r"
     ]
    },
    {
     "name": "stdout",
     "output_type": "stream",
     "text": [
      "num contours 62\n"
     ]
    },
    {
     "name": "stderr",
     "output_type": "stream",
     "text": [
      "\r",
      " 91%|█████████▏| 53/58 [2:45:46<15:38, 187.67s/it]"
     ]
    },
    {
     "name": "stdout",
     "output_type": "stream",
     "text": [
      "Error File:._2018081310210246_TO.jpg\n"
     ]
    },
    {
     "name": "stderr",
     "output_type": "stream",
     "text": [
      "[==============================================================] 12133 of 12133\n",
      "[=                                                                ] 136 of 6702\r"
     ]
    },
    {
     "name": "stdout",
     "output_type": "stream",
     "text": [
      "num contours 102\n"
     ]
    },
    {
     "name": "stderr",
     "output_type": "stream",
     "text": [
      "[================================================================] 6588 of 6588                                     ] 204 of 6702\n"
     ]
    },
    {
     "name": "stdout",
     "output_type": "stream",
     "text": [
      "num contours 50\n"
     ]
    },
    {
     "name": "stderr",
     "output_type": "stream",
     "text": [
      "\r",
      " 90%|████████▉ | 52/58 [2:45:49<19:07, 191.33s/it]"
     ]
    },
    {
     "name": "stdout",
     "output_type": "stream",
     "text": [
      "Error File:.DS_Store\n"
     ]
    },
    {
     "name": "stderr",
     "output_type": "stream",
     "text": [
      "[================================================================] 6680 of 6680\n"
     ]
    },
    {
     "name": "stdout",
     "output_type": "stream",
     "text": [
      "num contours 145\n"
     ]
    },
    {
     "name": "stderr",
     "output_type": "stream",
     "text": [
      "[================================================================] 7488 of 7488===========                         ] 4650 of 7488\n"
     ]
    },
    {
     "name": "stdout",
     "output_type": "stream",
     "text": [
      "num contours 191\n"
     ]
    },
    {
     "name": "stderr",
     "output_type": "stream",
     "text": [
      "[================================================================] 6702 of 6702                                    ] 2738 of 7397\n",
      "[======================================================          ] 3901 of 4616\r"
     ]
    },
    {
     "name": "stdout",
     "output_type": "stream",
     "text": [
      "num contours 93\n"
     ]
    },
    {
     "name": "stderr",
     "output_type": "stream",
     "text": [
      "[================================================================] 6835 of 6835                                    ] 1696 of 5254\n",
      "[==================                                               ] 675 of 2422\r"
     ]
    },
    {
     "name": "stdout",
     "output_type": "stream",
     "text": [
      "num contours 198\n"
     ]
    },
    {
     "name": "stderr",
     "output_type": "stream",
     "text": [
      "[==============================================================] 11677 of 11677                                     ] 700 of 2422\n",
      "[====================================================            ] 4293 of 5254\r"
     ]
    },
    {
     "name": "stdout",
     "output_type": "stream",
     "text": [
      "num contours 82\n"
     ]
    },
    {
     "name": "stderr",
     "output_type": "stream",
     "text": [
      "[================================================================] 4616 of 4616========================            ] 4346 of 5254\n"
     ]
    },
    {
     "name": "stdout",
     "output_type": "stream",
     "text": [
      "num contours 43\n"
     ]
    },
    {
     "name": "stderr",
     "output_type": "stream",
     "text": [
      "[================================================================] 2422 of 2422[=========                                                       ] 1260 of 8343\n"
     ]
    },
    {
     "name": "stdout",
     "output_type": "stream",
     "text": [
      "num contours 57\n"
     ]
    },
    {
     "name": "stderr",
     "output_type": "stream",
     "text": [
      "[================================================================] 2790 of 2790===============                     ] 4824 of 7163\n"
     ]
    },
    {
     "name": "stdout",
     "output_type": "stream",
     "text": [
      "num contours 53\n"
     ]
    },
    {
     "name": "stderr",
     "output_type": "stream",
     "text": [
      "100%|██████████| 58/58 [2:47:48<00:00, 173.59s/it]\n",
      "[================================================================] 5254 of 5254\n"
     ]
    },
    {
     "name": "stdout",
     "output_type": "stream",
     "text": [
      "num contours 155\n"
     ]
    },
    {
     "name": "stderr",
     "output_type": "stream",
     "text": [
      "[================================================================] 7397 of 7397[===                                                              ] 330 of 6531\n",
      "[===                                                              ] 432 of 7187\r"
     ]
    },
    {
     "name": "stdout",
     "output_type": "stream",
     "text": [
      "num contours 216\n"
     ]
    },
    {
     "name": "stderr",
     "output_type": "stream",
     "text": [
      "[================================================================] 3954 of 3954[===============================================                 ] 2920 of 3954\n"
     ]
    },
    {
     "name": "stdout",
     "output_type": "stream",
     "text": [
      "num contours 70\n"
     ]
    },
    {
     "name": "stderr",
     "output_type": "stream",
     "text": [
      "[================================================================] 7163 of 7163==                                  ] 3102 of 6531\n",
      "[=============================================================   ] 7980 of 8343\r"
     ]
    },
    {
     "name": "stdout",
     "output_type": "stream",
     "text": [
      "num contours 195\n"
     ]
    },
    {
     "name": "stderr",
     "output_type": "stream",
     "text": [
      "[================================================================] 8343 of 8343=================================   ] 8064 of 8343\n"
     ]
    },
    {
     "name": "stdout",
     "output_type": "stream",
     "text": [
      "num contours 188\n"
     ]
    },
    {
     "name": "stderr",
     "output_type": "stream",
     "text": [
      "[================================================================] 7187 of 7187[==============================================================  ] 7056 of 7187\n"
     ]
    },
    {
     "name": "stdout",
     "output_type": "stream",
     "text": [
      "num contours 206\n"
     ]
    },
    {
     "name": "stderr",
     "output_type": "stream",
     "text": [
      "[================================================================] 6531 of 6531=================================   ] 6270 of 6531\n"
     ]
    },
    {
     "name": "stdout",
     "output_type": "stream",
     "text": [
      "num contours 194\n"
     ]
    },
    {
     "name": "stderr",
     "output_type": "stream",
     "text": [
      "[=====================================                           ] 2109 of 3644=============                       ] 3968 of 6125\n"
     ]
    },
    {
     "name": "stdout",
     "output_type": "stream",
     "text": [
      "num contours 180\n"
     ]
    },
    {
     "name": "stderr",
     "output_type": "stream",
     "text": [
      "[================================================================] 6125 of 6125                                       ] 0 of 2518\n",
      "[======================================                          ] 3720 of 6130\r"
     ]
    },
    {
     "name": "stdout",
     "output_type": "stream",
     "text": [
      "num contours 125\n"
     ]
    },
    {
     "name": "stderr",
     "output_type": "stream",
     "text": [
      "[================================================================] 2153 of 2153========                            ] 1430 of 2518\n"
     ]
    },
    {
     "name": "stdout",
     "output_type": "stream",
     "text": [
      "num contours 91\n"
     ]
    },
    {
     "name": "stderr",
     "output_type": "stream",
     "text": [
      "100%|██████████| 58/58 [2:49:53<00:00, 175.75s/it]\n",
      "[================================================================] 2518 of 2518\n"
     ]
    },
    {
     "name": "stdout",
     "output_type": "stream",
     "text": [
      "num contours 45\n"
     ]
    },
    {
     "name": "stderr",
     "output_type": "stream",
     "text": [
      "100%|██████████| 58/58 [2:50:10<00:00, 176.05s/it]\n",
      "[================================================================] 5095 of 5095\n"
     ]
    },
    {
     "name": "stdout",
     "output_type": "stream",
     "text": [
      "num contours 132\n"
     ]
    },
    {
     "name": "stderr",
     "output_type": "stream",
     "text": [
      "[================================================================] 3644 of 3644                                    ] 2340 of 5995\n"
     ]
    },
    {
     "name": "stdout",
     "output_type": "stream",
     "text": [
      "num contours 135\n"
     ]
    },
    {
     "name": "stderr",
     "output_type": "stream",
     "text": [
      "[================================================================] 6130 of 6130[                                                                   ] 0 of 2071\n",
      "[===============                                                  ] 943 of 4026\r"
     ]
    },
    {
     "name": "stdout",
     "output_type": "stream",
     "text": [
      "num contours 155\n"
     ]
    },
    {
     "name": "stderr",
     "output_type": "stream",
     "text": [
      "[================================================================] 2071 of 2071[                                                                   ] 0 of 3869\n"
     ]
    },
    {
     "name": "stdout",
     "output_type": "stream",
     "text": [
      "num contours 54\n"
     ]
    },
    {
     "name": "stderr",
     "output_type": "stream",
     "text": [
      "[================================================================] 5995 of 5995                                     ] 507 of 3869\n"
     ]
    },
    {
     "name": "stdout",
     "output_type": "stream",
     "text": [
      "num contours 144\n"
     ]
    },
    {
     "name": "stderr",
     "output_type": "stream",
     "text": [
      "[================================================================] 4026 of 4026[============                                                    ] 1540 of 7669\n"
     ]
    },
    {
     "name": "stdout",
     "output_type": "stream",
     "text": [
      "num contours 60\n"
     ]
    },
    {
     "name": "stderr",
     "output_type": "stream",
     "text": [
      "[================================================================] 3869 of 3869===========                         ] 2379 of 3869\n"
     ]
    },
    {
     "name": "stdout",
     "output_type": "stream",
     "text": [
      "num contours 112\n"
     ]
    },
    {
     "name": "stderr",
     "output_type": "stream",
     "text": [
      "[================================================================] 7669 of 7669                                    ] 1144 of 2571\n"
     ]
    },
    {
     "name": "stdout",
     "output_type": "stream",
     "text": [
      "num contours 104\n"
     ]
    },
    {
     "name": "stderr",
     "output_type": "stream",
     "text": [
      "100%|██████████| 58/58 [2:52:44<00:00, 178.69s/it]\n",
      "[================================================================] 3569 of 3569\n"
     ]
    },
    {
     "name": "stdout",
     "output_type": "stream",
     "text": [
      "num contours 122\n"
     ]
    },
    {
     "name": "stderr",
     "output_type": "stream",
     "text": [
      "[================================================================] 5287 of 5287                                       ] 0 of 4238\n",
      "[==                                                               ] 172 of 4238\r"
     ]
    },
    {
     "name": "stdout",
     "output_type": "stream",
     "text": [
      "num contours 98\n"
     ]
    },
    {
     "name": "stderr",
     "output_type": "stream",
     "text": [
      "[================================================================] 2571 of 2571                                       ] 0 of 4535\n"
     ]
    },
    {
     "name": "stdout",
     "output_type": "stream",
     "text": [
      "num contours 31\n"
     ]
    },
    {
     "name": "stderr",
     "output_type": "stream",
     "text": [
      "[================================================================] 2569 of 2569                                    ] 2024 of 4535\n"
     ]
    },
    {
     "name": "stdout",
     "output_type": "stream",
     "text": [
      "num contours 61\n"
     ]
    },
    {
     "name": "stderr",
     "output_type": "stream",
     "text": [
      "100%|██████████| 58/58 [2:53:42<00:00, 179.69s/it]\n",
      "[================================================================] 4535 of 4535\n"
     ]
    },
    {
     "name": "stdout",
     "output_type": "stream",
     "text": [
      "num contours 65\n"
     ]
    },
    {
     "name": "stderr",
     "output_type": "stream",
     "text": [
      "[================================================================] 4238 of 4238                                       ] 0 of 6892\n"
     ]
    },
    {
     "name": "stdout",
     "output_type": "stream",
     "text": [
      "num contours 35\n"
     ]
    },
    {
     "name": "stderr",
     "output_type": "stream",
     "text": [
      "[================================================================] 6892 of 6892                                    ] 1242 of 6892\n"
     ]
    },
    {
     "name": "stdout",
     "output_type": "stream",
     "text": [
      "num contours 62\n"
     ]
    },
    {
     "name": "stderr",
     "output_type": "stream",
     "text": [
      "[================================================================] 5772 of 5772                                       ] 0 of 5772\n"
     ]
    },
    {
     "name": "stdout",
     "output_type": "stream",
     "text": [
      "num contours 90\n"
     ]
    },
    {
     "name": "stderr",
     "output_type": "stream",
     "text": [
      "[==============================================================] 10133 of 10133                                      ] 0 of 10133\n"
     ]
    },
    {
     "name": "stdout",
     "output_type": "stream",
     "text": [
      "num contours 184\n"
     ]
    },
    {
     "name": "stderr",
     "output_type": "stream",
     "text": [
      "[==============================================================] 12753 of 12753                                       ] 0 of 4766\n"
     ]
    },
    {
     "name": "stdout",
     "output_type": "stream",
     "text": [
      "num contours 105\n"
     ]
    },
    {
     "name": "stderr",
     "output_type": "stream",
     "text": [
      "[================================================================] 4766 of 4766                                    ] 2064 of 4766\n"
     ]
    },
    {
     "name": "stdout",
     "output_type": "stream",
     "text": [
      "num contours 36\n"
     ]
    },
    {
     "name": "stderr",
     "output_type": "stream",
     "text": [
      "[================================================================] 4236 of 4236================                    ] 2967 of 4236\n"
     ]
    },
    {
     "name": "stdout",
     "output_type": "stream",
     "text": [
      "num contours 100\n"
     ]
    },
    {
     "name": "stderr",
     "output_type": "stream",
     "text": [
      "[================================================================] 5991 of 5991                                    ] 2520 of 5992\n"
     ]
    },
    {
     "name": "stdout",
     "output_type": "stream",
     "text": [
      "num contours 73\n"
     ]
    },
    {
     "name": "stderr",
     "output_type": "stream",
     "text": [
      "[================================================================] 3208 of 3208                                       ] 0 of 3208\n"
     ]
    },
    {
     "name": "stdout",
     "output_type": "stream",
     "text": [
      "num contours 109\n"
     ]
    },
    {
     "name": "stderr",
     "output_type": "stream",
     "text": [
      "100%|██████████| 58/58 [3:02:01<00:00, 188.31s/it]\n",
      "[================================================================] 5992 of 5992\n"
     ]
    },
    {
     "name": "stdout",
     "output_type": "stream",
     "text": [
      "num contours 287\n"
     ]
    },
    {
     "name": "stderr",
     "output_type": "stream",
     "text": [
      "[================================================================] 2664 of 2664                                       ] 0 of 2664\n"
     ]
    },
    {
     "name": "stdout",
     "output_type": "stream",
     "text": [
      "num contours 45\n"
     ]
    },
    {
     "name": "stderr",
     "output_type": "stream",
     "text": [
      "[==============================================================] 11380 of 11380                                      ] 0 of 11380\n"
     ]
    },
    {
     "name": "stdout",
     "output_type": "stream",
     "text": [
      "num contours 299\n"
     ]
    },
    {
     "name": "stderr",
     "output_type": "stream",
     "text": [
      "[==============================================================] 12498 of 12498                                      ] 0 of 12498\n"
     ]
    },
    {
     "name": "stdout",
     "output_type": "stream",
     "text": [
      "num contours 94\n"
     ]
    },
    {
     "name": "stderr",
     "output_type": "stream",
     "text": [
      "[================================================================] 5675 of 5675                                       ] 0 of 5675\n"
     ]
    },
    {
     "name": "stdout",
     "output_type": "stream",
     "text": [
      "num contours 97\n"
     ]
    },
    {
     "name": "stderr",
     "output_type": "stream",
     "text": [
      "[================================================================] 5735 of 5735                                       ] 0 of 5735\n"
     ]
    },
    {
     "name": "stdout",
     "output_type": "stream",
     "text": [
      "num contours 224\n"
     ]
    },
    {
     "name": "stderr",
     "output_type": "stream",
     "text": [
      "100%|██████████| 64/64 [3:14:48<00:00, 182.64s/it]\n"
     ]
    }
   ],
   "source": [
    "for i in range(n_cpu):\n",
    "    idx1 = i*batch_size\n",
    "    idx2 = (i+1)*batch_size\n",
    "    if i==11:\n",
    "        idx2 = len(img_files)-1\n",
    "        \n",
    "    p = Process(target=p_, args=(idx1, idx2))\n",
    "    p.start()"
   ]
  },
  {
   "cell_type": "code",
   "execution_count": null,
   "metadata": {},
   "outputs": [],
   "source": []
  }
 ],
 "metadata": {
  "kernelspec": {
   "display_name": "Python 3",
   "language": "python",
   "name": "python3"
  },
  "language_info": {
   "codemirror_mode": {
    "name": "ipython",
    "version": 3
   },
   "file_extension": ".py",
   "mimetype": "text/x-python",
   "name": "python",
   "nbconvert_exporter": "python",
   "pygments_lexer": "ipython3",
   "version": "3.6.7"
  }
 },
 "nbformat": 4,
 "nbformat_minor": 2
}
